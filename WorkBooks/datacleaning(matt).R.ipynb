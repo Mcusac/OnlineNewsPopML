{
 "cells": [
  {
   "cell_type": "code",
   "execution_count": 5,
   "id": "4ff51733",
   "metadata": {},
   "outputs": [
    {
     "name": "stderr",
     "output_type": "stream",
     "text": [
      "Parsed with column specification:\n",
      "cols(\n",
      "  .default = col_double(),\n",
      "  url = col_character()\n",
      ")\n",
      "See spec(...) for full column specifications.\n"
     ]
    },
    {
     "ename": "ERROR",
     "evalue": "Error in View(OnlineNewsPopularity): 'View()' not yet supported in the Jupyter R kernel\n",
     "output_type": "error",
     "traceback": [
      "Error in View(OnlineNewsPopularity): 'View()' not yet supported in the Jupyter R kernel\nTraceback:\n",
      "1. View(OnlineNewsPopularity)",
      "2. stop(sQuote(\"View()\"), \" not yet supported in the Jupyter R kernel\")"
     ]
    }
   ],
   "source": [
    "library(readr)\n",
    "OnlineNewsPopularity <- read_csv(\"../Data/OnlineNewsPopularity.csv\")\n",
    "#View(OnlineNewsPopularity)"
   ]
  },
  {
   "cell_type": "markdown",
   "id": "871d345a",
   "metadata": {},
   "source": [
    "## Days of The Week"
   ]
  },
  {
   "cell_type": "code",
   "execution_count": null,
   "id": "9f4ef75a",
   "metadata": {},
   "outputs": [],
   "source": [
    "# Create a new column named `day_of_week`\n",
    "OnlineNewsPopularity$day_of_week <- NA\n",
    "\n",
    "# Fill the new column with the appropriate values\n",
    "for (i in 1:nrow(OnlineNewsPopularity)) {\n",
    "  if (OnlineNewsPopularity$weekday_is_monday[i] == 1) {\n",
    "    OnlineNewsPopularity$day_of_week[i] <- \"Mon\"\n",
    "  } else if (OnlineNewsPopularity$weekday_is_tuesday[i] == 1) {\n",
    "    OnlineNewsPopularity$day_of_week[i] <- \"Tue\"\n",
    "  } else if (OnlineNewsPopularity$weekday_is_wednesday[i] == 1) {\n",
    "    OnlineNewsPopularity$day_of_week[i] <- \"Wed\"\n",
    "  } else if (OnlineNewsPopularity$weekday_is_thursday[i] == 1) {\n",
    "    OnlineNewsPopularity$day_of_week[i] <- \"Thu\"\n",
    "  } else if (OnlineNewsPopularity$weekday_is_friday[i] == 1) {\n",
    "    OnlineNewsPopularity$day_of_week[i] <- \"Fri\"\n",
    "  } else if (OnlineNewsPopularity$weekday_is_saturday[i] == 1) {\n",
    "    OnlineNewsPopularity$day_of_week[i] <- \"Sat\"\n",
    "  } else {\n",
    "    OnlineNewsPopularity$day_of_week[i] <- \"Sun\"\n",
    "  }\n",
    "}"
   ]
  },
  {
   "cell_type": "code",
   "execution_count": 6,
   "id": "86abd6f1",
   "metadata": {},
   "outputs": [],
   "source": [
    "# drop used columns (only run once)\n",
    "OnlineNewsPopularity <- OnlineNewsPopularity[, -which(names(OnlineNewsPopularity) == \"weekday_is_monday\")]\n",
    "OnlineNewsPopularity <- OnlineNewsPopularity[, -which(names(OnlineNewsPopularity) == \"weekday_is_tuesday\")]\n",
    "OnlineNewsPopularity <- OnlineNewsPopularity[, -which(names(OnlineNewsPopularity) == \"weekday_is_wednesday\")]\n",
    "OnlineNewsPopularity <- OnlineNewsPopularity[, -which(names(OnlineNewsPopularity) == \"weekday_is_thursday\")]\n",
    "OnlineNewsPopularity <- OnlineNewsPopularity[, -which(names(OnlineNewsPopularity) == \"weekday_is_friday\")]\n",
    "OnlineNewsPopularity <- OnlineNewsPopularity[, -which(names(OnlineNewsPopularity) == \"weekday_is_saturday\")]\n",
    "OnlineNewsPopularity <- OnlineNewsPopularity[, -which(names(OnlineNewsPopularity) == \"weekday_is_sunday\")]"
   ]
  },
  {
   "cell_type": "markdown",
   "id": "2a94de5b",
   "metadata": {},
   "source": [
    "## Data Channel"
   ]
  },
  {
   "cell_type": "code",
   "execution_count": null,
   "id": "c67ac9b0",
   "metadata": {},
   "outputs": [],
   "source": [
    "# Create a new column named `data_channel`\n",
    "OnlineNewsPopularity$data_channel <- NA\n",
    "\n",
    "# Fill the new column with the appropriate values\n",
    "for (i in 1:nrow(OnlineNewsPopularity)) {\n",
    "  if (OnlineNewsPopularity$data_channel_is_bus[i] == 1) {\n",
    "    OnlineNewsPopularity$data_channel[i] <- \"Bus\"\n",
    "  } else if (OnlineNewsPopularity$data_channel_is_lifestyle[i] == 1) {\n",
    "    OnlineNewsPopularity$data_channel[i] <- \"Lifestyle\"\n",
    "  } else if (OnlineNewsPopularity$data_channel_is_entertainment[i] == 1) {\n",
    "    OnlineNewsPopularity$data_channel[i] <- \"Entertainment\"\n",
    "  } else if (OnlineNewsPopularity$data_channel_is_socmed[i] == 1) {\n",
    "    OnlineNewsPopularity$data_channel[i] <- \"Socmed\"\n",
    "  } else if (OnlineNewsPopularity$data_channel_is_tech[i] == 1) {\n",
    "    OnlineNewsPopularity$data_channel[i] <- \"Tech\"\n",
    "  } else {\n",
    "    OnlineNewsPopularity$data_channel[i] <- \"World\"\n",
    "  }\n",
    "}"
   ]
  },
  {
   "cell_type": "code",
   "execution_count": 7,
   "id": "3f650642",
   "metadata": {},
   "outputs": [],
   "source": [
    "# drop used columns (only run once)\n",
    "OnlineNewsPopularity <- OnlineNewsPopularity[, -which(names(OnlineNewsPopularity) == \"data_channel_is_lifestyle\")]\n",
    "OnlineNewsPopularity <- OnlineNewsPopularity[, -which(names(OnlineNewsPopularity) == \"data_channel_is_entertainment\")]\n",
    "OnlineNewsPopularity <- OnlineNewsPopularity[, -which(names(OnlineNewsPopularity) == \"data_channel_is_bus\")]\n",
    "OnlineNewsPopularity <- OnlineNewsPopularity[, -which(names(OnlineNewsPopularity) == \"data_channel_is_socmed\")]\n",
    "OnlineNewsPopularity <- OnlineNewsPopularity[, -which(names(OnlineNewsPopularity) == \"data_channel_is_tech\")]\n",
    "OnlineNewsPopularity <- OnlineNewsPopularity[, -which(names(OnlineNewsPopularity) == \"data_channel_is_world\")]"
   ]
  },
  {
   "cell_type": "code",
   "execution_count": 8,
   "id": "8e280f75",
   "metadata": {},
   "outputs": [],
   "source": [
    "# write the data to csv\n",
    "write.csv(OnlineNewsPopularity, file = \"../Data/ONPClean1.csv\")"
   ]
  }
 ],
 "metadata": {
  "kernelspec": {
   "display_name": "R",
   "language": "R",
   "name": "ir"
  },
  "language_info": {
   "codemirror_mode": "r",
   "file_extension": ".r",
   "mimetype": "text/x-r-source",
   "name": "R",
   "pygments_lexer": "r",
   "version": "3.6.1"
  }
 },
 "nbformat": 4,
 "nbformat_minor": 5
}
