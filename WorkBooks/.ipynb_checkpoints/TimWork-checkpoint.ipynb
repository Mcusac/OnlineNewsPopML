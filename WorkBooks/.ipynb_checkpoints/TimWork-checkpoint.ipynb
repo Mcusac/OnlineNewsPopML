{
 "cells": [
  {
   "cell_type": "code",
   "execution_count": null,
   "id": "80352350",
   "metadata": {},
   "outputs": [],
   "source": [
    "Frequency check of categorical variables\n",
    "dfClean['parameterWaterBodyCategory'].value_counts() \n",
    "dfClean['observedPropertyDeterminandCode'].value_counts()\n",
    "dfClean['observedPropertyDeterminandCode'].value_counts()\n",
    "dfClean['procedureAnalysedFraction'].value_counts()\n",
    "dfClean['procedureAnalysedMedia'].value_counts()\n",
    "dfClean['resultUom'].value_counts()\n",
    "dfClean['parameterSamplingPeriod'].value_counts()\n",
    "dfClean['waterBodyIdentifier'].value_counts()\n",
    "dfClean['Country'].value_counts()\n",
    "Identify the categorical variables\n",
    "categorical_variables = ['parameterWaterBodyCategory', 'observedPropertyDeterminandCode',\n",
    "                         'procedureAnalysedFraction', 'procedureAnalysedMedia', 'resultUom',\n",
    "                         'parameterSamplingPeriod', 'waterBodyIdentifier', 'Country']\n",
    "\n",
    "categorical_variables = ['parameterWaterBodyCategory']\n",
    "Group the DataFrame by the categorical variables\n",
    "for column in categorical_variables:\n",
    "  grouped_df = dfClean.groupby(column)\n",
    "\n",
    "Create a histogram for each group\n",
    "  plt.figure()\n",
    "  grouped_df[column].hist()\n",
    "  plt.xlabel(column)\n",
    "  plt.ylabel('Frequency')\n",
    "  plt.title(f'Histogram of {column}')\n",
    "  plt.show()"
   ]
  }
 ],
 "metadata": {
  "kernelspec": {
   "display_name": "Python 3 (ipykernel)",
   "language": "python",
   "name": "python3"
  },
  "language_info": {
   "codemirror_mode": {
    "name": "ipython",
    "version": 3
   },
   "file_extension": ".py",
   "mimetype": "text/x-python",
   "name": "python",
   "nbconvert_exporter": "python",
   "pygments_lexer": "ipython3",
   "version": "3.7.1"
  }
 },
 "nbformat": 4,
 "nbformat_minor": 5
}
