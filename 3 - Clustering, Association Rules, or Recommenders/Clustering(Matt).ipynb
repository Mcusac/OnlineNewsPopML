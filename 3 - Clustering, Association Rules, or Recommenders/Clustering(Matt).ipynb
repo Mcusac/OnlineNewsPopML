{
 "cells": [
  {
   "cell_type": "markdown",
   "metadata": {},
   "source": [
    "___\n",
    "Team Member Names\n",
    "- Name 1: Matthew D. Cusack\n",
    "- Name 2: Tim Cabaza\n",
    "- Name 3: Amy Adyanthaya"
   ]
  },
  {
   "cell_type": "markdown",
   "metadata": {},
   "source": [
    "<a id=\"top\"></a>\n",
    "________\n",
    "# Clustering\n",
    "____\n",
    "\n",
    "## Contents\n",
    "* <a href=\"#Imports\">Dependency and Data Imports</a>\n",
    "* <a href=\"#DataPrep\">Data Preparation</a>\n",
    "* <a href=\"#BusinessUnderstanding\">Business Understanding</a>\n",
    "* <a href=\"#DataUnderstanding\">Data Understanding</a>\n",
    "* <a href=\"#ModelEval\">Modeling and Evaluation</a>\n",
    "    * <a href=\"#OptionA\">Option A: Cluster Analysis</a>\n",
    "    * <a href=\"#OptionB\">Option B: Association Rule Mining</a>\n",
    "    * <a href=\"#OptionC\">Option C: Collaborative Filtering</a>\n",
    "* <a href=\"#Deployment\">Deployment</a>\n",
    "* <a href=\"#Exceptional\">Exceptional Work</a>\n",
    "_______"
   ]
  },
  {
   "cell_type": "markdown",
   "metadata": {},
   "source": [
    "___\n",
    "<a href=\"#top\">Back to Top</a>\n",
    "<a id=\"Imports\"></a>\n",
    "## Imports"
   ]
  },
  {
   "cell_type": "code",
   "execution_count": null,
   "metadata": {},
   "outputs": [],
   "source": [
    "# Load Dependencies\n",
    "import numpy as np\n",
    "import pandas as pd\n",
    "import matplotlib.pyplot as plt"
   ]
  },
  {
   "cell_type": "code",
   "execution_count": null,
   "metadata": {},
   "outputs": [],
   "source": [
    "# file path\n",
    "file_path = \"../1 - Visualization and Data Preprocessing/Data/ONPClean2.csv\" # previously cleaned\n",
    "# file_path = '../1 - Visualization and Data Preprocessing/Data/OnlineNewsPopularity.csv' # unclean\n",
    "\n",
    "# Load the dataset\n",
    "df = pd.read_csv(file_path)\n",
    "\n",
    "# Set the maximum number of columns to display to None\n",
    "pd.set_option('display.max_columns', None)\n",
    "df.head()"
   ]
  },
  {
   "cell_type": "markdown",
   "metadata": {},
   "source": [
    "___\n",
    "<a href=\"#top\">Back to Top</a>\n",
    "<a id=\"DataPrep\"></a>\n",
    "## Data Preperation\n",
    "To Do:\n",
    "\n",
    "    Remove Outliers\n",
    "    Scale Data"
   ]
  },
  {
   "cell_type": "code",
   "execution_count": null,
   "metadata": {},
   "outputs": [],
   "source": [
    "# Scale the features in the training and testing sets using standard scalar.\n",
    "# scaler = StandardScaler()\n",
    "\n",
    "# X_train = scaler.fit_transform(X_train)\n",
    "# X_test = scaler.transform(X_test)\n",
    "\n",
    "# Scale the features using QuantileTransformer with n_quantiles=100 AFTER using StandardScalar().\n",
    "# quantile_transformer = QuantileTransformer(n_quantiles=100)\n",
    "\n",
    "# X_train_q = quantile_transformer.fit_transform(X_train)\n",
    "# X_test_q = scaler.transform(X_test)"
   ]
  },
  {
   "cell_type": "code",
   "execution_count": null,
   "metadata": {},
   "outputs": [],
   "source": [
    "# random_state = 42\n",
    "\n",
    "# # Create a StratifiedKFold object with n_splits=10\n",
    "# kfold = StratifiedKFold(n_splits=10, random_state = random_state)\n",
    "\n",
    "# # Remove target, related variables, and factor other targets due to them being categorical\n",
    "# X0 = pd.get_dummies(df1, columns=['day_of_week'])\n",
    "# X0 = pd.get_dummies(X0, columns=['news_category'])\n",
    "# X1 = X0.drop(['share_quantile_ranges', 'shares'], axis=1) \n",
    "# y1 = X0['share_quantile_ranges']\n",
    "# # print(X1.columns)\n",
    "# # print(y1)\n",
    "\n",
    "# # Split the data into training and testing folds\n",
    "# X_train, X_test, y_train, y_test = [], [], [], []\n",
    "# for train_index, test_index in kfold.split(X, y):\n",
    "#     X_train.append(X[train_index])\n",
    "#     X_test.append(X[test_index])\n",
    "#     y_train.append(y[train_index])\n",
    "#     y_test.append(y[test_index])"
   ]
  },
  {
   "cell_type": "markdown",
   "metadata": {},
   "source": [
    "___\n",
    "<a href=\"#top\">Back to Top</a>\n",
    "<a id=\"BusinessUnderstanding\"></a>\n",
    "## Business Understanding (10 points).\n",
    "    Describe the purpose of the data set you selected (i.e., why was this data\n",
    "    collected in the first place?). \n",
    "    \n",
    "    How will you measure the effectiveness of a good algorithm? \n",
    "    \n",
    "    Why does your chosen validation method make sense for this specific dataset and the stakeholders needs?"
   ]
  },
  {
   "cell_type": "markdown",
   "metadata": {},
   "source": [
    "____\n",
    "<a href=\"#top\">Back to Top</a>\n",
    "<a id=\"DataUnderstanding\"></a>\n",
    "## Data Understanding (20 points total)\n",
    "\n",
    "    [10 points]\n",
    "        Describe the meaning and type of data (scale, values, etc.) for each attribute in the data file. \n",
    "    \n",
    "        Verify data quality: \n",
    "            Are there missing values? \n",
    "            Duplicate data? Outliers? \n",
    "            Are those mistakes? \n",
    "            How do you deal with these problems?\n",
    "\n",
    "    [10 points]\n",
    "        Visualize the any important attributes appropriately.\n",
    "        Important: Provide an interpretation for any charts or graphs.\n"
   ]
  },
  {
   "cell_type": "markdown",
   "metadata": {},
   "source": [
    "___\n",
    "<a href=\"#top\">Back to Top</a>\n",
    "<a id=\"ModelEval\"></a>\n",
    "## Modeling and Evaluation (50 points total)\n",
    "    Different tasks will require different evaluation methods. Be as thorough as possible when analyzing\n",
    "    the data you have chosen and use visualizations of the results to explain the performance and\n",
    "    expected outcomes whenever possible. Guide the reader through your analysis with plenty of\n",
    "    discussion of the results."
   ]
  },
  {
   "cell_type": "markdown",
   "metadata": {},
   "source": [
    "___\n",
    "<a href=\"#top\">Back to Top</a>\n",
    "<a id=\"OptionA\"></a>\n",
    "\n",
    "Option A: Cluster Analysis\n",
    "\n",
    "    Perform cluster analysis using several clustering methods\n",
    "\n",
    "    How did you determine a suitable number of clusters for each method?\n",
    "\n",
    "    Use internal and/or external validation measures to describe and compare the\n",
    "    clusterings and the clusters (some visual methods would be good).\n",
    "\n",
    "    Describe your results. What findings are the most interesting and why?"
   ]
  },
  {
   "cell_type": "code",
   "execution_count": null,
   "metadata": {},
   "outputs": [],
   "source": [
    "import numpy as np\n",
    "from sklearn.cluster import KMeans\n",
    "\n",
    "# Load the data\n",
    "X = np.loadtxt('data.csv', delimiter=',')\n",
    "\n",
    "# Standardize the data\n",
    "X_std = (X - X.mean(axis=0)) / X.std(axis=0)\n",
    "\n",
    "# Choose a clustering algorithm\n",
    "kmeans = KMeans(n_clusters=3)\n",
    "\n",
    "# Cluster the data\n",
    "kmeans.fit(X_std)\n",
    "\n",
    "# Get the cluster labels\n",
    "labels = kmeans.labels_\n",
    "\n",
    "# Visualize the results\n",
    "import matplotlib.pyplot as plt\n",
    "\n",
    "plt.scatter(X_std[:, 0], X_std[:, 1], c=labels)\n",
    "plt.xlabel('Feature 1')\n",
    "plt.ylabel('Feature 2')\n",
    "plt.title('Clustered Data')\n",
    "plt.show()\n"
   ]
  },
  {
   "cell_type": "markdown",
   "metadata": {},
   "source": [
    "___\n",
    "<a href=\"#top\">Back to Top</a>\n",
    "<a id=\"OptionB\"></a>\n",
    "\n",
    "Option B: Association Rule Mining\n",
    "\n",
    "    Create frequent itemsets and association rules.\n",
    "\n",
    "    Use tables/visualization to discuss the found results.\n",
    "\n",
    "    Use several measure for evaluating how interesting different rules are.\n",
    "\n",
    "    Describe your results. What findings are the most compelling and why?"
   ]
  },
  {
   "cell_type": "code",
   "execution_count": null,
   "metadata": {
    "vscode": {
     "languageId": "r"
    }
   },
   "outputs": [],
   "source": [
    "# Using R\n",
    "\n",
    "# Load the data\n",
    "data <- read.csv(\"data.csv\")\n",
    "\n",
    "# Create a transaction dataset\n",
    "transaction_data <- data.frame(TID = unique(data$TID), items = data$items)\n",
    "\n",
    "# Create an association rules object\n",
    "arules <- apriori(transaction_data, minlen = 2, supp = 0.01, conf = 0.5)\n",
    "\n",
    "# Get the top 10 association rules\n",
    "top_rules <- arules[1:10]\n",
    "\n",
    "# Print the top 10 association rules\n",
    "print(top_rules)"
   ]
  },
  {
   "cell_type": "markdown",
   "metadata": {},
   "source": [
    "___\n",
    "<a href=\"#top\">Back to Top</a>\n",
    "<a id=\"OptionC\"></a>\n",
    "\n",
    "Option C: Collaborative Filtering\n",
    "\n",
    "    Create user-item matrices or item-item matrices using collaborative filtering\n",
    "\n",
    "    Determine performance of the recommendations using different performance measures\n",
    "    and explain what each measure\n",
    "\n",
    "    Use tables/visualization to discuss the found results. Explain each visualization in detail.\n",
    "\n",
    "    Describe your results. What findings are the most compelling and why?"
   ]
  },
  {
   "cell_type": "code",
   "execution_count": null,
   "metadata": {},
   "outputs": [],
   "source": [
    "import graphlab as gl\n",
    "\n",
    "# Load the data\n",
    "data = gl.SFrame('data.csv')\n",
    "\n",
    "# Create a user-item matrix\n",
    "user_item_matrix = data.pivot_table(values='rating', index='user_id', column='item_id', aggfunc='mean')\n",
    "\n",
    "# Create a recommender system\n",
    "recommender = gl.recommender.create(user_item_matrix, k=10)\n",
    "\n",
    "# Get the top 10 recommendations for a user\n",
    "recommendations = recommender.recommend(user_id=1, k=10)\n",
    "\n",
    "# Print the top 10 recommendations\n",
    "print(recommendations)"
   ]
  },
  {
   "cell_type": "markdown",
   "metadata": {},
   "source": [
    "___\n",
    "<a href=\"#top\">Back to Top</a>\n",
    "<a id=\"Deployment\"></a>\n",
    "## Deployment (10 points total)\n",
    "    Be critical of your performance and tell the reader how you current model might be usable by\n",
    "    other parties. Did you achieve your goals? If not, can you reign in the utility of your modeling?\n",
    "\n",
    "    How useful is your model for interested parties (i.e., the companies or organizations\n",
    "    that might want to use it)?\n",
    "\n",
    "    How would your deploy your model for interested parties?\n",
    "\n",
    "    What other data should be collected?\n",
    "\n",
    "    How often would the model need to be updated, etc.?"
   ]
  },
  {
   "cell_type": "markdown",
   "metadata": {},
   "source": [
    "___\n",
    "<a href=\"#top\">Back to Top</a>\n",
    "<a id=\"Exceptional\"></a>\n",
    "## Exceptional Work (10 points total)\n",
    "    You have free reign to provide additional analyses or combine analyses"
   ]
  }
 ],
 "metadata": {
  "language_info": {
   "name": "python"
  }
 },
 "nbformat": 4,
 "nbformat_minor": 2
}
