{
 "cells": [
  {
   "cell_type": "code",
   "execution_count": 1,
   "metadata": {},
   "outputs": [],
   "source": [
    "# Load Dependencies\n",
    "import numpy as np\n",
    "import pandas as pd\n",
    "import matplotlib.pyplot as plt\n",
    "# this import allows you train and test you test split\n",
    "from sklearn.model_selection import train_test_split\n",
    "# this import allows you to standardize your data, scaling so that all features have a mean of zero and a standard deviation of 1. \n",
    "from sklearn.preprocessing import StandardScaler, QuantileTransformer\n",
    "# this import allows you to create a logistic regression model; type of machine learning model that can be used for classification tasks \n",
    "from sklearn.linear_model import LogisticRegression\n",
    "# this import allows you to create a support vector machine SVM model, a type of ML model that can be used for classification tasks. \n",
    "from sklearn.svm import SVC\n",
    "# this import allows you to perform CV on your model, a technique for evaluating the performance of a ML on unseen data\n",
    "from sklearn.model_selection import cross_val_score\n",
    "# these imports allow you to calculate various evaluation metrics for your ML model. Eval metrics are used to asses the performance of a ML on held-out test set. \n",
    "from sklearn.metrics import accuracy_score, precision_score, recall_score, f1_score, roc_auc_score, roc_curve\n",
    "# for testing differences with 95% confidence\n",
    "from scipy.stats import ttest_rel\n",
    "# for RandomForest models\n",
    "from sklearn.ensemble import RandomForestClassifier\n",
    "# for KNN models\n",
    "from sklearn.neighbors import KNeighborsClassifier\n",
    "# # for dimensionality reduction using PCA\n",
    "# from sklearn.decomposition import PCA\n",
    "# for feature selection\n",
    "from sklearn.feature_selection import SelectKBest, f_classif\n",
    "\n",
    "\n",
    "import seaborn as sns\n",
    "import matplotlib.pyplot as plt\n",
    "from sklearn.model_selection import cross_val_score\n",
    "from sklearn.decomposition import PCA\n",
    "from sklearn.model_selection import train_test_split\n",
    "from sklearn.preprocessing import StandardScaler"
   ]
  },
  {
   "cell_type": "code",
   "execution_count": 2,
   "metadata": {},
   "outputs": [
    {
     "data": {
      "text/html": [
       "<div>\n",
       "<style scoped>\n",
       "    .dataframe tbody tr th:only-of-type {\n",
       "        vertical-align: middle;\n",
       "    }\n",
       "\n",
       "    .dataframe tbody tr th {\n",
       "        vertical-align: top;\n",
       "    }\n",
       "\n",
       "    .dataframe thead th {\n",
       "        text-align: right;\n",
       "    }\n",
       "</style>\n",
       "<table border=\"1\" class=\"dataframe\">\n",
       "  <thead>\n",
       "    <tr style=\"text-align: right;\">\n",
       "      <th></th>\n",
       "      <th>url_name</th>\n",
       "      <th>date</th>\n",
       "      <th>timedelta</th>\n",
       "      <th>n_tokens_title</th>\n",
       "      <th>n_unique_tokens</th>\n",
       "      <th>average_token_length</th>\n",
       "      <th>num_keywords</th>\n",
       "      <th>kw_min_min</th>\n",
       "      <th>kw_avg_min</th>\n",
       "      <th>kw_max_max</th>\n",
       "      <th>kw_avg_max</th>\n",
       "      <th>kw_min_avg</th>\n",
       "      <th>kw_max_avg</th>\n",
       "      <th>is_weekend</th>\n",
       "      <th>LDA_00</th>\n",
       "      <th>LDA_01</th>\n",
       "      <th>LDA_02</th>\n",
       "      <th>LDA_03</th>\n",
       "      <th>LDA_04</th>\n",
       "      <th>global_subjectivity</th>\n",
       "      <th>global_sentiment_polarity</th>\n",
       "      <th>global_rate_positive_words</th>\n",
       "      <th>global_rate_negative_words</th>\n",
       "      <th>rate_positive_words</th>\n",
       "      <th>rate_negative_words</th>\n",
       "      <th>avg_positive_polarity</th>\n",
       "      <th>min_positive_polarity</th>\n",
       "      <th>max_positive_polarity</th>\n",
       "      <th>avg_negative_polarity</th>\n",
       "      <th>min_negative_polarity</th>\n",
       "      <th>max_negative_polarity</th>\n",
       "      <th>title_subjectivity</th>\n",
       "      <th>title_sentiment_polarity</th>\n",
       "      <th>abs_title_subjectivity</th>\n",
       "      <th>abs_title_sentiment_polarity</th>\n",
       "      <th>shares</th>\n",
       "      <th>day_of_week</th>\n",
       "      <th>news_category</th>\n",
       "      <th>year</th>\n",
       "      <th>month</th>\n",
       "      <th>log_shares</th>\n",
       "      <th>log_n_tokens_content</th>\n",
       "      <th>log_num_hrefs</th>\n",
       "      <th>log_num_self_hrefs</th>\n",
       "      <th>log_num_imgs</th>\n",
       "      <th>log_num_videos</th>\n",
       "      <th>log_kw_max_min</th>\n",
       "      <th>log_kw_min_max</th>\n",
       "      <th>log_kw_avg_avg</th>\n",
       "      <th>log_self_reference_min_shares</th>\n",
       "      <th>log_self_reference_max_shares</th>\n",
       "      <th>log_self_reference_avg_sharess</th>\n",
       "    </tr>\n",
       "  </thead>\n",
       "  <tbody>\n",
       "    <tr>\n",
       "      <th>0</th>\n",
       "      <td>amazon-instant-video-browser/</td>\n",
       "      <td>2013-01-07</td>\n",
       "      <td>731.0</td>\n",
       "      <td>12.0</td>\n",
       "      <td>0.663594</td>\n",
       "      <td>4.680365</td>\n",
       "      <td>5.0</td>\n",
       "      <td>0.0</td>\n",
       "      <td>0.0</td>\n",
       "      <td>0.0</td>\n",
       "      <td>0.0</td>\n",
       "      <td>0.0</td>\n",
       "      <td>0.0</td>\n",
       "      <td>0.0</td>\n",
       "      <td>0.500331</td>\n",
       "      <td>0.378279</td>\n",
       "      <td>0.040005</td>\n",
       "      <td>0.041263</td>\n",
       "      <td>0.040123</td>\n",
       "      <td>0.521617</td>\n",
       "      <td>0.092562</td>\n",
       "      <td>0.045662</td>\n",
       "      <td>0.013699</td>\n",
       "      <td>0.769231</td>\n",
       "      <td>0.230769</td>\n",
       "      <td>0.378636</td>\n",
       "      <td>0.100000</td>\n",
       "      <td>0.7</td>\n",
       "      <td>-0.350000</td>\n",
       "      <td>-0.6</td>\n",
       "      <td>-0.200</td>\n",
       "      <td>0.500000</td>\n",
       "      <td>-0.1875</td>\n",
       "      <td>0.000000</td>\n",
       "      <td>0.1875</td>\n",
       "      <td>593</td>\n",
       "      <td>Monday</td>\n",
       "      <td>Entertainment</td>\n",
       "      <td>2013</td>\n",
       "      <td>1</td>\n",
       "      <td>6.386879</td>\n",
       "      <td>5.393628</td>\n",
       "      <td>1.609438</td>\n",
       "      <td>1.098612</td>\n",
       "      <td>0.693147</td>\n",
       "      <td>0.0</td>\n",
       "      <td>0.0</td>\n",
       "      <td>0.0</td>\n",
       "      <td>0.0</td>\n",
       "      <td>6.208590</td>\n",
       "      <td>6.208590</td>\n",
       "      <td>6.208590</td>\n",
       "    </tr>\n",
       "    <tr>\n",
       "      <th>1</th>\n",
       "      <td>reeddit-reddit/</td>\n",
       "      <td>2013-01-07</td>\n",
       "      <td>731.0</td>\n",
       "      <td>8.0</td>\n",
       "      <td>0.821705</td>\n",
       "      <td>4.546154</td>\n",
       "      <td>9.0</td>\n",
       "      <td>0.0</td>\n",
       "      <td>0.0</td>\n",
       "      <td>0.0</td>\n",
       "      <td>0.0</td>\n",
       "      <td>0.0</td>\n",
       "      <td>0.0</td>\n",
       "      <td>0.0</td>\n",
       "      <td>0.022265</td>\n",
       "      <td>0.022446</td>\n",
       "      <td>0.022276</td>\n",
       "      <td>0.251465</td>\n",
       "      <td>0.681548</td>\n",
       "      <td>0.381987</td>\n",
       "      <td>0.152189</td>\n",
       "      <td>0.038462</td>\n",
       "      <td>0.007692</td>\n",
       "      <td>0.833333</td>\n",
       "      <td>0.166667</td>\n",
       "      <td>0.353939</td>\n",
       "      <td>0.033333</td>\n",
       "      <td>0.7</td>\n",
       "      <td>-0.400000</td>\n",
       "      <td>-0.4</td>\n",
       "      <td>-0.400</td>\n",
       "      <td>0.250000</td>\n",
       "      <td>0.2000</td>\n",
       "      <td>0.250000</td>\n",
       "      <td>0.2000</td>\n",
       "      <td>1300</td>\n",
       "      <td>Monday</td>\n",
       "      <td>Tech</td>\n",
       "      <td>2013</td>\n",
       "      <td>1</td>\n",
       "      <td>7.170888</td>\n",
       "      <td>4.875197</td>\n",
       "      <td>2.079442</td>\n",
       "      <td>1.609438</td>\n",
       "      <td>0.000000</td>\n",
       "      <td>0.0</td>\n",
       "      <td>0.0</td>\n",
       "      <td>0.0</td>\n",
       "      <td>0.0</td>\n",
       "      <td>7.170888</td>\n",
       "      <td>7.170888</td>\n",
       "      <td>7.170888</td>\n",
       "    </tr>\n",
       "    <tr>\n",
       "      <th>2</th>\n",
       "      <td>rage-comics-dying/</td>\n",
       "      <td>2013-01-07</td>\n",
       "      <td>731.0</td>\n",
       "      <td>9.0</td>\n",
       "      <td>0.608602</td>\n",
       "      <td>4.759494</td>\n",
       "      <td>7.0</td>\n",
       "      <td>0.0</td>\n",
       "      <td>0.0</td>\n",
       "      <td>0.0</td>\n",
       "      <td>0.0</td>\n",
       "      <td>0.0</td>\n",
       "      <td>0.0</td>\n",
       "      <td>0.0</td>\n",
       "      <td>0.028575</td>\n",
       "      <td>0.199626</td>\n",
       "      <td>0.028615</td>\n",
       "      <td>0.714611</td>\n",
       "      <td>0.028572</td>\n",
       "      <td>0.542580</td>\n",
       "      <td>0.122370</td>\n",
       "      <td>0.063291</td>\n",
       "      <td>0.025316</td>\n",
       "      <td>0.714286</td>\n",
       "      <td>0.285714</td>\n",
       "      <td>0.357269</td>\n",
       "      <td>0.050000</td>\n",
       "      <td>0.6</td>\n",
       "      <td>-0.338889</td>\n",
       "      <td>-1.0</td>\n",
       "      <td>-0.050</td>\n",
       "      <td>0.650000</td>\n",
       "      <td>-0.5000</td>\n",
       "      <td>0.150000</td>\n",
       "      <td>0.5000</td>\n",
       "      <td>1100</td>\n",
       "      <td>Monday</td>\n",
       "      <td>Uncategorized</td>\n",
       "      <td>2013</td>\n",
       "      <td>1</td>\n",
       "      <td>7.003974</td>\n",
       "      <td>6.163315</td>\n",
       "      <td>2.484907</td>\n",
       "      <td>0.000000</td>\n",
       "      <td>0.693147</td>\n",
       "      <td>0.0</td>\n",
       "      <td>0.0</td>\n",
       "      <td>0.0</td>\n",
       "      <td>0.0</td>\n",
       "      <td>0.000000</td>\n",
       "      <td>0.000000</td>\n",
       "      <td>0.000000</td>\n",
       "    </tr>\n",
       "    <tr>\n",
       "      <th>3</th>\n",
       "      <td>power-matters-alliance-organization/</td>\n",
       "      <td>2013-01-07</td>\n",
       "      <td>731.0</td>\n",
       "      <td>10.0</td>\n",
       "      <td>0.535390</td>\n",
       "      <td>5.147748</td>\n",
       "      <td>10.0</td>\n",
       "      <td>0.0</td>\n",
       "      <td>0.0</td>\n",
       "      <td>0.0</td>\n",
       "      <td>0.0</td>\n",
       "      <td>0.0</td>\n",
       "      <td>0.0</td>\n",
       "      <td>0.0</td>\n",
       "      <td>0.020011</td>\n",
       "      <td>0.020317</td>\n",
       "      <td>0.117255</td>\n",
       "      <td>0.020007</td>\n",
       "      <td>0.822410</td>\n",
       "      <td>0.425089</td>\n",
       "      <td>0.128515</td>\n",
       "      <td>0.039640</td>\n",
       "      <td>0.012613</td>\n",
       "      <td>0.758621</td>\n",
       "      <td>0.241379</td>\n",
       "      <td>0.337965</td>\n",
       "      <td>0.050000</td>\n",
       "      <td>0.7</td>\n",
       "      <td>-0.225794</td>\n",
       "      <td>-0.4</td>\n",
       "      <td>-0.125</td>\n",
       "      <td>0.500000</td>\n",
       "      <td>-0.1000</td>\n",
       "      <td>0.000000</td>\n",
       "      <td>0.1000</td>\n",
       "      <td>1600</td>\n",
       "      <td>Monday</td>\n",
       "      <td>Tech</td>\n",
       "      <td>2013</td>\n",
       "      <td>1</td>\n",
       "      <td>7.378384</td>\n",
       "      <td>6.320768</td>\n",
       "      <td>2.079442</td>\n",
       "      <td>1.945910</td>\n",
       "      <td>0.693147</td>\n",
       "      <td>0.0</td>\n",
       "      <td>0.0</td>\n",
       "      <td>0.0</td>\n",
       "      <td>0.0</td>\n",
       "      <td>7.550135</td>\n",
       "      <td>7.550135</td>\n",
       "      <td>7.550135</td>\n",
       "    </tr>\n",
       "    <tr>\n",
       "      <th>4</th>\n",
       "      <td>polaroid-android-camera/</td>\n",
       "      <td>2013-01-07</td>\n",
       "      <td>731.0</td>\n",
       "      <td>9.0</td>\n",
       "      <td>0.424132</td>\n",
       "      <td>4.631390</td>\n",
       "      <td>8.0</td>\n",
       "      <td>0.0</td>\n",
       "      <td>0.0</td>\n",
       "      <td>0.0</td>\n",
       "      <td>0.0</td>\n",
       "      <td>0.0</td>\n",
       "      <td>0.0</td>\n",
       "      <td>0.0</td>\n",
       "      <td>0.025001</td>\n",
       "      <td>0.327017</td>\n",
       "      <td>0.025001</td>\n",
       "      <td>0.025001</td>\n",
       "      <td>0.597981</td>\n",
       "      <td>0.506520</td>\n",
       "      <td>0.279769</td>\n",
       "      <td>0.071749</td>\n",
       "      <td>0.013453</td>\n",
       "      <td>0.842105</td>\n",
       "      <td>0.157895</td>\n",
       "      <td>0.417055</td>\n",
       "      <td>0.100000</td>\n",
       "      <td>1.0</td>\n",
       "      <td>-0.212354</td>\n",
       "      <td>-0.5</td>\n",
       "      <td>-0.050</td>\n",
       "      <td>0.333333</td>\n",
       "      <td>0.2500</td>\n",
       "      <td>0.166667</td>\n",
       "      <td>0.2500</td>\n",
       "      <td>2400</td>\n",
       "      <td>Monday</td>\n",
       "      <td>Tech</td>\n",
       "      <td>2013</td>\n",
       "      <td>1</td>\n",
       "      <td>7.783641</td>\n",
       "      <td>7.017506</td>\n",
       "      <td>3.091042</td>\n",
       "      <td>3.091042</td>\n",
       "      <td>3.044522</td>\n",
       "      <td>0.0</td>\n",
       "      <td>0.0</td>\n",
       "      <td>0.0</td>\n",
       "      <td>0.0</td>\n",
       "      <td>6.302619</td>\n",
       "      <td>9.680406</td>\n",
       "      <td>8.140199</td>\n",
       "    </tr>\n",
       "  </tbody>\n",
       "</table>\n",
       "</div>"
      ],
      "text/plain": [
       "                               url_name        date  timedelta  \\\n",
       "0         amazon-instant-video-browser/  2013-01-07      731.0   \n",
       "1                       reeddit-reddit/  2013-01-07      731.0   \n",
       "2                    rage-comics-dying/  2013-01-07      731.0   \n",
       "3  power-matters-alliance-organization/  2013-01-07      731.0   \n",
       "4              polaroid-android-camera/  2013-01-07      731.0   \n",
       "\n",
       "   n_tokens_title  n_unique_tokens  average_token_length  num_keywords  \\\n",
       "0            12.0         0.663594              4.680365           5.0   \n",
       "1             8.0         0.821705              4.546154           9.0   \n",
       "2             9.0         0.608602              4.759494           7.0   \n",
       "3            10.0         0.535390              5.147748          10.0   \n",
       "4             9.0         0.424132              4.631390           8.0   \n",
       "\n",
       "   kw_min_min  kw_avg_min  kw_max_max  kw_avg_max  kw_min_avg  kw_max_avg  \\\n",
       "0         0.0         0.0         0.0         0.0         0.0         0.0   \n",
       "1         0.0         0.0         0.0         0.0         0.0         0.0   \n",
       "2         0.0         0.0         0.0         0.0         0.0         0.0   \n",
       "3         0.0         0.0         0.0         0.0         0.0         0.0   \n",
       "4         0.0         0.0         0.0         0.0         0.0         0.0   \n",
       "\n",
       "   is_weekend    LDA_00    LDA_01    LDA_02    LDA_03    LDA_04  \\\n",
       "0         0.0  0.500331  0.378279  0.040005  0.041263  0.040123   \n",
       "1         0.0  0.022265  0.022446  0.022276  0.251465  0.681548   \n",
       "2         0.0  0.028575  0.199626  0.028615  0.714611  0.028572   \n",
       "3         0.0  0.020011  0.020317  0.117255  0.020007  0.822410   \n",
       "4         0.0  0.025001  0.327017  0.025001  0.025001  0.597981   \n",
       "\n",
       "   global_subjectivity  global_sentiment_polarity  global_rate_positive_words  \\\n",
       "0             0.521617                   0.092562                    0.045662   \n",
       "1             0.381987                   0.152189                    0.038462   \n",
       "2             0.542580                   0.122370                    0.063291   \n",
       "3             0.425089                   0.128515                    0.039640   \n",
       "4             0.506520                   0.279769                    0.071749   \n",
       "\n",
       "   global_rate_negative_words  rate_positive_words  rate_negative_words  \\\n",
       "0                    0.013699             0.769231             0.230769   \n",
       "1                    0.007692             0.833333             0.166667   \n",
       "2                    0.025316             0.714286             0.285714   \n",
       "3                    0.012613             0.758621             0.241379   \n",
       "4                    0.013453             0.842105             0.157895   \n",
       "\n",
       "   avg_positive_polarity  min_positive_polarity  max_positive_polarity  \\\n",
       "0               0.378636               0.100000                    0.7   \n",
       "1               0.353939               0.033333                    0.7   \n",
       "2               0.357269               0.050000                    0.6   \n",
       "3               0.337965               0.050000                    0.7   \n",
       "4               0.417055               0.100000                    1.0   \n",
       "\n",
       "   avg_negative_polarity  min_negative_polarity  max_negative_polarity  \\\n",
       "0              -0.350000                   -0.6                 -0.200   \n",
       "1              -0.400000                   -0.4                 -0.400   \n",
       "2              -0.338889                   -1.0                 -0.050   \n",
       "3              -0.225794                   -0.4                 -0.125   \n",
       "4              -0.212354                   -0.5                 -0.050   \n",
       "\n",
       "   title_subjectivity  title_sentiment_polarity  abs_title_subjectivity  \\\n",
       "0            0.500000                   -0.1875                0.000000   \n",
       "1            0.250000                    0.2000                0.250000   \n",
       "2            0.650000                   -0.5000                0.150000   \n",
       "3            0.500000                   -0.1000                0.000000   \n",
       "4            0.333333                    0.2500                0.166667   \n",
       "\n",
       "   abs_title_sentiment_polarity  shares day_of_week  news_category  year  \\\n",
       "0                        0.1875     593      Monday  Entertainment  2013   \n",
       "1                        0.2000    1300      Monday           Tech  2013   \n",
       "2                        0.5000    1100      Monday  Uncategorized  2013   \n",
       "3                        0.1000    1600      Monday           Tech  2013   \n",
       "4                        0.2500    2400      Monday           Tech  2013   \n",
       "\n",
       "   month  log_shares  log_n_tokens_content  log_num_hrefs  log_num_self_hrefs  \\\n",
       "0      1    6.386879              5.393628       1.609438            1.098612   \n",
       "1      1    7.170888              4.875197       2.079442            1.609438   \n",
       "2      1    7.003974              6.163315       2.484907            0.000000   \n",
       "3      1    7.378384              6.320768       2.079442            1.945910   \n",
       "4      1    7.783641              7.017506       3.091042            3.091042   \n",
       "\n",
       "   log_num_imgs  log_num_videos  log_kw_max_min  log_kw_min_max  \\\n",
       "0      0.693147             0.0             0.0             0.0   \n",
       "1      0.000000             0.0             0.0             0.0   \n",
       "2      0.693147             0.0             0.0             0.0   \n",
       "3      0.693147             0.0             0.0             0.0   \n",
       "4      3.044522             0.0             0.0             0.0   \n",
       "\n",
       "   log_kw_avg_avg  log_self_reference_min_shares  \\\n",
       "0             0.0                       6.208590   \n",
       "1             0.0                       7.170888   \n",
       "2             0.0                       0.000000   \n",
       "3             0.0                       7.550135   \n",
       "4             0.0                       6.302619   \n",
       "\n",
       "   log_self_reference_max_shares  log_self_reference_avg_sharess  \n",
       "0                       6.208590                        6.208590  \n",
       "1                       7.170888                        7.170888  \n",
       "2                       0.000000                        0.000000  \n",
       "3                       7.550135                        7.550135  \n",
       "4                       9.680406                        8.140199  "
      ]
     },
     "execution_count": 2,
     "metadata": {},
     "output_type": "execute_result"
    }
   ],
   "source": [
    "# file path\n",
    "file_path = \"../1 - Visualization and Data Preprocessing/Data/ONPClean2.csv\" # previously cleaned\n",
    "# file_path = '../1 - Visualization and Data Preprocessing/Data/OnlineNewsPopularity.csv' # unclean\n",
    "\n",
    "# Load the dataset\n",
    "df = pd.read_csv(file_path)\n",
    "\n",
    "# Set the maximum number of columns to display to None\n",
    "pd.set_option('display.max_columns', None)\n",
    "df.head()\n",
    "# print(df.head())\n",
    "# print(df.columns)"
   ]
  },
  {
   "cell_type": "markdown",
   "metadata": {},
   "source": [
    "# Data Preparation Part 1 [10 points]"
   ]
  },
  {
   "cell_type": "markdown",
   "metadata": {},
   "source": [
    "## Define and prepare your class variables.***"
   ]
  },
  {
   "cell_type": "markdown",
   "metadata": {},
   "source": [
    "### Use proper variable representations (int, float, one-hot, etc.)."
   ]
  },
  {
   "cell_type": "code",
   "execution_count": 3,
   "metadata": {},
   "outputs": [
    {
     "name": "stdout",
     "output_type": "stream",
     "text": [
      "<class 'pandas.core.frame.DataFrame'>\n",
      "RangeIndex: 39644 entries, 0 to 39643\n",
      "Data columns (total 52 columns):\n",
      " #   Column                          Non-Null Count  Dtype  \n",
      "---  ------                          --------------  -----  \n",
      " 0   url_name                        39644 non-null  object \n",
      " 1   date                            39644 non-null  object \n",
      " 2   timedelta                       39644 non-null  float64\n",
      " 3   n_tokens_title                  39644 non-null  float64\n",
      " 4   n_unique_tokens                 39644 non-null  float64\n",
      " 5   average_token_length            39644 non-null  float64\n",
      " 6   num_keywords                    39644 non-null  float64\n",
      " 7   kw_min_min                      39644 non-null  float64\n",
      " 8   kw_avg_min                      39644 non-null  float64\n",
      " 9   kw_max_max                      39644 non-null  float64\n",
      " 10  kw_avg_max                      39644 non-null  float64\n",
      " 11  kw_min_avg                      39644 non-null  float64\n",
      " 12  kw_max_avg                      39644 non-null  float64\n",
      " 13  is_weekend                      39644 non-null  float64\n",
      " 14  LDA_00                          39644 non-null  float64\n",
      " 15  LDA_01                          39644 non-null  float64\n",
      " 16  LDA_02                          39644 non-null  float64\n",
      " 17  LDA_03                          39644 non-null  float64\n",
      " 18  LDA_04                          39644 non-null  float64\n",
      " 19  global_subjectivity             39644 non-null  float64\n",
      " 20  global_sentiment_polarity       39644 non-null  float64\n",
      " 21  global_rate_positive_words      39644 non-null  float64\n",
      " 22  global_rate_negative_words      39644 non-null  float64\n",
      " 23  rate_positive_words             39644 non-null  float64\n",
      " 24  rate_negative_words             39644 non-null  float64\n",
      " 25  avg_positive_polarity           39644 non-null  float64\n",
      " 26  min_positive_polarity           39644 non-null  float64\n",
      " 27  max_positive_polarity           39644 non-null  float64\n",
      " 28  avg_negative_polarity           39644 non-null  float64\n",
      " 29  min_negative_polarity           39644 non-null  float64\n",
      " 30  max_negative_polarity           39644 non-null  float64\n",
      " 31  title_subjectivity              39644 non-null  float64\n",
      " 32  title_sentiment_polarity        39644 non-null  float64\n",
      " 33  abs_title_subjectivity          39644 non-null  float64\n",
      " 34  abs_title_sentiment_polarity    39644 non-null  float64\n",
      " 35  shares                          39644 non-null  int64  \n",
      " 36  day_of_week                     39644 non-null  object \n",
      " 37  news_category                   39644 non-null  object \n",
      " 38  year                            39644 non-null  int64  \n",
      " 39  month                           39644 non-null  int64  \n",
      " 40  log_shares                      39644 non-null  float64\n",
      " 41  log_n_tokens_content            39644 non-null  float64\n",
      " 42  log_num_hrefs                   39644 non-null  float64\n",
      " 43  log_num_self_hrefs              39644 non-null  float64\n",
      " 44  log_num_imgs                    39644 non-null  float64\n",
      " 45  log_num_videos                  39644 non-null  float64\n",
      " 46  log_kw_max_min                  39644 non-null  float64\n",
      " 47  log_kw_min_max                  39644 non-null  float64\n",
      " 48  log_kw_avg_avg                  39644 non-null  float64\n",
      " 49  log_self_reference_min_shares   39644 non-null  float64\n",
      " 50  log_self_reference_max_shares   39644 non-null  float64\n",
      " 51  log_self_reference_avg_sharess  39644 non-null  float64\n",
      "dtypes: float64(45), int64(3), object(4)\n",
      "memory usage: 15.7+ MB\n"
     ]
    }
   ],
   "source": [
    "df.info()"
   ]
  },
  {
   "cell_type": "markdown",
   "metadata": {},
   "source": [
    "##### Original (before any cleaning):\n",
    "url:        \n",
    "    Containes the url of the article with the date      \n",
    "    Object\n",
    "\n",
    "timedelta:               \n",
    "    Days between the article publication and the dataset acquisition (non-predictive)               \n",
    "    float64\n",
    "\n",
    "n_tokens_title:               \n",
    "    Number of words in the title               \n",
    "    float64\n",
    "\n",
    "n_tokens_content:               \n",
    "    Number of words in the content               \n",
    "    float64\n",
    "\n",
    "n_unique_tokens:               \n",
    "    Rate of unique words in the content               \n",
    "    float64\n",
    "\n",
    "n_non_stop_words:           \n",
    "    Rate of non-stop words in the content           \n",
    "    float64\n",
    "\n",
    "n_non_stop_unique_tokens:      \n",
    "    Rate of unique non-stop words in the content      \n",
    "    float64\n",
    "\n",
    "num_hrefs:                    \n",
    "    Number of links                 \n",
    "    float64\n",
    "\n",
    "num_self_hrefs:               \n",
    "    Number of links to other articles published by Mashable            \n",
    "    float64\n",
    "\n",
    "num_imgs:                      \n",
    "    Number of images        \n",
    "    float64\n",
    "\n",
    "num_videos:                    \n",
    "    Number of videos            \n",
    "    float64\n",
    "    \n",
    "average_token_length:               \n",
    "    Average length of the words in the content               \n",
    "    Float64\n",
    "\n",
    "num_keywords:               \n",
    "    Number of keywords in the metadata               \n",
    "    float64\n",
    "\n",
    "data_channel_is_lifestyle:     \n",
    "    Is data channel 'Lifestyle'?            \n",
    "    Binary (Yes = 1 / No = 0)       \n",
    "    float64\n",
    "\n",
    "data_channel_is_entertainment:          \n",
    "    Is data channel 'Entertainment'?            \n",
    "    Binary (Yes = 1 / No = 0)       \n",
    "    float64\n",
    "\n",
    "data_channel_is_bus:           \n",
    "    Is data channel 'Business'?         \n",
    "    Binary (Yes = 1 / No = 0)       \n",
    "    float64\n",
    "  \n",
    "data_channel_is_socmed:        \n",
    "    Is data channel 'Social Media'?             \n",
    "    Binary (Yes = 1 / No = 0)       \n",
    "    float64\n",
    "   \n",
    "data_channel_is_tech:          \n",
    "    Is data channel 'Tech'?             \n",
    "    Binary (Yes = 1 / No = 0)       \n",
    "    float64\n",
    " \n",
    "data_channel_is_world:         \n",
    "    Is data channel 'World'?        \n",
    "    Binary (Yes = 1 / No = 0)       \n",
    "    float64\n",
    " \n",
    "kw_min_min:               \n",
    "    Worst keyword (min. shares)               \n",
    "    float64\n",
    "\n",
    "kw_max_min:                    \n",
    "    Worst keyword (max. shares)         \n",
    "    float64\n",
    "\n",
    "kw_avg_min:                    \n",
    "    Worst keyword (avg. shares)               \n",
    "    float64\n",
    "\n",
    "kw_min_max:                    \n",
    "    Best keyword (min. shares)          \n",
    "    float64\n",
    "\n",
    "kw_max_max:                    \n",
    "    Best keyword (max. shares)               \n",
    "    float64\n",
    "\n",
    "kw_avg_max:                    \n",
    "    Best keyword (avg. shares)               \n",
    "    float64\n",
    "\n",
    "kw_min_avg:                    \n",
    "    Avg. keyword (min. shares)               \n",
    "    float64\n",
    "\n",
    "kw_max_avg:                    \n",
    "    Avg. keyword (max. shares)               \n",
    "    float64\n",
    "\n",
    "kw_avg_avg:                    \n",
    "    Avg. keyword (avg. shares)          \n",
    "    float64\n",
    "\n",
    "self_reference_min_shares:    \n",
    "    Min. shares of referenced articles in Mashable          \n",
    "    float64\n",
    "\n",
    "self_reference_max_shares:     \n",
    "    Max. shares of referenced articles in Mashable          \n",
    "    float64\n",
    "\n",
    "self_reference_avg_sharess:   \n",
    "    Avg. shares of referenced articles in Mashable          \n",
    "    float64\n",
    "\n",
    "weekday_is_monday:             \n",
    "    Was the article published on a Monday?          \n",
    "    Binary (Yes = 1 / No = 0)       \n",
    "    float64\n",
    "\n",
    "weekday_is_tuesday:            \n",
    "    Was the article published on a Tuesday?             \n",
    "    Binary (Yes = 1 / No = 0)       \n",
    "    float64\n",
    "\n",
    "weekday_is_wednesday:          \n",
    "    Was the article published on a Wednesday?               \n",
    "    Binary (Yes = 1 / No = 0)       \n",
    "    float64\n",
    "\n",
    "weekday_is_thursday:           \n",
    "    Was the article published on a Thursday?            \n",
    "    Binary (Yes = 1 / No = 0)       \n",
    "    float64\n",
    "\n",
    "weekday_is_friday:             \n",
    "    Was the article published on a Friday?          \n",
    "    Binary (Yes = 1 / No = 0)       \n",
    "    float64\n",
    "\n",
    "weekday_is_saturday:           \n",
    "    Was the article published on a Saturday?            \n",
    "    Binary (Yes = 1 / No = 0)       \n",
    "    float64\n",
    "\n",
    "weekday_is_sunday:              \n",
    "    Was the article published on a Sunday?          \n",
    "    Binary (Yes = 1 / No = 0)       \n",
    "    float64\n",
    "\n",
    "is_weekend:                    \n",
    "    Was the article published on the weekend?               \n",
    "    Binary (Yes = 1 / No = 0)       \n",
    "    float64\n",
    "\n",
    "LDA_00:                        \n",
    "    LDA topic modeling \n",
    "    Closeness to LDA topic 0               \n",
    "    float64\n",
    "\n",
    "LDA_01:                       \n",
    "    Closeness to LDA topic 1               \n",
    "    float64\n",
    "\n",
    "LDA_02:                        \n",
    "    Closeness to LDA topic 2               \n",
    "    float64\n",
    "\n",
    "LDA_03:                       \n",
    "    Closeness to LDA topic 3               \n",
    "    float64\n",
    "\n",
    "LDA_04:                        \n",
    "    Closeness to LDA topic 4               \n",
    "    float64\n",
    "\n",
    "global_subjectivity:           \n",
    "    Text subjectivity               \n",
    "    float64\n",
    "\n",
    "global_sentiment_polarity:     \n",
    "    Text sentiment polarity               \n",
    "    float64\n",
    "\n",
    "global_rate_positive_words:    \n",
    "    Rate of positive words in the content               \n",
    "    float64\n",
    "\n",
    "global_rate_negative_words:    \n",
    "    Rate of negative words in the content               \n",
    "    float64\n",
    "\n",
    "rate_positive_words:           \n",
    "    Rate of positive words among non-neutral tokens               \n",
    "    float64\n",
    "\n",
    "rate_negative_words:           \n",
    "    Rate of negative words among non-neutral tokens               \n",
    "    float64\n",
    "\n",
    "avg_positive_polarity:         \n",
    "    Avg. polarity of positive words               \n",
    "    float64\n",
    "\n",
    "min_positive_polarity:         \n",
    "    Min. polarity of positive words               \n",
    "    float64\n",
    "\n",
    "max_positive_polarity:         \n",
    "    Max. polarity of positive words               \n",
    "    float64\n",
    "\n",
    "avg_negative_polarity:         \n",
    "    Avg. polarity of negative  words               \n",
    "    float64\n",
    "\n",
    "min_negative_polarity:         \n",
    "    Min. polarity of negative  words               \n",
    "    float64\n",
    "\n",
    "max_negative_polarity:         \n",
    "    Max. polarity of negative  words               \n",
    "    float64\n",
    "\n",
    "title_subjectivity:            \n",
    "    Title subjectivity               \n",
    "    float64\n",
    "\n",
    "title_sentiment_polarity:      \n",
    "    Title polarity               \n",
    "    float64\n",
    "\n",
    "abs_title_subjectivity:        \n",
    "    Absolute subjectivity level               \n",
    "    float64\n",
    "\n",
    "abs_title_sentiment_polarity:  \n",
    "    Absolute polarity level               \n",
    "    float64\n",
    "\n",
    "shares:                        \n",
    "    Number of shares (target)               \n",
    "    Integer"
   ]
  },
  {
   "cell_type": "markdown",
   "metadata": {},
   "source": [
    "##### Newly Created (from after preeviously done cleaning & any transformations):\n",
    "url_name:               \n",
    "    URL of the article (non-predictive)               \n",
    "    Float\n",
    "\n",
    "Date:               \n",
    "    The date the article was published               \n",
    "    DateTime\n",
    "\n",
    "Day_of_week:               \n",
    "    What day of the week the article is posted on               \n",
    "    Categorical\n",
    "\n",
    "news_category:               \n",
    "    What news category the article is               \n",
    "    Categorical\n",
    "\n",
    "Year:               \n",
    "    The year the article was published               \n",
    "    Integer\n",
    "\n",
    "Month:               \n",
    "    The month the aticle was published               \n",
    "    Integer\n",
    "\n",
    "log_shares:               \n",
    "    log of the \"shares\" variable               \n",
    "    Float\n",
    "\n",
    "log_n_tokens_content:               \n",
    "    log of the \"n_tokens_content\" variable               \n",
    "    Float\n",
    "\n",
    "log_num_hrefs:               \n",
    "    log of the \"num_hrefs\" variable               \n",
    "    Float\n",
    "\n",
    "log_num_self_hrefs:               \n",
    "    log of the \"num_self_hrefs\" variable               \n",
    "    Float\n",
    "\n",
    "log_num_imgs:               \n",
    "    log of the \"num_imgs\" variable               \n",
    "    Float\n",
    "\n",
    "log_num_videos:               \n",
    "    log of the \"num_videos\" variable               \n",
    "    Float\n",
    "\n",
    "log_kw_max_min:               \n",
    "    log of the \"kw_max_min\" variable               \n",
    "    Float\n",
    "\n",
    "log_kw_min_max:               \n",
    "    log of the \"kw_min_max\" variable               \n",
    "    Float\n",
    "\n",
    "log_kw_avg_avg:               \n",
    "    log of the \"kw_avg_avg\" variable               \n",
    "    Float\n",
    "\n",
    "log_self_reference_min_shares:               \n",
    "    log of the \"self_reference_min_shares\" variable               \n",
    "    Float\n",
    "\n",
    "log_self_reference_max_shares:               \n",
    "    log of the \"self_reference_max_shares\" variable               \n",
    "    Float\n",
    "\n",
    "log_self_reference_avg_shares:               \n",
    "    log of the \"self_reference_avg_shares\" variable               \n",
    "    Float\n",
    "\n",
    "day_of_weekX where X is the day of the week\n",
    "    a binary value meaning either Yes (1) it is day X or No (0) it is not day x\n",
    "     "
   ]
  },
  {
   "cell_type": "markdown",
   "metadata": {},
   "source": [
    "### Use pre-processing methods (as needed) for dimensionality reduction, scaling, etc."
   ]
  },
  {
   "cell_type": "markdown",
   "metadata": {},
   "source": [
    "If your dataset has outliers, you may want to remove them before training your model, as outliers can skew the results of the model.\n",
    "\n",
    "If your dataset has categorical variables, you need to encode them before training your model, as most machine learning algorithms can only handle numerical features."
   ]
  },
  {
   "cell_type": "code",
   "execution_count": 4,
   "metadata": {},
   "outputs": [
    {
     "data": {
      "image/png": "[encoded data removed]",
      "text/plain": [
       "<Figure size 432x288 with 1 Axes>"
      ]
     },
     "metadata": {},
     "output_type": "display_data"
    },
    {
     "data": {
      "image/png": "[encoded data removed]",
      "text/plain": [
       "<Figure size 432x288 with 1 Axes>"
      ]
     },
     "metadata": {},
     "output_type": "display_data"
    },
    {
     "data": {
      "image/png": "[encoded data removed]",
      "text/plain": [
       "<Figure size 432x288 with 1 Axes>"
      ]
     },
     "metadata": {},
     "output_type": "display_data"
    }
   ],
   "source": [
    "# Histogram of Existing Categorical Variables before encoding \n",
    "\n",
    "# We will need to one hot encode \n",
    "import seaborn as sns\n",
    "import matplotlib.pyplot as plt\n",
    "sns.set(style=\"darkgrid\")\n",
    "sns.histplot(data=df, x=\"news_category\", discrete=True)\n",
    "plt.xticks(rotation=45)  # Adjust the rotation angle as needed\n",
    "plt.xlabel(\"News Category\")\n",
    "plt.show()\n",
    "\n",
    "import seaborn as sns\n",
    "import matplotlib.pyplot as plt\n",
    "sns.set(style=\"darkgrid\")\n",
    "sns.histplot(data=df, x=\"day_of_week\", discrete=True)\n",
    "plt.xticks(rotation=45)  # Adjust the rotation angle as needed\n",
    "plt.xlabel(\"Day of the Week\")\n",
    "plt.show()\n",
    "\n",
    "# shares is another variable that is interesting - it is currenlty an integer\n",
    "# for scaling purpose, lets look at shares in log format to understand the distribution \n",
    "# in data - we'll use shares as a response variable and and make use of Quantile transformer \n",
    "\n",
    "sns.histplot(data=df, x='log_shares', kde=True)  # kde=True adds a Kernel Density Estimation plot\n",
    "plt.title('Distribution of log_Shares')  # Add a title to the plot if needed\n",
    "plt.xlabel('Number of log_Shares')  # Customize the x-axis label if needed\n",
    "plt.ylabel('Frequency')  # Customize the y-axis label if needed\n",
    "\n",
    "plt.show()"
   ]
  },
  {
   "cell_type": "code",
   "execution_count": 5,
   "metadata": {},
   "outputs": [
    {
     "data": {
      "image/png": "[encoded data removed]",
      "text/plain": [
       "<Figure size 432x288 with 1 Axes>"
      ]
     },
     "metadata": {},
     "output_type": "display_data"
    }
   ],
   "source": [
    "# Here we have taken shares and tranformed it quantile ranges to use a categorical variable\n",
    "\n",
    "# Create bins using quantiles\n",
    "q1 = df['shares'].quantile(0.25)\n",
    "q2 = df['shares'].quantile(0.5)\n",
    "q3 = df['shares'].quantile(0.75)\n",
    "\n",
    "# Define the bin labels\n",
    "labels = ['<Q1', 'Q1-Q2', 'Q2-Q3', '>Q3']\n",
    "\n",
    "# Cut the shares column into bins\n",
    "df['share_quantile_ranges'] = pd.cut(df['shares'], bins=[0, q1, q2, q3, 1000000], labels=labels)\n",
    "\n",
    "sns.set(style=\"darkgrid\")\n",
    "sns.histplot(data=df, x=\"share_quantile_ranges\", discrete=True)\n",
    "plt.xticks(rotation=45)  # Adjust the rotation angle as needed\n",
    "plt.xlabel(\"share_quantile_ranges\")\n",
    "plt.show()\n"
   ]
  },
  {
   "cell_type": "code",
   "execution_count": 7,
   "metadata": {},
   "outputs": [
    {
     "name": "stdout",
     "output_type": "stream",
     "text": [
      "Index(['timedelta', 'n_tokens_title', 'n_unique_tokens',\n",
      "       'average_token_length', 'num_keywords', 'kw_min_min', 'kw_avg_min',\n",
      "       'kw_max_max', 'kw_avg_max', 'kw_min_avg', 'kw_max_avg', 'is_weekend',\n",
      "       'LDA_00', 'LDA_01', 'LDA_02', 'LDA_03', 'LDA_04', 'global_subjectivity',\n",
      "       'global_sentiment_polarity', 'global_rate_positive_words',\n",
      "       'global_rate_negative_words', 'rate_positive_words',\n",
      "       'rate_negative_words', 'avg_positive_polarity', 'min_positive_polarity',\n",
      "       'max_positive_polarity', 'avg_negative_polarity',\n",
      "       'min_negative_polarity', 'max_negative_polarity', 'title_subjectivity',\n",
      "       'title_sentiment_polarity', 'abs_title_subjectivity',\n",
      "       'abs_title_sentiment_polarity', 'shares', 'year', 'month', 'log_shares',\n",
      "       'log_n_tokens_content', 'log_num_hrefs', 'log_num_self_hrefs',\n",
      "       'log_num_imgs', 'log_num_videos', 'log_kw_max_min', 'log_kw_min_max',\n",
      "       'log_kw_avg_avg', 'log_self_reference_min_shares',\n",
      "       'log_self_reference_max_shares', 'log_self_reference_avg_sharess',\n",
      "       'share_quantile_ranges', 'category_Business', 'category_Entertainment',\n",
      "       'category_Lifestyle', 'category_Social_Media', 'category_Tech',\n",
      "       'category_Uncategorized', 'category_World_News', 'day_Friday',\n",
      "       'day_Monday', 'day_Saturday', 'day_Sunday', 'day_Thursday',\n",
      "       'day_Tuesday', 'day_Wednesday'],\n",
      "      dtype='object')\n",
      "timedelta                          float64\n",
      "n_tokens_title                     float64\n",
      "n_unique_tokens                    float64\n",
      "average_token_length               float64\n",
      "num_keywords                       float64\n",
      "kw_min_min                         float64\n",
      "kw_avg_min                         float64\n",
      "kw_max_max                         float64\n",
      "kw_avg_max                         float64\n",
      "kw_min_avg                         float64\n",
      "kw_max_avg                         float64\n",
      "is_weekend                         float64\n",
      "LDA_00                             float64\n",
      "LDA_01                             float64\n",
      "LDA_02                             float64\n",
      "LDA_03                             float64\n",
      "LDA_04                             float64\n",
      "global_subjectivity                float64\n",
      "global_sentiment_polarity          float64\n",
      "global_rate_positive_words         float64\n",
      "global_rate_negative_words         float64\n",
      "rate_positive_words                float64\n",
      "rate_negative_words                float64\n",
      "avg_positive_polarity              float64\n",
      "min_positive_polarity              float64\n",
      "max_positive_polarity              float64\n",
      "avg_negative_polarity              float64\n",
      "min_negative_polarity              float64\n",
      "max_negative_polarity              float64\n",
      "title_subjectivity                 float64\n",
      "title_sentiment_polarity           float64\n",
      "abs_title_subjectivity             float64\n",
      "abs_title_sentiment_polarity       float64\n",
      "shares                               int64\n",
      "year                                 int64\n",
      "month                                int64\n",
      "log_shares                         float64\n",
      "log_n_tokens_content               float64\n",
      "log_num_hrefs                      float64\n",
      "log_num_self_hrefs                 float64\n",
      "log_num_imgs                       float64\n",
      "log_num_videos                     float64\n",
      "log_kw_max_min                     float64\n",
      "log_kw_min_max                     float64\n",
      "log_kw_avg_avg                     float64\n",
      "log_self_reference_min_shares      float64\n",
      "log_self_reference_max_shares      float64\n",
      "log_self_reference_avg_sharess     float64\n",
      "share_quantile_ranges             category\n",
      "category_Business                    uint8\n",
      "category_Entertainment               uint8\n",
      "category_Lifestyle                   uint8\n",
      "category_Social_Media                uint8\n",
      "category_Tech                        uint8\n",
      "category_Uncategorized               uint8\n",
      "category_World_News                  uint8\n",
      "day_Friday                           uint8\n",
      "day_Monday                           uint8\n",
      "day_Saturday                         uint8\n",
      "day_Sunday                           uint8\n",
      "day_Thursday                         uint8\n",
      "day_Tuesday                          uint8\n",
      "day_Wednesday                        uint8\n"
     ]
    }
   ],
   "source": [
    "# Remove certain columns before dimensionality reduction can take place\n",
    "\n",
    "# drop certain columns\n",
    "df1 = df.drop('url_name', axis=1) # was a string\n",
    "df1 = df1.drop('date', axis=1) # datetime change didn't work.\n",
    "# df1 = df1.drop('log_shares', axis=1) # not useful\n",
    "\n",
    "df1['news_category'] = df1['news_category'].astype('category')\n",
    "df1['news_category'].dtypes\n",
    "\n",
    "df1['day_of_week'] = df1['day_of_week'].astype('category')\n",
    "df1['day_of_week'].dtypes\n",
    "\n",
    "\n",
    "df1 = pd.get_dummies(df1, columns=['news_category'], prefix='category')\n",
    "df1 = pd.get_dummies(df1, columns=['day_of_week'], prefix='day')\n",
    "\n",
    "\n",
    "print(df1.columns)\n",
    "\n",
    "# # drop Na's\n",
    "df1.dropna(inplace=True)\n",
    "print(df1.dtypes.to_string())\n",
    "\n"
   ]
  },
  {
   "cell_type": "code",
   "execution_count": null,
   "metadata": {},
   "outputs": [],
   "source": [
    "\n",
    "# Create share_quantile_ranges_variable for target\n",
    "\n",
    "#skipping this and \n",
    "# Create bins using quantiles\n",
    "# q1 = df1['shares'].quantile(0.25)\n",
    "# q2 = df1['shares'].quantile(0.5)\n",
    "# q3 = df1['shares'].quantile(0.75)\n",
    "\n",
    "# # Define the bin labels\n",
    "# labels = ['<Q1', 'Q1-Q2', 'Q2-Q3', '>Q3']\n",
    "\n",
    "# # Cut the shares column into bins\n",
    "# df1['share_quantile_ranges'] = pd.cut(df1['shares'], bins=[0, q1, q2, q3, 1000000], labels=labels)"
   ]
  },
  {
   "cell_type": "code",
   "execution_count": null,
   "metadata": {},
   "outputs": [],
   "source": [
    "# Remove target\n",
    "# X = df.drop(['share_ranges'], axis=1)\n",
    "# y = df['share_ranges']\n",
    "# print(X.columns)\n",
    "# print(y)\n",
    "\n",
    "# Training Test 80/20 Split\n",
    "# random_state = 42\n",
    "\n",
    "# X_train, X_test, y_train, y_test = train_test_split(X, y, test_size=0.2, random_state=random_state)\n"
   ]
  },
  {
   "cell_type": "markdown",
   "metadata": {},
   "source": [
    "Dimensionality Reduction"
   ]
  },
  {
   "cell_type": "code",
   "execution_count": 8,
   "metadata": {},
   "outputs": [
    {
     "name": "stdout",
     "output_type": "stream",
     "text": [
      "63\n"
     ]
    }
   ],
   "source": [
    "print(len(df1.columns))"
   ]
  },
  {
   "cell_type": "code",
   "execution_count": 9,
   "metadata": {},
   "outputs": [
    {
     "name": "stdout",
     "output_type": "stream",
     "text": [
      "8\n"
     ]
    },
    {
     "data": {
      "image/png": "[encoded data removed]",
      "text/plain": [
       "<Figure size 720x432 with 1 Axes>"
      ]
     },
     "metadata": {},
     "output_type": "display_data"
    }
   ],
   "source": [
    "# DataFrame 1 \n",
    "# Picking the right PCA n_components in this case 5 for DataFrame 1 \n",
    "\n",
    "X1 = df1.drop(['share_quantile_ranges', 'shares', 'log_shares'], axis=1) \n",
    "# print(len(X1.columns))\n",
    "y1 = df1['share_quantile_ranges']\n",
    "\n",
    "\n",
    "\n",
    "# Define a range of values for n_components\n",
    "n_components_range = range(1, 50)\n",
    "\n",
    "# Perform cross-validation to evaluate each value of n_components\n",
    "cross_val_scores = []\n",
    "for n_components in n_components_range:\n",
    "    pca = PCA(n_components=n_components)\n",
    "    scores = cross_val_score(pca, X1, cv=10)\n",
    "    cross_val_scores.append(scores.mean())\n",
    "\n",
    "\n",
    "# Plot the cross-validation scores\n",
    "plt.figure(figsize=(10, 6))\n",
    "plt.plot(n_components_range, cross_val_scores, marker='o')\n",
    "plt.title('Cross-Validation Scores for PCA Components')\n",
    "plt.xlabel('Number of Components')\n",
    "plt.ylabel('Cross-Validation Score')\n",
    "plt.xticks(n_components_range)\n",
    "plt.grid(True)\n",
    "\n",
    "\n",
    "\n",
    "# Choose the value of n_components that maximizes the cross-validation score\n",
    "best_n_components = n_components_range[np.argmax(cross_val_scores)]\n",
    "print(best_n_components)\n",
    "\n",
    "# Add a marker at the optimal number of components (best_n_components)\n",
    "plt.axvline(x=best_n_components, color='r', linestyle='--', label='Optimal Components (8)')\n",
    "\n",
    "plt.legend()\n",
    "plt.show()"
   ]
  },
  {
   "cell_type": "code",
   "execution_count": 12,
   "metadata": {},
   "outputs": [
    {
     "data": {
      "image/png": "[encoded data removed]",
      "text/plain": [
       "<Figure size 864x432 with 2 Axes>"
      ]
     },
     "metadata": {},
     "output_type": "display_data"
    }
   ],
   "source": [
    "# DataFrame 1\n",
    "\n",
    "# dimensiontality reduction using PCA \n",
    "# PCA (Principal Component Analysis):\n",
    "\n",
    "# Imagine you have a lot of data with many features (like different attributes of a car - weight, engine size, fuel efficiency, etc.). PCA helps you find a new way to look at the data.\n",
    "# It finds the most important things your data can tell you and organizes them in order of importance, like sorting your toy collection from most favorite to least favorite.\n",
    "# Why we do it: It simplifies complex data, helps identify patterns, and makes it easier to understand and work with.\n",
    "# Scaling using Standard Scaler \n",
    "# Standard Scaler (Standardization):\n",
    "\n",
    "# Think of different measurements like inches and centimeters. If you mix them, it's confusing. Standard Scaler makes sure all your measurements are on the same scale.\n",
    "# It changes the values so they have a mean (average) of 0 and a standard deviation (a measure of how spread out the values are) of 1. It's like changing all your temperatures from Fahrenheit to Celsius.\n",
    "# Why we do it: It makes data comparable, helps some algorithms work better, and prevents one feature from dominating the others just because it has larger values.\n",
    "# Additional scaling using QuantileTransformer\n",
    "\n",
    "# # we need to try this without Quantile Transformer \n",
    "# Quantile Transformer:\n",
    "\n",
    "# Imagine you have a bag of marbles, and you want to group them by size. Quantile Transformer helps you sort the marbles into groups with equal numbers in each group.\n",
    "# It turns your data into a specific shape where each part has the same amount of data points. This can help when you want to make your data follow a specific pattern.\n",
    "# Why we do it: It can help when your data is not normally distributed (like a bell curve) and you want it to look more predictable or easier to work with\n",
    "\n",
    "\n",
    "import seaborn as sns\n",
    "import matplotlib.pyplot as plt\n",
    "\n",
    "# Perform PCA\n",
    "pca = PCA(n_components=8)  # Specify the number of components you want\n",
    "X1_reduced = pca.fit_transform(X1)\n",
    "\n",
    "# Splitting the Data for share_quantile_ranges task \n",
    "random_state = 42\n",
    "\n",
    "# Split the PCA reduced data into training and test sets\n",
    "X_train1, X_test1, y_train1, y_test1 = train_test_split(X1_reduced, y1, test_size=0.2, random_state=42)\n",
    "\n",
    "\n",
    "# Scale the features in the training and testing sets using StandardScalar.\n",
    "scaler = StandardScaler()\n",
    "\n",
    "# Use previous train/test split\n",
    "\n",
    "# for share_quantile_range_task\n",
    "X_train1_scaled = scaler.fit_transform(X_train1)\n",
    "X_test1_scaled = scaler.transform(X_test1)\n",
    "\n",
    "\n",
    "# quantile transfomer causing issues with model data --- lets just do standard scaler\n",
    "# # Quantile transfomer on response variable \n",
    "# from sklearn.preprocessing import QuantileTransformer\n",
    "\n",
    "# # Create a QuantileTransformer object\n",
    "# quantile_transformer = QuantileTransformer()\n",
    "# Fit the quantile transformer to the training data\n",
    "# X_train1_qt = quantile_transformer.fit(X_train1_scaled)\n",
    "# X_test1_qt = quantile_transformer.transform(X_test1_scaled)\n",
    "\n",
    "# Transform the training and test data using the fitted quantile transformer\n",
    "# y_train1_scaled = quantile_transformer.transform(X_train1)\n",
    "# y_test1_scaled = quantile_transformer.transform(X_test1)\n",
    "\n",
    "# Plot two histograms one for the distribution of the features before scaling and one for the distribution of features after scaling - here we can see how the scaling has affected the distribution using the minimium number of components being 5 \n",
    "\n",
    "\n",
    "plt.figure(figsize=(12, 6))\n",
    "\n",
    "# Before scaling\n",
    "plt.subplot(211)\n",
    "sns.histplot(data=X_train1, bins=50)\n",
    "# sns.histplot(data=X_train1, bins=50, kde=True)\n",
    "plt.xlabel('Feature value')\n",
    "plt.ylabel('Count')\n",
    "plt.title('Distribution of features before scaling')\n",
    "\n",
    "# After scaling\n",
    "plt.subplot(212)\n",
    "sns.histplot(data=X_train1_scaled, bins=50)\n",
    "# sns.histplot(data=X_train1_scaled, bins=50, kde=True)\n",
    "plt.xlabel('Feature value')\n",
    "plt.ylabel('Count')\n",
    "plt.title('Distribution of features after scaling')\n",
    "\n",
    "\n",
    "plt.tight_layout()\n",
    "plt.show()\n"
   ]
  },
  {
   "cell_type": "code",
   "execution_count": 13,
   "metadata": {},
   "outputs": [
    {
     "name": "stdout",
     "output_type": "stream",
     "text": [
      "Random Forest on share_quantile_ranges Task\n",
      "[0.35262959 0.34339154 0.35767748 0.3422122 ]\n",
      "---------------------------------------------------------\n",
      "Random Forest accuracy: 0.35262958758986\n",
      "Random Forest precision: 0.34339154389437254\n",
      "Random Forest recall: 0.35767747662802485\n",
      "Random Forest F1 score: 0.3422122040639109\n"
     ]
    }
   ],
   "source": [
    "# model - share_quantile_range\n",
    "\n",
    "\n",
    "\n",
    "from sklearn.model_selection import GridSearchCV\n",
    "\n",
    "# Create the random forest model\n",
    "# rf = RandomForestClassifier(n_estimators=100)\n",
    "rf = RandomForestClassifier()\n",
    "\n",
    "# Define a parameter grid to search for the best hyperparameters\n",
    "param_grid = {\n",
    "    'n_estimators': [100, 200, 300],  # Vary the number of estimators\n",
    "    'max_depth': [None, 10, 20, 30],  # Vary the maximum depth of trees\n",
    "}\n",
    "\n",
    "# param_grid = {\n",
    "#     'n_estimators': [100, 200, 300],  # Vary the number of estimators\n",
    "#     'max_depth': [None, 10, 20, 30],  # Vary the maximum depth of trees\n",
    "#     'min_samples_split': [2, 5, 10],  # Vary the minimum number of samples required to split an internal node\n",
    "#     'min_samples_leaf': [1, 2, 4],  # Vary the minimum number of samples required at a leaf node\n",
    "#     'max_features': ['auto', 'sqrt', 'log2'],  # Vary the number of features to consider\n",
    "#     'bootstrap': [True, False],  # Vary whether or not to use bootstrapping\n",
    "#     'criterion': ['gini', 'entropy'],  # Vary the split criterion\n",
    "#     'max_leaf_nodes': [None, 10, 20, 30],  # Vary the maximum number of leaf nodes\n",
    "#     'min_impurity_decrease': [0.0, 0.1, 0.2],  # Vary the minimum impurity decrease\n",
    "# }\n",
    "\n",
    "\n",
    "# Create a grid search with cross-validation\n",
    "grid_search = GridSearchCV(estimator=rf, param_grid=param_grid, cv=5, scoring='accuracy')\n",
    "\n",
    "# Train the share_quantile_ranges model with the best hyperparameters\n",
    "grid_search.fit(X_train1_scaled, y_train1)\n",
    "\n",
    "# Get the best estimator from the grid search\n",
    "best_rf = grid_search.best_estimator_\n",
    "\n",
    "# Make predictions on the test set for share_quantile_ranges task\n",
    "rf_y_pred1 = best_rf.predict(X_test1_scaled)\n",
    "\n",
    "# Train the share_quantile_ranges model\n",
    "# rf.fit(X_train1_scaled, y_train1)\n",
    "\n",
    "\n",
    "# Calculate the accuracy, precision, recall, and F1 score of the model on the test data for the share_quantile_ranges task.\n",
    "rf_accuracy1 = accuracy_score(y_test1, rf_y_pred1)\n",
    "rf_precision1 = precision_score(y_test1, rf_y_pred1, average='macro')\n",
    "rf_recall1 = recall_score(y_test1, rf_y_pred1, average='macro')\n",
    "rf_f1_score1 = f1_score(y_test1, rf_y_pred1, average='macro')\n",
    "\n",
    "# Create an array to store the model evaluation metrics\n",
    "rf_model_scores1 = np.array([rf_accuracy1, rf_precision1, rf_recall1, rf_f1_score1])\n",
    "\n",
    "# Print the model evaluation metrics\n",
    "print('Random Forest on share_quantile_ranges Task')\n",
    "print(rf_model_scores1)\n",
    "print('---------------------------------------------------------')\n",
    "print('Random Forest accuracy:', rf_accuracy1)\n",
    "print('Random Forest precision:', rf_precision1)\n",
    "print('Random Forest recall:', rf_recall1)\n",
    "print('Random Forest F1 score:', rf_f1_score1)"
   ]
  },
  {
   "cell_type": "code",
   "execution_count": 14,
   "metadata": {},
   "outputs": [
    {
     "name": "stdout",
     "output_type": "stream",
     "text": [
      "Best Hyperparameters: {'max_depth': 10, 'n_estimators': 300}\n"
     ]
    }
   ],
   "source": [
    "print('Best Hyperparameters:', grid_search.best_params_)\n"
   ]
  },
  {
   "cell_type": "code",
   "execution_count": 22,
   "metadata": {},
   "outputs": [
    {
     "name": "stderr",
     "output_type": "stream",
     "text": [
      "/Users/tmc/opt/anaconda3/lib/python3.9/site-packages/sklearn/metrics/_ranking.py:980: UserWarning: No positive class found in y_true, recall is set to one for all thresholds.\n",
      "  warnings.warn(\n",
      "/Users/tmc/opt/anaconda3/lib/python3.9/site-packages/sklearn/metrics/_ranking.py:980: UserWarning: No positive class found in y_true, recall is set to one for all thresholds.\n",
      "  warnings.warn(\n",
      "/Users/tmc/opt/anaconda3/lib/python3.9/site-packages/sklearn/metrics/_ranking.py:980: UserWarning: No positive class found in y_true, recall is set to one for all thresholds.\n",
      "  warnings.warn(\n",
      "/Users/tmc/opt/anaconda3/lib/python3.9/site-packages/sklearn/metrics/_ranking.py:980: UserWarning: No positive class found in y_true, recall is set to one for all thresholds.\n",
      "  warnings.warn(\n"
     ]
    },
    {
     "data": {
      "image/png": "[encoded data removed]",
      "text/plain": [
       "<Figure size 576x432 with 1 Axes>"
      ]
     },
     "metadata": {},
     "output_type": "display_data"
    }
   ],
   "source": [
    "\n",
    "# this does not work yet \n",
    "\n",
    "\n",
    "from sklearn.metrics import precision_recall_curve\n",
    "import matplotlib.pyplot as plt\n",
    "\n",
    "# Assuming y_scores is a 2D array where each column corresponds to a different class\n",
    "# For example, if you have 3 classes, y_scores should have 3 columns.\n",
    "# Each column represents the predicted probabilities for that class.\n",
    "precisions = []\n",
    "recalls = []\n",
    "thresholds = []\n",
    "\n",
    "# Calculate Precision and Recall for each class\n",
    "for class_index in range(y_scores.shape[1]):\n",
    "    precision, recall, class_thresholds = precision_recall_curve(y_test[:, class_index], y_scores[:, class_index])\n",
    "    precisions.append(precision)\n",
    "    recalls.append(recall)\n",
    "    thresholds.append(class_thresholds)\n",
    "\n",
    "# Plot the Precision-Recall curves for each class\n",
    "plt.figure(figsize=(8, 6))\n",
    "colors = ['magenta', 'blue', 'green']  # You can define colors for each class\n",
    "for class_index in range(len(precisions)):\n",
    "    plt.plot(recalls[class_index], precisions[class_index], marker='.', color=colors[class_index], label=f'Class {class_index}')\n",
    "\n",
    "plt.xlabel('Recall')\n",
    "plt.ylabel('Precision')\n",
    "plt.title('Precision-Recall Curve (Multi-class)')\n",
    "\n",
    "# Annotate thresholds on the curves\n",
    "for class_index in range(len(thresholds)):\n",
    "    class_thresholds = thresholds[class_index]\n",
    "    for i in range(0, len(class_thresholds), 25):\n",
    "        plt.annotate(f\"Threshold={class_thresholds[i]:.2f}\", (recalls[class_index][i], precisions[class_index][i]), fontsize=9)\n",
    "\n",
    "plt.legend()\n",
    "plt.grid(True)\n",
    "plt.show()\n"
   ]
  },
  {
   "cell_type": "code",
   "execution_count": null,
   "metadata": {},
   "outputs": [],
   "source": [
    "# model 2 KNN on\n",
    "\n",
    "\n",
    "\n",
    "\n",
    "\n",
    "\n",
    "\n",
    "\n",
    "\n",
    "\n",
    "\n",
    "\n",
    "\n",
    "\n",
    "\n",
    "\n",
    "\n",
    "\n",
    "\n",
    "\n",
    "\n",
    "\n",
    "\n",
    "\n",
    "\n"
   ]
  },
  {
   "cell_type": "code",
   "execution_count": 41,
   "metadata": {},
   "outputs": [
    {
     "name": "stdout",
     "output_type": "stream",
     "text": [
      "9\n"
     ]
    }
   ],
   "source": [
    "# DataFrame 2 \n",
    "# Picking the right PCA n_components in this case 5 for Dataframe 2 \n",
    "\n",
    "# Create a dataframe for the current response variable\n",
    "\n",
    "# Question on which columns should be dropped when are predicting day of the week -- the response here is any is any column like=day -- but i am not sure this is the correct way to run the model-- but maybe it is --- start here before running models, then setting up pipeline followed by grid array\n",
    "from sklearn.model_selection import cross_val_score\n",
    "\n",
    "X2 = df1.drop([ 'share_quantile_ranges', 'log_shares', 'day_Friday','day_Monday', 'day_Saturday', 'day_Sunday', 'day_Thursday', 'day_Tuesday', 'day_Wednesday'], axis=1)\n",
    "\n",
    "# X2 = df1.drop([ 'share_quantile_ranges', 'shares', 'log_shares','day_Friday','day_Monday', 'day_Saturday', 'day_Sunday', 'day_Thursday', 'day_Tuesday', 'day_Wednesday'], axis=1)\n",
    "\n",
    "y2 = df1.filter(like='day_')  # Assuming 'day_' is the prefix for one-hot encoded columns\n",
    "\n",
    "\n",
    "# Define a range of values for n_components\n",
    "n_components_range = range(1, 50)\n",
    "\n",
    "# Perform cross-validation to evaluate each value of n_components\n",
    "cross_val_scores = []\n",
    "for n_components in n_components_range:\n",
    "    pca = PCA(n_components=n_components)\n",
    "    scores = cross_val_score(pca, X2, cv=10)\n",
    "    cross_val_scores.append(scores.mean())\n",
    "\n",
    "# Choose the value of n_components that maximizes the cross-validation score\n",
    "best_n_components = n_components_range[np.argmax(cross_val_scores)]\n",
    "print(best_n_components)"
   ]
  },
  {
   "cell_type": "code",
   "execution_count": 43,
   "metadata": {},
   "outputs": [
    {
     "data": {
      "image/png": "[encoded data removed]",
      "text/plain": [
       "<Figure size 864x432 with 2 Axes>"
      ]
     },
     "metadata": {},
     "output_type": "display_data"
    }
   ],
   "source": [
    "# Dataframe 2 \n",
    "\n",
    "# dimensiontality reduction using PCA \n",
    "# Scaling using Standard Scaler \n",
    "# Additional scaling using QuantileTransformer\n",
    "\n",
    "from sklearn.decomposition import PCA\n",
    "from sklearn.preprocessing import StandardScaler\n",
    "from sklearn.model_selection import train_test_split\n",
    "import seaborn as sns\n",
    "import matplotlib.pyplot as plt\n",
    "\n",
    "\n",
    "# Perform PCA\n",
    "pca = PCA(n_components=9)  # Specify the number of components you want\n",
    "X2_reduced = pca.fit_transform(X2)\n",
    "\n",
    "# Splitting the Data for share_quantile_ranges task \n",
    "random_state = 42\n",
    "\n",
    "\n",
    "# Split the PCA reduced data into training and test sets\n",
    "X_train2, X_test2, y_train2, y_test2 = train_test_split(X2_reduced, y2, test_size=0.2, random_state=42)\n",
    "\n",
    "# lets scale the data \n",
    "\n",
    "scaler = StandardScaler()\n",
    "\n",
    "# Use previous train/test split\n",
    "\n",
    "# for share_quantile_range_task\n",
    "X_train2_scaled = scaler.fit_transform(X_train2)\n",
    "X_test2_scaled = scaler.transform(X_test2)\n",
    "\n",
    "\n",
    "\n",
    "# # Quantile transfomer on response variable \n",
    "# from sklearn.preprocessing import QuantileTransformer\n",
    "\n",
    "# # Create a QuantileTransformer object\n",
    "# quantile_transformer = QuantileTransformer()\n",
    "\n",
    "# # Fit the quantile transformer to the training data\n",
    "# quantile_transformer.fit(X2_train)\n",
    "\n",
    "# # Transform the training and test data using the fitted quantile transformer\n",
    "# y_train_scaled = quantile_transformer.transform(X2_train)\n",
    "# y_test_scaled = quantile_transformer.transform(X2_test)\n",
    "\n",
    "\n",
    "# Plot two histograms one for the distribution of the features before scaling and one for the distribution of features after scaling - here we can see how the scaling has affected the distribution using the minimium number of components being 5 \n",
    "\n",
    "plt.figure(figsize=(12, 6))\n",
    "\n",
    "# Before scaling\n",
    "plt.subplot(211)\n",
    "sns.histplot(data=X_train2, bins=50)\n",
    "# sns.histplot(data=X_train1, bins=50, kde=True)\n",
    "plt.xlabel('Feature value')\n",
    "plt.ylabel('Count')\n",
    "plt.title('Distribution of features before scaling')\n",
    "\n",
    "# After scaling\n",
    "plt.subplot(212)\n",
    "sns.histplot(data=X_train2_scaled, bins=50)\n",
    "# sns.histplot(data=X_train1_scaled, bins=50, kde=True)\n",
    "plt.xlabel('Feature value')\n",
    "plt.ylabel('Count')\n",
    "plt.title('Distribution of features after scaling')\n",
    "\n",
    "\n",
    "plt.tight_layout()\n",
    "plt.show()"
   ]
  },
  {
   "cell_type": "code",
   "execution_count": null,
   "metadata": {},
   "outputs": [],
   "source": [
    "# model 1 \n",
    "\n",
    "\n",
    "\n",
    "\n"
   ]
  },
  {
   "cell_type": "code",
   "execution_count": null,
   "metadata": {},
   "outputs": [],
   "source": [
    "# Create a dataframe for the current response variable\n",
    "X3 = df1.drop([ 'share_quantile_ranges','log_shares','category_Business', 'category_Entertainment', 'category_Lifestyle', 'category_Social_Media', 'category_Tech','category_Uncategorized', 'category_World_News'], axis=1)\n",
    "y3 = df1.filter(like='category_')  # Assuming 'day_' is the prefix for one-hot encoded columns\n",
    "\n",
    "from sklearn.model_selection import cross_val_score\n",
    "\n",
    "# Define a range of values for n_components\n",
    "n_components_range = range(1, 50)\n",
    "\n",
    "# Perform cross-validation to evaluate each value of n_components\n",
    "cross_val_scores = []\n",
    "for n_components in n_components_range:\n",
    "    pca = PCA(n_components=n_components)\n",
    "    scores = cross_val_score(pca, X2, cv=10)\n",
    "    cross_val_scores.append(scores.mean())\n",
    "\n",
    "# Choose the value of n_components that maximizes the cross-validation score\n",
    "best_n_components = n_components_range[np.argmax(cross_val_scores)]\n",
    "print(best_n_components)"
   ]
  },
  {
   "cell_type": "code",
   "execution_count": null,
   "metadata": {},
   "outputs": [],
   "source": [
    "# Dataframe 3\n",
    "\n",
    "# dimensiontality reduction using PCA \n",
    "# Scaling using Standard Scaler \n",
    "# Additional scaling using QuantileTransformer\n",
    "\n",
    "from sklearn.decomposition import PCA\n",
    "\n",
    "# Perform PCA\n",
    "pca = PCA(n_components=8)  # Specify the number of components you want\n",
    "X3_reduced = pca.fit_transform(X3)\n",
    "\n",
    "# Splitting the Data for share_quantile_ranges task \n",
    "random_state = 42\n",
    "from sklearn.model_selection import train_test_split\n",
    "\n",
    "# Split the PCA reduced data into training and test sets\n",
    "X3_train, X3_test, y3_train, y3_test = train_test_split(X3_reduced, y3, test_size=0.2, random_state=42)\n",
    "\n",
    "\n",
    "# lets scale the data \n",
    "from sklearn.preprocessing import StandardScaler\n",
    "\n",
    "# Create a StandardScaler object\n",
    "scaler = StandardScaler()\n",
    "\n",
    "# Fit the scaler to the training data\n",
    "scaler.fit(X3_train)\n",
    "\n",
    "# Transform the training and test data using the fitted scaler\n",
    "X_train_scaled = scaler.transform(X3_train)\n",
    "X_test_scaled = scaler.transform(X3_test)\n",
    "\n",
    "\n",
    "# # Quantile transfomer on response variable \n",
    "# from sklearn.preprocessing import QuantileTransformer\n",
    "\n",
    "# # Create a QuantileTransformer object\n",
    "# quantile_transformer = QuantileTransformer()\n",
    "\n",
    "# # Fit the quantile transformer to the training data\n",
    "# quantile_transformer.fit(X3_train)\n",
    "\n",
    "# # Transform the training and test data using the fitted quantile transformer\n",
    "# y_train_scaled = quantile_transformer.transform(X3_train)\n",
    "# y_test_scaled = quantile_transformer.transform(X3_test)\n",
    "\n",
    "\n",
    "# Plot two histograms one for the distribution of the features before scaling and one for the distribution of features after scaling - here we can see how the scaling has affected the distribution using the minimium number of components being 5 \n",
    "\n",
    "import seaborn as sns\n",
    "import matplotlib.pyplot as plt\n",
    "\n",
    "plt.figure(figsize=(12, 6))\n",
    "\n",
    "# Before scaling\n",
    "plt.subplot(211)\n",
    "sns.histplot(data=X3_train, bins=50)\n",
    "plt.xlabel('Feature value')\n",
    "plt.ylabel('Count')\n",
    "plt.title('Distribution of features before scaling')\n",
    "\n",
    "# After scaling\n",
    "plt.subplot(212)\n",
    "sns.histplot(data=X_train_scaled, bins=50)\n",
    "plt.xlabel('Feature value')\n",
    "plt.ylabel('Count')\n",
    "plt.title('Distribution of features after scaling')\n",
    "\n",
    "plt.tight_layout()\n",
    "plt.show()\n"
   ]
  },
  {
   "cell_type": "code",
   "execution_count": null,
   "metadata": {},
   "outputs": [],
   "source": [
    "# # Dimensionality Reduction Using Feature Selection\n",
    "\n",
    "# # Create a SelectKBest object with k=10.\n",
    "# selector = SelectKBest(f_classif, k=10)\n",
    "\n",
    "# # Fit the selector to the data.\n",
    "# selector.fit(X, y)\n",
    "\n",
    "# # Get the selected features.\n",
    "# selected_features = selector.get_support()\n",
    "\n",
    "# # Reduce the dataset to the selected features.\n",
    "# X_reduced = X[:, selected_features]\n",
    "\n",
    "# We will want to identify the elbow point because this is the point where the rrate of change of the curve starts to rapidly decrease \n",
    "\n",
    "# # Calculate the inertia for different values of k.\n",
    "# inertias = []\n",
    "# for k in range(2, 10):\n",
    "#     kmeans = KMeans(n_clusters=k)\n",
    "#     kmeans.fit(data)\n",
    "#     inertias.append(kmeans.inertia_)\n",
    "\n",
    "# # Plot the inertia vs k.\n",
    "# plt.plot(range(2, 10), inertias, 'bx-')\n",
    "# plt.xlabel('k')\n",
    "# plt.ylabel('Inertia')\n",
    "# plt.title('Elbow Method')\n",
    "# plt.show()"
   ]
  },
  {
   "cell_type": "markdown",
   "metadata": {},
   "source": [
    "Scaling data"
   ]
  },
  {
   "cell_type": "code",
   "execution_count": null,
   "metadata": {},
   "outputs": [],
   "source": [
    "# Scale the features in the training and testing sets using standard scalar.\n",
    "# scaler = StandardScaler()\n",
    "\n",
    "# X_train = scaler.fit_transform(X_train)\n",
    "# X_test = scaler.transform(X_test)"
   ]
  },
  {
   "cell_type": "code",
   "execution_count": null,
   "metadata": {},
   "outputs": [],
   "source": [
    "# Scale the features using QuantileTransformer with n_quantiles=100.\n",
    "# quantile_transformer = QuantileTransformer(n_quantiles=100)\n",
    "\n",
    "# X_train_q = quantile_transformer.fit_transform(X_train)\n",
    "# X_test_q = scaler.transform(X_test)"
   ]
  },
  {
   "cell_type": "markdown",
   "metadata": {},
   "source": [
    "Scaling is done on the training and testing sets \"X_train\" and \"X_test\" in order put the data on a common scale. This will helpful in improving the model performance as they  arre sensitive to the scale of the data. Scaling will be done for each classification task and both types of scaling will be done on the data seperately so that the two methods can be compared later."
   ]
  },
  {
   "cell_type": "markdown",
   "metadata": {},
   "source": [
    "\n",
    "### Remove variables that are not needed/useful for the analysis."
   ]
  },
  {
   "cell_type": "markdown",
   "metadata": {},
   "source": [
    "Certain variables were deemed unnecessary during lab 1 and were removed during the course of this labs notebook.\n",
    "\n",
    "These variables were removed:\n",
    "\n",
    "Url:        \n",
    "    Dropped as it was better served being split into multiple variables.            \n",
    "    These varriables did end up not being useful or useable, however.  \n",
    "\n",
    "n_tokens_content:           \n",
    "    was removed after being log transformed.            \n",
    "    This helped with the very skewed data.\n",
    "\n",
    "n_non_stop_words:              \n",
    "    Deemed unhelpful\n",
    "\n",
    "n_non_stop_unique_tokens:           \n",
    "    Deemed unhelpful\n",
    "\n",
    "num_hrefs:          \n",
    "    was removed after being log transformed.            \n",
    "    This helped with the very skewed data.\n",
    "\n",
    "num_self_hrefs:         \n",
    "    was removed after being log transformed.            \n",
    "    This helped with the very skewed data.\n",
    "    \n",
    "num_imgs:           \n",
    "    was removed after being log transformed.            \n",
    "    This helped with the very skewed data.\n",
    "\n",
    "num_videos:         \n",
    "    was removed after being log transformed.            \n",
    "    This helped with the very skewed data.\n",
    "\n",
    "kw_max_min:         \n",
    "    was removed after being log transformed.            \n",
    "    This helped with the very skewed data.\n",
    "\n",
    "kw_min_max:         \n",
    "    was removed after being log transformed.            \n",
    "    This helped with the very skewed data.\n",
    "\n",
    "self_reference_min_shares:          \n",
    "    was removed after being log transformed.            \n",
    "    This helped with the very skewed data.\n",
    "\n",
    "self_reference_max_shares:          \n",
    "    was removed after being log transformed.            \n",
    "    This helped with the very skewed data.\n",
    "\n",
    "self_reference_avg_sharess:             \n",
    "    was removed after being log transformed.            \n",
    "    This helped with the very skewed data.\n",
    "\n",
    "weekday_is_X where X is the day of the week:        \n",
    "    Removed previously.         \n",
    "    This was to turn it into a categorical variable for the model being run at the time.        \n",
    "    This variable has been recreated for our current classification problems as shown above with the factoring of day_of_week.      \n",
    "\n",
    "data_channel_is_X where X is the type of data channel:      \n",
    "    Removed previously.     \n",
    "    This was to turn it into a categorical variable for the model being run at the time.        \n",
    "    This variable has been recreated for our current classification problems as shown above with the factoring of news_category.        "
   ]
  },
  {
   "cell_type": "code",
   "execution_count": null,
   "metadata": {},
   "outputs": [],
   "source": [
    "# from previously cleaned dataset\n",
    "\n",
    "# drop certain columns\n",
    "# Done above\n",
    "# df1 = df.drop('url_name', axis=1) # was a string\n",
    "# df1 = df1.drop('date', axis=1) # datetime change didn't work.\n",
    "# df1 = df1.drop('log_shares', axis=1) # not useful\n",
    "\n",
    "# drop Na's\n",
    "df1.dropna()\n",
    "\n",
    "df1.head()"
   ]
  },
  {
   "cell_type": "markdown",
   "metadata": {},
   "source": [
    "url_name:           \n",
    "    Dropped due to it being a string variable that wasn't useful\n",
    "\n",
    "date:\n",
    "    Dropped due to it being a datetime variable that wasn't useful\n",
    "\n",
    "log_shares:           \n",
    "    The share_quantile_ranges was deemed to be more useful.\n",
    "\n",
    "all Na's were dropped\n",
    "\n",
    "The shares, day_of_week, and news_category variables will be removed when selecting the target variable further down. Variables related to the current task will also be removed such as 'shares', 'day_of_week_Monday' (for example), and news_category_World (for example). This is to avoid these variables essentially giving the model the right answer"
   ]
  },
  {
   "cell_type": "markdown",
   "metadata": {},
   "source": [
    "# Data Preperation Part 2 [5 points]"
   ]
  },
  {
   "cell_type": "markdown",
   "metadata": {},
   "source": [
    "## Describe the final dataset that is used for classification/regression\n",
    "(include a description of any newly formed variables you created)."
   ]
  },
  {
   "cell_type": "markdown",
   "metadata": {},
   "source": [
    "### share_quantile_ranges"
   ]
  },
  {
   "cell_type": "code",
   "execution_count": null,
   "metadata": {},
   "outputs": [],
   "source": [
    "#Already done up above BUT we have to paste it here in this section too!!!! \n",
    "\n",
    "\n",
    "\n",
    "\n",
    "\n",
    "\n",
    "# # Create bins using quantiles\n",
    "# q1 = df1['shares'].quantile(0.25)\n",
    "# q2 = df1['shares'].quantile(0.5)\n",
    "# q3 = df1['shares'].quantile(0.75)\n",
    "\n",
    "# # Define the bin labels\n",
    "# labels = ['<Q1', 'Q1-Q2', 'Q2-Q3', '>Q3']\n",
    "\n",
    "# # Cut the shares column into bins\n",
    "# df1['share_quantile_ranges'] = pd.cut(df1['shares'], bins=[0, q1, q2, q3, 1000000], labels=labels)\n",
    "\n",
    "# # Print the value counts of the share_ranges_quantile column\n",
    "# print(df1['share_quantile_ranges'].value_counts())"
   ]
  },
  {
   "cell_type": "code",
   "execution_count": null,
   "metadata": {},
   "outputs": [],
   "source": [
    "df1.columns"
   ]
  },
  {
   "cell_type": "markdown",
   "metadata": {},
   "source": [
    "share_quantile_ranges: This was created by splitting up the shares variable into bins by using its different quantile values. This allowed for a more even split among the groups."
   ]
  },
  {
   "cell_type": "markdown",
   "metadata": {},
   "source": [
    "### factoring day_of_week"
   ]
  },
  {
   "cell_type": "code",
   "execution_count": null,
   "metadata": {},
   "outputs": [],
   "source": [
    "#already did this up top \n",
    "# Factor the `day_of_week` column.\n",
    "# df1 = pd.get_dummies(df1, columns=['day_of_week'])"
   ]
  },
  {
   "cell_type": "markdown",
   "metadata": {},
   "source": [
    "factored day_of_week columns: day_of_week was factored back into 7 columns of 0's and 1's similar to how it was in the original dataset."
   ]
  },
  {
   "cell_type": "markdown",
   "metadata": {},
   "source": [
    "### factoring news_category"
   ]
  },
  {
   "cell_type": "code",
   "execution_count": null,
   "metadata": {},
   "outputs": [],
   "source": [
    "# Factor the `news_category` column.\n",
    "# df1 = pd.get_dummies(df1, columns=['news_category'])"
   ]
  },
  {
   "cell_type": "markdown",
   "metadata": {},
   "source": [
    "factored news_category columns: day_of_week was factored back into 6 columns of 0's and 1's representative if it is that day or not similar to how it was in the original dataset."
   ]
  },
  {
   "cell_type": "code",
   "execution_count": null,
   "metadata": {},
   "outputs": [],
   "source": [
    "df1.describe()"
   ]
  },
  {
   "cell_type": "markdown",
   "metadata": {},
   "source": []
  },
  {
   "cell_type": "markdown",
   "metadata": {},
   "source": [
    "# Modeling and Evaluation 1 (10 points total)"
   ]
  },
  {
   "cell_type": "markdown",
   "metadata": {},
   "source": [
    "## Choose and explain your evaluation metrics that you will use: (i.e., accuracy, precision, recall, F-measure, or any metric we have discussed)."
   ]
  },
  {
   "cell_type": "markdown",
   "metadata": {},
   "source": [
    "### Why are the measure(s) appropriate for analyzing the results of your modeling?"
   ]
  },
  {
   "cell_type": "markdown",
   "metadata": {},
   "source": [
    "Accuracy would not be the most appropriate metric to evaluate our logisitic regression model. This is because your dataset is imbalanced, a majority of shares are in the Q1-Q2 range - so a model that simply predicts all share ranges as Q1-Q2 will have a higher accuracy score. \n",
    "\n",
    "A more appropriate metric to judge our logistic regression model would be precision and recall. By evaluating the logistic regression model by the proportion of predicted positive examples that are truly positive and the predicted negative examples that are truly negative with F1 score, its a good balanced metric to measure model performance. "
   ]
  },
  {
   "cell_type": "markdown",
   "metadata": {},
   "source": [
    "### Give a detailed explanation backing up any assertions."
   ]
  },
  {
   "cell_type": "markdown",
   "metadata": {},
   "source": []
  },
  {
   "cell_type": "markdown",
   "metadata": {},
   "source": [
    "# Modeling and Evaluation 2 (10 points total)"
   ]
  },
  {
   "cell_type": "markdown",
   "metadata": {},
   "source": [
    "## Choose the method you will use for dividing your data into training and testing splits"
   ]
  },
  {
   "cell_type": "markdown",
   "metadata": {},
   "source": [
    "share_quantile_ranges task"
   ]
  },
  {
   "cell_type": "code",
   "execution_count": null,
   "metadata": {},
   "outputs": [],
   "source": [
    "# Remove target, related variables, and other targets\n",
    "\n",
    "\n",
    "\n",
    "X1 = df1.drop(['share_quantile_ranges', 'shares', 'day_of_week', 'news_category'], axis=1) \n",
    "y1 = df1['share_quantile_ranges']\n",
    "# print(X1.columns)\n",
    "# print(y1)\n",
    "\n",
    "# Splitting the Data for share_quantile_ranges task \n",
    "random_state = 42\n",
    "\n",
    "X_train1, X_test1, y_train1, y_test1 = train_test_split(X1, y1, test_size=0.2, random_state=random_state)"
   ]
  },
  {
   "cell_type": "markdown",
   "metadata": {},
   "source": [
    "day_of_week task"
   ]
  },
  {
   "cell_type": "code",
   "execution_count": null,
   "metadata": {},
   "outputs": [],
   "source": [
    "# Remove target, related variables, and other targets\n",
    "X2 = df1.drop(['share_quantile_ranges', 'day_of_week', 'news_category', 'day_of_week_Monday', 'day_of_week_Tuesday', 'day_of_week_Wednesday', 'day_of_week_Thursday', 'day_of_week_Friday', 'day_of_week_Saturday', 'day_of_week_Sunnday'], axis=1) # Removing target categorical variable and other categorical variables\n",
    "y2 = df1['day_of_week']\n",
    "# print(X2.columns)\n",
    "# print(y2)\n",
    "\n",
    "# Splitting the Data for day_of_week task\n",
    "random_state = 42\n",
    "\n",
    "X_train2, X_test2, y_train2, y_test2 = train_test_split(X2, y2, test_size=0.2, random_state=random_state)"
   ]
  },
  {
   "cell_type": "markdown",
   "metadata": {},
   "source": [
    "news_category task"
   ]
  },
  {
   "cell_type": "code",
   "execution_count": null,
   "metadata": {},
   "outputs": [],
   "source": [
    "# Splitting the Data for news_category task\n",
    "X3 = df1.drop(['share_quantile_ranges', 'day_of_week', 'news_category', 'news_category_Lifestyle', 'news_category_Entertainment', 'news_category_Business', 'news_category_Social Media', 'news_category_Tech', 'news_category_World'], axis=1) # Removing target categorical variable and other categorical variables\n",
    "y3 = df1['news_category']\n",
    "# print(X2.columns)\n",
    "# print(y2)\n",
    "\n",
    "random_state = 42\n",
    "\n",
    "X_train3, X_test3, y_train3, y_test3 = train_test_split(X3, y3, test_size=0.2, random_state=random_state)"
   ]
  },
  {
   "cell_type": "markdown",
   "metadata": {},
   "source": [
    "### (i.e., are you using Stratified 10-fold cross validation? Why?)."
   ]
  },
  {
   "cell_type": "markdown",
   "metadata": {},
   "source": []
  },
  {
   "cell_type": "markdown",
   "metadata": {},
   "source": [
    "\n",
    "### Explain why your chosen method is appropriate or use more than one method as appropriate.\n",
    "For example, if you are using time series data then you should be using continuous training and testing sets across time."
   ]
  },
  {
   "cell_type": "markdown",
   "metadata": {},
   "source": []
  },
  {
   "cell_type": "markdown",
   "metadata": {},
   "source": [
    "# Modeling and Evaluation 3 (20 points total)"
   ]
  },
  {
   "cell_type": "markdown",
   "metadata": {},
   "source": [
    "## Create three different classification/regression models (e.g., random forest,KNN, and SVM)."
   ]
  },
  {
   "cell_type": "markdown",
   "metadata": {},
   "source": [
    "### Two modeling techniques must be new (but the third could be SVM or logistic regression)."
   ]
  },
  {
   "cell_type": "code",
   "execution_count": null,
   "metadata": {},
   "outputs": [],
   "source": [
    "# Scale the features in the training and testing sets using StandardScalar.\n",
    "# scaler = StandardScaler()\n",
    "\n",
    "# # Use previous train/test split\n",
    "\n",
    "# # for share_quantile_range_task\n",
    "# X_train1 = scaler.fit_transform(X_train1)\n",
    "# X_test1 = scaler.transform(X_test1)\n",
    "\n",
    "# # for day_of_week task\n",
    "# X_train2 = scaler.fit_transform(X_train2)\n",
    "# X_test2 = scaler.transform(X_test2)\n",
    "\n",
    "# # for news_category task\n",
    "# X_train2 = scaler.fit_transform(X_train3)\n",
    "# X_test2 = scaler.transform(X_test3)"
   ]
  },
  {
   "cell_type": "code",
   "execution_count": null,
   "metadata": {},
   "outputs": [],
   "source": [
    "# # Scale the features in the training and testing sets using QuantileTransformer.\n",
    "# quantile_transformer = QuantileTransformer(n_quantiles=100)\n",
    "\n",
    "# # Use previous train/test split\n",
    "\n",
    "# # for share_quantile_range_task\n",
    "# X_train_q1 = quantile_transformer.fit_transform(X_train1)\n",
    "# X_test_q1 = quantile_transformer.fit_transform(X_test1)\n",
    "\n",
    "# # for day_of_week task\n",
    "# X_train_q2 = quantile_transformer.fit_transform(X_train2)\n",
    "# X_test_q2 = quantile_transformer.fit_transform(X_test2)\n",
    "\n",
    "# # for news_category task\n",
    "# X_train_q3 = quantile_transformer.fit_transform(X_train3)\n",
    "# X_test_q3 = quantile_transformer.fit_transform(X_test3)"
   ]
  },
  {
   "cell_type": "markdown",
   "metadata": {},
   "source": [
    "#### Random Forest"
   ]
  },
  {
   "cell_type": "code",
   "execution_count": null,
   "metadata": {},
   "outputs": [],
   "source": [
    "# Create the random forest model\n",
    "rf = RandomForestClassifier(n_estimators=100)"
   ]
  },
  {
   "cell_type": "markdown",
   "metadata": {},
   "source": [
    "##### share_quantile_ranges task"
   ]
  },
  {
   "cell_type": "markdown",
   "metadata": {},
   "source": [
    "##### StandardScalar transformed"
   ]
  },
  {
   "cell_type": "code",
   "execution_count": null,
   "metadata": {},
   "outputs": [],
   "source": [
    "# Train the share_quantile_ranges model\n",
    "rf.fit(X_train1, y_train1)\n"
   ]
  },
  {
   "cell_type": "code",
   "execution_count": null,
   "metadata": {},
   "outputs": [],
   "source": [
    "# Make predictions on the test set for share_quantile_ranges task\n",
    "rf_y_pred1 = rf.predict(X_test1)"
   ]
  },
  {
   "cell_type": "code",
   "execution_count": null,
   "metadata": {},
   "outputs": [],
   "source": [
    "\n",
    "\n",
    "# Calculate the accuracy, precision, recall, and F1 score of the model on the test data for the share_quantile_ranges task.\n",
    "rf_accuracy1 = accuracy_score(y_test1, rf_y_pred1)\n",
    "rf_precision1 = precision_score(y_test1, rf_y_pred1, average='macro')\n",
    "rf_recall1 = recall_score(y_test1, rf_y_pred1, average='macro')\n",
    "rf_f1_score1 = f1_score(y_test1, rf_y_pred1, average='macro')\n",
    "\n",
    "# Create an array to store the model evaluation metrics\n",
    "rf_model_scores1 = np.array([rf_accuracy1, rf_precision1, rf_recall1, rf_f1_score1])\n",
    "\n",
    "# Print the model evaluation metrics\n",
    "print('Random Forest on share_quantile_ranges Task')\n",
    "print(rf_model_scores1)\n",
    "print('---------------------------------------------------------')\n",
    "print('Random Forest accuracy:', rf_accuracy1)\n",
    "print('Random Forest precision:', rf_precision1)\n",
    "print('Random Forest recall:', rf_recall1)\n",
    "print('Random Forest F1 score:', rf_f1_score1)"
   ]
  },
  {
   "cell_type": "markdown",
   "metadata": {},
   "source": [
    "### Adjust parameters as appropriate to increase generalization performance using your chosen metric."
   ]
  },
  {
   "cell_type": "code",
   "execution_count": null,
   "metadata": {},
   "outputs": [],
   "source": [
    "# # Dimensionality Reduction Using Feature Selection\n",
    "\n",
    "# # Create a SelectKBest object with k=10.\n",
    "# selector = SelectKBest(f_classif, k=10)\n",
    "\n",
    "# # Fit the selector to the data.\n",
    "# selector.fit(X, y)\n",
    "\n",
    "# # Get the selected features.\n",
    "# selected_features = selector.get_support()\n",
    "\n",
    "# # Reduce the dataset to the selected features.\n",
    "# X_reduced = X[:, selected_features]\n",
    "\n",
    "# We will want to identify the elbow point because this is the point where the rrate of change of the curve starts to rapidly decrease \n",
    "\n",
    "# # Calculate the inertia for different values of k.\n",
    "# inertias = []\n",
    "# for k in range(2, 10):\n",
    "#     kmeans = KMeans(n_clusters=k)\n",
    "#     kmeans.fit(data)\n",
    "#     inertias.append(kmeans.inertia_)\n",
    "\n",
    "# # Plot the inertia vs k.\n",
    "# plt.plot(range(2, 10), inertias, 'bx-')\n",
    "# plt.xlabel('k')\n",
    "# plt.ylabel('Inertia')\n",
    "# plt.title('Elbow Method')\n",
    "# plt.show()"
   ]
  },
  {
   "cell_type": "markdown",
   "metadata": {},
   "source": []
  },
  {
   "cell_type": "markdown",
   "metadata": {},
   "source": [
    "##### QuantileTransformer transformed"
   ]
  },
  {
   "cell_type": "code",
   "execution_count": null,
   "metadata": {},
   "outputs": [],
   "source": [
    "# Train the share_quantile_ranges model\n",
    "rf.fit(X_train_q1, y_train1)"
   ]
  },
  {
   "cell_type": "code",
   "execution_count": null,
   "metadata": {},
   "outputs": [],
   "source": [
    "# Make predictions on the test set for share_quantile_ranges task\n",
    "rf_y_pred_q1 = rf.predict(X_test_q1)"
   ]
  },
  {
   "cell_type": "code",
   "execution_count": null,
   "metadata": {},
   "outputs": [],
   "source": [
    "# Calculate the accuracy, precision, recall, and F1 score of the model on the test data for the share_quantile_ranges task.\n",
    "rf_accuracy_q1 = accuracy_score(y_test1, rf_y_pred_q1)\n",
    "rf_precision_q1 = precision_score(y_test1, rf_y_pred_q1, average='macro')\n",
    "rf_recall_q1 = recall_score(y_test1, rf_y_pred_q1, average='macro')\n",
    "rf_f1_score_q1 = f1_score(y_test1, rf_y_pred_q1, average='macro')\n",
    "\n",
    "# Create an array to store the model evaluation metrics\n",
    "rf_model_scores_q1 = np.array([rf_accuracy_q1, rf_precision_q1, rf_recall_q1, rf_f1_score_q1])\n",
    "\n",
    "# Print the model evaluation metrics\n",
    "print('Random Forest on share_quantile_ranges Task')\n",
    "print(rf_model_scores_q1)\n",
    "print('---------------------------------------------------------')\n",
    "print('Random Forest accuracy:', rf_accuracy_q1)\n",
    "print('Random Forest precision:', rf_precision_q1)\n",
    "print('Random Forest recall:', rf_recall_q1)\n",
    "print('Random Forest F1 score:', rf_f1_score_q1)"
   ]
  },
  {
   "cell_type": "markdown",
   "metadata": {},
   "source": [
    "### Adjust parameters as appropriate to increase generalization performance using your chosen metric."
   ]
  },
  {
   "cell_type": "code",
   "execution_count": null,
   "metadata": {},
   "outputs": [],
   "source": [
    "# # Dimensionality Reduction Using Feature Selection\n",
    "\n",
    "# # Create a SelectKBest object with k=10.\n",
    "# selector = SelectKBest(f_classif, k=10)\n",
    "\n",
    "# # Fit the selector to the data.\n",
    "# selector.fit(X, y)\n",
    "\n",
    "# # Get the selected features.\n",
    "# selected_features = selector.get_support()\n",
    "\n",
    "# # Reduce the dataset to the selected features.\n",
    "# X_reduced = X[:, selected_features]\n",
    "\n",
    "# We will want to identify the elbow point because this is the point where the rrate of change of the curve starts to rapidly decrease \n",
    "\n",
    "# # Calculate the inertia for different values of k.\n",
    "# inertias = []\n",
    "# for k in range(2, 10):\n",
    "#     kmeans = KMeans(n_clusters=k)\n",
    "#     kmeans.fit(data)\n",
    "#     inertias.append(kmeans.inertia_)\n",
    "\n",
    "# # Plot the inertia vs k.\n",
    "# plt.plot(range(2, 10), inertias, 'bx-')\n",
    "# plt.xlabel('k')\n",
    "# plt.ylabel('Inertia')\n",
    "# plt.title('Elbow Method')\n",
    "# plt.show()"
   ]
  },
  {
   "cell_type": "markdown",
   "metadata": {},
   "source": []
  },
  {
   "cell_type": "markdown",
   "metadata": {},
   "source": [
    "##### day_of_week task"
   ]
  },
  {
   "cell_type": "markdown",
   "metadata": {},
   "source": [
    "##### StandardScalar transformed"
   ]
  },
  {
   "cell_type": "code",
   "execution_count": null,
   "metadata": {},
   "outputs": [],
   "source": [
    "# Train the day_of_week task\n",
    "rf.fit(X_train2, y_train2)"
   ]
  },
  {
   "cell_type": "code",
   "execution_count": null,
   "metadata": {},
   "outputs": [],
   "source": [
    "# Make predictions on the test set for day_of_week task\n",
    "rf_y_pred2 = rf.predict(X_test2)"
   ]
  },
  {
   "cell_type": "code",
   "execution_count": null,
   "metadata": {},
   "outputs": [],
   "source": [
    "# Calculate the accuracy, precision, recall, and F1 score of the model on the test data for day_of_week task.\n",
    "rf_accuracy2 = accuracy_score(y_test2, rf_y_pred2)\n",
    "rf_precision2 = precision_score(y_test2, rf_y_pred2, average='macro')\n",
    "rf_recall2 = recall_score(y_test2, rf_y_pred2, average='macro')\n",
    "rf_f1_score2 = f1_score(y_test2, rf_y_pred2, average='macro')\n",
    "\n",
    "# Create an array to store the model evaluation metrics\n",
    "rf_model_scores2 = np.array([rf_accuracy2, rf_precision2, rf_recall2, rf_f1_score2])\n",
    "\n",
    "# Print the model evaluation metrics\n",
    "print('Random Forest on day_of_week Task')\n",
    "print(rf_model_scores2)\n",
    "print('---------------------------------------------------------')\n",
    "print('Random Forest accuracy:', rf_accuracy2)\n",
    "print('Random Forest precision:', rf_precision2)\n",
    "print('Random Forest recall:', rf_recall2)\n",
    "print('Random Forest F1 score:', rf_f1_score2)"
   ]
  },
  {
   "cell_type": "markdown",
   "metadata": {},
   "source": [
    "### Adjust parameters as appropriate to increase generalization performance using your chosen metric."
   ]
  },
  {
   "cell_type": "code",
   "execution_count": null,
   "metadata": {},
   "outputs": [],
   "source": [
    "# # Dimensionality Reduction Using Feature Selection\n",
    "\n",
    "# # Create a SelectKBest object with k=10.\n",
    "# selector = SelectKBest(f_classif, k=10)\n",
    "\n",
    "# # Fit the selector to the data.\n",
    "# selector.fit(X, y)\n",
    "\n",
    "# # Get the selected features.\n",
    "# selected_features = selector.get_support()\n",
    "\n",
    "# # Reduce the dataset to the selected features.\n",
    "# X_reduced = X[:, selected_features]\n",
    "\n",
    "# We will want to identify the elbow point because this is the point where the rrate of change of the curve starts to rapidly decrease \n",
    "\n",
    "# # Calculate the inertia for different values of k.\n",
    "# inertias = []\n",
    "# for k in range(2, 10):\n",
    "#     kmeans = KMeans(n_clusters=k)\n",
    "#     kmeans.fit(data)\n",
    "#     inertias.append(kmeans.inertia_)\n",
    "\n",
    "# # Plot the inertia vs k.\n",
    "# plt.plot(range(2, 10), inertias, 'bx-')\n",
    "# plt.xlabel('k')\n",
    "# plt.ylabel('Inertia')\n",
    "# plt.title('Elbow Method')\n",
    "# plt.show()"
   ]
  },
  {
   "cell_type": "markdown",
   "metadata": {},
   "source": []
  },
  {
   "cell_type": "markdown",
   "metadata": {},
   "source": [
    "##### QuantileTransformer transformed"
   ]
  },
  {
   "cell_type": "code",
   "execution_count": null,
   "metadata": {},
   "outputs": [],
   "source": [
    "# Train the day_of_week task\n",
    "rf.fit(X_train2, y_train2)"
   ]
  },
  {
   "cell_type": "code",
   "execution_count": null,
   "metadata": {},
   "outputs": [],
   "source": [
    "# Make predictions on the test set for day_of_week task\n",
    "rf_y_pred_q2 = rf.predict(X_test2)"
   ]
  },
  {
   "cell_type": "code",
   "execution_count": null,
   "metadata": {},
   "outputs": [],
   "source": [
    "# Calculate the accuracy, precision, recall, and F1 score of the model on the test data for day_of_week task.\n",
    "rf_accuracy_q2 = accuracy_score(y_test2, rf_y_pred_q2)\n",
    "rf_precision_q2 = precision_score(y_test2, rf_y_pred_q2, average='macro')\n",
    "rf_recall_q2 = recall_score(y_test2, rf_y_pred_q2, average='macro')\n",
    "rf_f1_score_q2 = f1_score(y_test2, rf_y_pred_q2, average='macro')\n",
    "\n",
    "# Create an array to store the model evaluation metrics\n",
    "rf_model_scores_q2 = np.array([rf_accuracy_q2, rf_precision_q2, rf_recall_q2, rf_f1_score_q2])\n",
    "\n",
    "# Print the model evaluation metrics\n",
    "print('Random Forest on day_of_week Task')\n",
    "print(rf_model_scores_q2)\n",
    "print('---------------------------------------------------------')\n",
    "print('Random Forest accuracy:', rf_accuracy_q2)\n",
    "print('Random Forest precision:', rf_precision_q2)\n",
    "print('Random Forest recall:', rf_recall_q2)\n",
    "print('Random Forest F1 score:', rf_f1_score_q2)"
   ]
  },
  {
   "cell_type": "markdown",
   "metadata": {},
   "source": [
    "### Adjust parameters as appropriate to increase generalization performance using your chosen metric."
   ]
  },
  {
   "cell_type": "code",
   "execution_count": null,
   "metadata": {},
   "outputs": [],
   "source": [
    "# # Dimensionality Reduction Using Feature Selection\n",
    "\n",
    "# # Create a SelectKBest object with k=10.\n",
    "# selector = SelectKBest(f_classif, k=10)\n",
    "\n",
    "# # Fit the selector to the data.\n",
    "# selector.fit(X, y)\n",
    "\n",
    "# # Get the selected features.\n",
    "# selected_features = selector.get_support()\n",
    "\n",
    "# # Reduce the dataset to the selected features.\n",
    "# X_reduced = X[:, selected_features]\n",
    "\n",
    "# We will want to identify the elbow point because this is the point where the rrate of change of the curve starts to rapidly decrease \n",
    "\n",
    "# # Calculate the inertia for different values of k.\n",
    "# inertias = []\n",
    "# for k in range(2, 10):\n",
    "#     kmeans = KMeans(n_clusters=k)\n",
    "#     kmeans.fit(data)\n",
    "#     inertias.append(kmeans.inertia_)\n",
    "\n",
    "# # Plot the inertia vs k.\n",
    "# plt.plot(range(2, 10), inertias, 'bx-')\n",
    "# plt.xlabel('k')\n",
    "# plt.ylabel('Inertia')\n",
    "# plt.title('Elbow Method')\n",
    "# plt.show()"
   ]
  },
  {
   "cell_type": "markdown",
   "metadata": {},
   "source": []
  },
  {
   "cell_type": "markdown",
   "metadata": {},
   "source": [
    "##### news_category task"
   ]
  },
  {
   "cell_type": "markdown",
   "metadata": {},
   "source": [
    "##### StandardScalar transformed"
   ]
  },
  {
   "cell_type": "code",
   "execution_count": null,
   "metadata": {},
   "outputs": [],
   "source": [
    "# Train the news_category task\n",
    "rf.fit(X_train3, y_train3)"
   ]
  },
  {
   "cell_type": "code",
   "execution_count": null,
   "metadata": {},
   "outputs": [],
   "source": [
    "# Make predictions on the test set for news_category task\n",
    "rf_y_pred3 = rf.predict(X_test3)"
   ]
  },
  {
   "cell_type": "code",
   "execution_count": null,
   "metadata": {},
   "outputs": [],
   "source": [
    "# Calculate the accuracy, precision, recall, and F1 score of the model on the test data for news_category task.\n",
    "rf_accuracy3 = accuracy_score(y_test3, rf_y_pred3)\n",
    "rf_precision3 = precision_score(y_test3, rf_y_pred3, average='macro')\n",
    "rf_recall3 = recall_score(y_test3, rf_y_pred3, average='macro')\n",
    "rf_f1_score3 = f1_score(y_test3, rf_y_pred3, average='macro')\n",
    "\n",
    "# Create an array to store the model evaluation metrics\n",
    "rf_model_scores3 = np.array([rf_accuracy3, rf_precision3, rf_recall3, rf_f1_score3])\n",
    "\n",
    "# Print the model evaluation metrics\n",
    "print('Random Forest on news_category Task')\n",
    "print(rf_model_scores3)\n",
    "print('---------------------------------------------------------')\n",
    "print('Random Forest accuracy:', rf_accuracy3)\n",
    "print('Random Forest precision:', rf_precision3)\n",
    "print('Random Forest recall:', rf_recall3)\n",
    "print('Random Forest F1 score:', rf_f1_score3)"
   ]
  },
  {
   "cell_type": "markdown",
   "metadata": {},
   "source": [
    "### Adjust parameters as appropriate to increase generalization performance using your chosen metric."
   ]
  },
  {
   "cell_type": "code",
   "execution_count": null,
   "metadata": {},
   "outputs": [],
   "source": [
    "# # Dimensionality Reduction Using Feature Selection\n",
    "\n",
    "# # Create a SelectKBest object with k=10.\n",
    "# selector = SelectKBest(f_classif, k=10)\n",
    "\n",
    "# # Fit the selector to the data.\n",
    "# selector.fit(X, y)\n",
    "\n",
    "# # Get the selected features.\n",
    "# selected_features = selector.get_support()\n",
    "\n",
    "# # Reduce the dataset to the selected features.\n",
    "# X_reduced = X[:, selected_features]\n",
    "\n",
    "# We will want to identify the elbow point because this is the point where the rrate of change of the curve starts to rapidly decrease \n",
    "\n",
    "# # Calculate the inertia for different values of k.\n",
    "# inertias = []\n",
    "# for k in range(2, 10):\n",
    "#     kmeans = KMeans(n_clusters=k)\n",
    "#     kmeans.fit(data)\n",
    "#     inertias.append(kmeans.inertia_)\n",
    "\n",
    "# # Plot the inertia vs k.\n",
    "# plt.plot(range(2, 10), inertias, 'bx-')\n",
    "# plt.xlabel('k')\n",
    "# plt.ylabel('Inertia')\n",
    "# plt.title('Elbow Method')\n",
    "# plt.show()"
   ]
  },
  {
   "cell_type": "markdown",
   "metadata": {},
   "source": []
  },
  {
   "cell_type": "markdown",
   "metadata": {},
   "source": [
    "##### QuantileTransformer transformed"
   ]
  },
  {
   "cell_type": "code",
   "execution_count": null,
   "metadata": {},
   "outputs": [],
   "source": [
    "# Train the news_category task\n",
    "rf.fit(X_train3, y_train3)"
   ]
  },
  {
   "cell_type": "code",
   "execution_count": null,
   "metadata": {},
   "outputs": [],
   "source": [
    "# Make predictions on the test set for news_category task\n",
    "rf_y_pred_q3 = rf.predict(X_test3)"
   ]
  },
  {
   "cell_type": "code",
   "execution_count": null,
   "metadata": {},
   "outputs": [],
   "source": [
    "# Calculate the accuracy, precision, recall, and F1 score of the model on the test data for news_category task.\n",
    "rf_accuracy_q3 = accuracy_score(y_test3, rf_y_pred_q3)\n",
    "rf_precision_q3 = precision_score(y_test3, rf_y_pred_q3, average='macro')\n",
    "rf_recall_q3 = recall_score(y_test3, rf_y_pred_q3, average='macro')\n",
    "rf_f1_score_q3 = f1_score(y_test3, rf_y_pred_q3, average='macro')\n",
    "\n",
    "# Create an array to store the model evaluation metrics\n",
    "rf_model_scores_q3 = np.array([rf_accuracy_q3, rf_precision_q3, rf_recall_q3, rf_f1_score_q3])\n",
    "\n",
    "# Print the model evaluation metrics\n",
    "print('Random Forest on news_category Task')\n",
    "print(rf_model_scores_q3)\n",
    "print('---------------------------------------------------------')\n",
    "print('Random Forest accuracy:', rf_accuracy_q3)\n",
    "print('Random Forest precision:', rf_precision_q3)\n",
    "print('Random Forest recall:', rf_recall_q3)\n",
    "print('Random Forest F1 score:', rf_f1_score_q3)"
   ]
  },
  {
   "cell_type": "markdown",
   "metadata": {},
   "source": [
    "### Adjust parameters as appropriate to increase generalization performance using your chosen metric."
   ]
  },
  {
   "cell_type": "code",
   "execution_count": null,
   "metadata": {},
   "outputs": [],
   "source": [
    "# # Dimensionality Reduction Using Feature Selection\n",
    "\n",
    "# # Create a SelectKBest object with k=10.\n",
    "# selector = SelectKBest(f_classif, k=10)\n",
    "\n",
    "# # Fit the selector to the data.\n",
    "# selector.fit(X, y)\n",
    "\n",
    "# # Get the selected features.\n",
    "# selected_features = selector.get_support()\n",
    "\n",
    "# # Reduce the dataset to the selected features.\n",
    "# X_reduced = X[:, selected_features]\n",
    "\n",
    "# We will want to identify the elbow point because this is the point where the rrate of change of the curve starts to rapidly decrease \n",
    "\n",
    "# # Calculate the inertia for different values of k.\n",
    "# inertias = []\n",
    "# for k in range(2, 10):\n",
    "#     kmeans = KMeans(n_clusters=k)\n",
    "#     kmeans.fit(data)\n",
    "#     inertias.append(kmeans.inertia_)\n",
    "\n",
    "# # Plot the inertia vs k.\n",
    "# plt.plot(range(2, 10), inertias, 'bx-')\n",
    "# plt.xlabel('k')\n",
    "# plt.ylabel('Inertia')\n",
    "# plt.title('Elbow Method')\n",
    "# plt.show()"
   ]
  },
  {
   "cell_type": "markdown",
   "metadata": {},
   "source": []
  },
  {
   "cell_type": "markdown",
   "metadata": {},
   "source": [
    "#### KNN"
   ]
  },
  {
   "cell_type": "code",
   "execution_count": null,
   "metadata": {},
   "outputs": [],
   "source": [
    "# Create the KNN model\n",
    "knn = KNeighborsClassifier(n_neighbors=5)"
   ]
  },
  {
   "cell_type": "markdown",
   "metadata": {},
   "source": [
    "##### share_quantile_ranges task"
   ]
  },
  {
   "cell_type": "markdown",
   "metadata": {},
   "source": [
    "##### StandardScalar transformed"
   ]
  },
  {
   "cell_type": "code",
   "execution_count": null,
   "metadata": {},
   "outputs": [],
   "source": [
    "\n",
    "# Train the model for the share_quantile_ranges task.\n",
    "knn.fit(X_train1, y_train1)"
   ]
  },
  {
   "cell_type": "code",
   "execution_count": null,
   "metadata": {},
   "outputs": [],
   "source": [
    "# Make predictions on the test set for the share_quantile_ranges task.\n",
    "knn_y_pred1 = knn.predict(X_test1)"
   ]
  },
  {
   "cell_type": "code",
   "execution_count": null,
   "metadata": {},
   "outputs": [],
   "source": [
    "# Calculate the accuracy, precision, recall, and F1 score of the model on the test data for the share_quantile_ranges task.\n",
    "knn_accuracy1 = accuracy_score(y_test1, knn_y_pred1)\n",
    "knn_precision1 = precision_score(y_test1, knn_y_pred1, average='macro')\n",
    "knn_recall1 = recall_score(y_test1, knn_y_pred1, average='macro')\n",
    "knn_f1_score1 = f1_score(y_test1, knn_y_pred1, average='macro')\n",
    "\n",
    "# Create an array to store the model evaluation metrics for the share_quantile_ranges task.\n",
    "knn_model_scores1 = np.array([knn_accuracy1, knn_precision1, knn_recall1, knn_f1_score1])\n",
    "print('KNN on share_quantile_ranges Task')\n",
    "print(knn_model_scores1)\n",
    "print('---------------------------------------------------------')\n",
    "print('KNN accuracy:', knn_accuracy1)\n",
    "print('KNN precision:', knn_precision1)\n",
    "print('KNN recall:', knn_recall1)\n",
    "print('KNN F1 score:', knn_f1_score1)"
   ]
  },
  {
   "cell_type": "markdown",
   "metadata": {},
   "source": [
    "### Adjust parameters as appropriate to increase generalization performance using your chosen metric."
   ]
  },
  {
   "cell_type": "code",
   "execution_count": null,
   "metadata": {},
   "outputs": [],
   "source": [
    "# # Dimensionality Reduction Using Feature Selection\n",
    "\n",
    "# # Create a SelectKBest object with k=10.\n",
    "# selector = SelectKBest(f_classif, k=10)\n",
    "\n",
    "# # Fit the selector to the data.\n",
    "# selector.fit(X, y)\n",
    "\n",
    "# # Get the selected features.\n",
    "# selected_features = selector.get_support()\n",
    "\n",
    "# # Reduce the dataset to the selected features.\n",
    "# X_reduced = X[:, selected_features]\n",
    "\n",
    "# We will want to identify the elbow point because this is the point where the rrate of change of the curve starts to rapidly decrease \n",
    "\n",
    "# # Calculate the inertia for different values of k.\n",
    "# inertias = []\n",
    "# for k in range(2, 10):\n",
    "#     kmeans = KMeans(n_clusters=k)\n",
    "#     kmeans.fit(data)\n",
    "#     inertias.append(kmeans.inertia_)\n",
    "\n",
    "# # Plot the inertia vs k.\n",
    "# plt.plot(range(2, 10), inertias, 'bx-')\n",
    "# plt.xlabel('k')\n",
    "# plt.ylabel('Inertia')\n",
    "# plt.title('Elbow Method')\n",
    "# plt.show()"
   ]
  },
  {
   "cell_type": "markdown",
   "metadata": {},
   "source": []
  },
  {
   "cell_type": "markdown",
   "metadata": {},
   "source": [
    "##### QuantileTransformer transformed"
   ]
  },
  {
   "cell_type": "code",
   "execution_count": null,
   "metadata": {},
   "outputs": [],
   "source": [
    "# Train the model for the share_quantile_ranges task.\n",
    "knn.fit(X_train1, y_train1)"
   ]
  },
  {
   "cell_type": "code",
   "execution_count": null,
   "metadata": {},
   "outputs": [],
   "source": [
    "# Make predictions on the test set for the share_quantile_ranges task.\n",
    "knn_y_pred_q1 = knn.predict(X_test1)"
   ]
  },
  {
   "cell_type": "code",
   "execution_count": null,
   "metadata": {},
   "outputs": [],
   "source": [
    "# Calculate the accuracy, precision, recall, and F1 score of the model on the test data for the share_quantile_ranges task.\n",
    "knn_accuracy_q1 = accuracy_score(y_test1, knn_y_pred_q1)\n",
    "knn_precision_q1 = precision_score(y_test1, knn_y_pred_q1, average='macro')\n",
    "knn_recall_q1 = recall_score(y_test1, knn_y_pred_q1, average='macro')\n",
    "knn_f1_score_q1 = f1_score(y_test1, knn_y_pred_q1, average='macro')\n",
    "\n",
    "# Create an array to store the model evaluation metrics for the share_quantile_ranges task.\n",
    "knn_model_scores_q1 = np.array([knn_accuracy_q1, knn_precision_q1, knn_recall_q1, knn_f1_score_q1])\n",
    "print('KNN on share_quantile_ranges Task')\n",
    "print(knn_model_scores_q1)\n",
    "print('---------------------------------------------------------')\n",
    "print('KNN accuracy:', knn_accuracy_q1)\n",
    "print('KNN precision:', knn_precision_q1)\n",
    "print('KNN recall:', knn_recall_q1)\n",
    "print('KNN F1 score:', knn_f1_score_q1)"
   ]
  },
  {
   "cell_type": "markdown",
   "metadata": {},
   "source": [
    "### Adjust parameters as appropriate to increase generalization performance using your chosen metric."
   ]
  },
  {
   "cell_type": "code",
   "execution_count": null,
   "metadata": {},
   "outputs": [],
   "source": [
    "# # Dimensionality Reduction Using Feature Selection\n",
    "\n",
    "# # Create a SelectKBest object with k=10.\n",
    "# selector = SelectKBest(f_classif, k=10)\n",
    "\n",
    "# # Fit the selector to the data.\n",
    "# selector.fit(X, y)\n",
    "\n",
    "# # Get the selected features.\n",
    "# selected_features = selector.get_support()\n",
    "\n",
    "# # Reduce the dataset to the selected features.\n",
    "# X_reduced = X[:, selected_features]\n",
    "\n",
    "# We will want to identify the elbow point because this is the point where the rrate of change of the curve starts to rapidly decrease \n",
    "\n",
    "# # Calculate the inertia for different values of k.\n",
    "# inertias = []\n",
    "# for k in range(2, 10):\n",
    "#     kmeans = KMeans(n_clusters=k)\n",
    "#     kmeans.fit(data)\n",
    "#     inertias.append(kmeans.inertia_)\n",
    "\n",
    "# # Plot the inertia vs k.\n",
    "# plt.plot(range(2, 10), inertias, 'bx-')\n",
    "# plt.xlabel('k')\n",
    "# plt.ylabel('Inertia')\n",
    "# plt.title('Elbow Method')\n",
    "# plt.show()"
   ]
  },
  {
   "cell_type": "markdown",
   "metadata": {},
   "source": []
  },
  {
   "cell_type": "markdown",
   "metadata": {},
   "source": [
    "##### day_of_week task"
   ]
  },
  {
   "cell_type": "markdown",
   "metadata": {},
   "source": [
    "##### StandardScalar transformed"
   ]
  },
  {
   "cell_type": "code",
   "execution_count": null,
   "metadata": {},
   "outputs": [],
   "source": [
    "# Train the model for the day_of_week task.\n",
    "knn.fit(X_train2, y_train2)"
   ]
  },
  {
   "cell_type": "code",
   "execution_count": null,
   "metadata": {},
   "outputs": [],
   "source": [
    "# Make predictions on the test set for the day_of_week task.\n",
    "knn_y_pred2 = knn.predict(X_test2)"
   ]
  },
  {
   "cell_type": "code",
   "execution_count": null,
   "metadata": {},
   "outputs": [],
   "source": [
    "# Calculate the accuracy, precision, recall, and F1 score of the model on the test data for the day_of_week task.\n",
    "knn_accuracy2 = accuracy_score(y_test2, knn_y_pred2)\n",
    "knn_precision2 = precision_score(y_test2, knn_y_pred2, average='macro')\n",
    "knn_recall2 = recall_score(y_test2, knn_y_pred2, average='macro')\n",
    "knn_f1_score2 = f1_score(y_test2, knn_y_pred2, average='macro')\n",
    "\n",
    "# Create an array to store the model evaluation metrics the day_of_week task.\n",
    "knn_model_scores2 = np.array([knn_accuracy2, knn_precision2, knn_recall2, knn_f1_score2])\n",
    "print('KNN on day_of_week Task')\n",
    "print(knn_model_scores2)\n",
    "print('---------------------------------------------------------')\n",
    "print('KNN accuracy:', knn_accuracy2)\n",
    "print('KNN precision:', knn_precision2)\n",
    "print('KNN recall:', knn_recall2)\n",
    "print('KNN F1 score:', knn_f1_score2)"
   ]
  },
  {
   "cell_type": "markdown",
   "metadata": {},
   "source": [
    "### Adjust parameters as appropriate to increase generalization performance using your chosen metric."
   ]
  },
  {
   "cell_type": "code",
   "execution_count": null,
   "metadata": {},
   "outputs": [],
   "source": [
    "# # Dimensionality Reduction Using Feature Selection\n",
    "\n",
    "# # Create a SelectKBest object with k=10.\n",
    "# selector = SelectKBest(f_classif, k=10)\n",
    "\n",
    "# # Fit the selector to the data.\n",
    "# selector.fit(X, y)\n",
    "\n",
    "# # Get the selected features.\n",
    "# selected_features = selector.get_support()\n",
    "\n",
    "# # Reduce the dataset to the selected features.\n",
    "# X_reduced = X[:, selected_features]\n",
    "\n",
    "# We will want to identify the elbow point because this is the point where the rrate of change of the curve starts to rapidly decrease \n",
    "\n",
    "# # Calculate the inertia for different values of k.\n",
    "# inertias = []\n",
    "# for k in range(2, 10):\n",
    "#     kmeans = KMeans(n_clusters=k)\n",
    "#     kmeans.fit(data)\n",
    "#     inertias.append(kmeans.inertia_)\n",
    "\n",
    "# # Plot the inertia vs k.\n",
    "# plt.plot(range(2, 10), inertias, 'bx-')\n",
    "# plt.xlabel('k')\n",
    "# plt.ylabel('Inertia')\n",
    "# plt.title('Elbow Method')\n",
    "# plt.show()"
   ]
  },
  {
   "cell_type": "markdown",
   "metadata": {},
   "source": []
  },
  {
   "cell_type": "markdown",
   "metadata": {},
   "source": [
    "##### QuantileTransformer transformed"
   ]
  },
  {
   "cell_type": "code",
   "execution_count": null,
   "metadata": {},
   "outputs": [],
   "source": [
    "# Train the model for the day_of_week task.\n",
    "knn.fit(X_train2, y_train2)"
   ]
  },
  {
   "cell_type": "code",
   "execution_count": null,
   "metadata": {},
   "outputs": [],
   "source": [
    "# Make predictions on the test set for the day_of_week task.\n",
    "knn_y_pred_q2 = knn.predict(X_test2)"
   ]
  },
  {
   "cell_type": "code",
   "execution_count": null,
   "metadata": {},
   "outputs": [],
   "source": [
    "# Calculate the accuracy, precision, recall, and F1 score of the model on the test data for the day_of_week task.\n",
    "knn_accuracy_q2 = accuracy_score(y_test2, knn_y_pred_q2)\n",
    "knn_precision_q2 = precision_score(y_test2, knn_y_pred_q2, average='macro')\n",
    "knn_recall_q2 = recall_score(y_test2, knn_y_pred_q2, average='macro')\n",
    "knn_f1_score_q2 = f1_score(y_test2, knn_y_pred_q2, average='macro')\n",
    "\n",
    "# Create an array to store the model evaluation metrics the day_of_week task.\n",
    "knn_model_scores_q2 = np.array([knn_accuracy_q2, knn_precision_q2, knn_recall_q2, knn_f1_score_q2])\n",
    "print('KNN on day_of_week Task')\n",
    "print(knn_model_scores_q2)\n",
    "print('---------------------------------------------------------')\n",
    "print('KNN accuracy:', knn_accuracy_q2)\n",
    "print('KNN precision:', knn_precision_q2)\n",
    "print('KNN recall:', knn_recall_q2)\n",
    "print('KNN F1 score:', knn_f1_score_q2)"
   ]
  },
  {
   "cell_type": "code",
   "execution_count": null,
   "metadata": {},
   "outputs": [],
   "source": [
    "# # Dimensionality Reduction Using Feature Selection\n",
    "\n",
    "# # Create a SelectKBest object with k=10.\n",
    "# selector = SelectKBest(f_classif, k=10)\n",
    "\n",
    "# # Fit the selector to the data.\n",
    "# selector.fit(X, y)\n",
    "\n",
    "# # Get the selected features.\n",
    "# selected_features = selector.get_support()\n",
    "\n",
    "# # Reduce the dataset to the selected features.\n",
    "# X_reduced = X[:, selected_features]\n",
    "\n",
    "# We will want to identify the elbow point because this is the point where the rrate of change of the curve starts to rapidly decrease \n",
    "\n",
    "# # Calculate the inertia for different values of k.\n",
    "# inertias = []\n",
    "# for k in range(2, 10):\n",
    "#     kmeans = KMeans(n_clusters=k)\n",
    "#     kmeans.fit(data)\n",
    "#     inertias.append(kmeans.inertia_)\n",
    "\n",
    "# # Plot the inertia vs k.\n",
    "# plt.plot(range(2, 10), inertias, 'bx-')\n",
    "# plt.xlabel('k')\n",
    "# plt.ylabel('Inertia')\n",
    "# plt.title('Elbow Method')\n",
    "# plt.show()"
   ]
  },
  {
   "cell_type": "markdown",
   "metadata": {},
   "source": []
  },
  {
   "cell_type": "markdown",
   "metadata": {},
   "source": [
    "### Adjust parameters as appropriate to increase generalization performance using your chosen metric."
   ]
  },
  {
   "cell_type": "code",
   "execution_count": null,
   "metadata": {},
   "outputs": [],
   "source": [
    "# # Dimensionality Reduction Using Feature Selection\n",
    "\n",
    "# # Create a SelectKBest object with k=10.\n",
    "# selector = SelectKBest(f_classif, k=10)\n",
    "\n",
    "# # Fit the selector to the data.\n",
    "# selector.fit(X, y)\n",
    "\n",
    "# # Get the selected features.\n",
    "# selected_features = selector.get_support()\n",
    "\n",
    "# # Reduce the dataset to the selected features.\n",
    "# X_reduced = X[:, selected_features]\n",
    "\n",
    "# We will want to identify the elbow point because this is the point where the rrate of change of the curve starts to rapidly decrease \n",
    "\n",
    "# # Calculate the inertia for different values of k.\n",
    "# inertias = []\n",
    "# for k in range(2, 10):\n",
    "#     kmeans = KMeans(n_clusters=k)\n",
    "#     kmeans.fit(data)\n",
    "#     inertias.append(kmeans.inertia_)\n",
    "\n",
    "# # Plot the inertia vs k.\n",
    "# plt.plot(range(2, 10), inertias, 'bx-')\n",
    "# plt.xlabel('k')\n",
    "# plt.ylabel('Inertia')\n",
    "# plt.title('Elbow Method')\n",
    "# plt.show()"
   ]
  },
  {
   "cell_type": "markdown",
   "metadata": {},
   "source": []
  },
  {
   "cell_type": "markdown",
   "metadata": {},
   "source": [
    "##### news_category task"
   ]
  },
  {
   "cell_type": "markdown",
   "metadata": {},
   "source": [
    "##### StandardScalar transformed"
   ]
  },
  {
   "cell_type": "code",
   "execution_count": null,
   "metadata": {},
   "outputs": [],
   "source": [
    "# Train the model for the news_category task.\n",
    "knn.fit(X_train3, y_train3)"
   ]
  },
  {
   "cell_type": "code",
   "execution_count": null,
   "metadata": {},
   "outputs": [],
   "source": [
    "# Make predictions on the test set for the news_category task.\n",
    "knn_y_pred3 = knn.predict(X_test3)"
   ]
  },
  {
   "cell_type": "code",
   "execution_count": null,
   "metadata": {},
   "outputs": [],
   "source": [
    "# Calculate the accuracy, precision, recall, and F1 score of the model on the test data for the news_category task.\n",
    "knn_accuracy3 = accuracy_score(y_test3, knn_y_pred3)\n",
    "knn_precision3 = precision_score(y_test3, knn_y_pred3, average='macro')\n",
    "knn_recall3 = recall_score(y_test3, knn_y_pred3, average='macro')\n",
    "knn_f1_score3 = f1_score(y_test3, knn_y_pred3, average='macro')\n",
    "\n",
    "# Create an array to store the model evaluation metrics for the news_category task.\n",
    "knn_model_scores3 = np.array([knn_accuracy3, knn_precision3, knn_recall3, knn_f1_score3])\n",
    "print('KNN on news_category Task')\n",
    "print(knn_model_scores3)\n",
    "print('---------------------------------------------------------')\n",
    "print('KNN accuracy:', knn_accuracy3)\n",
    "print('KNN precision:', knn_precision3)\n",
    "print('KNN recall:', knn_recall3)\n",
    "print('KNN F1 score:', knn_f1_score3)"
   ]
  },
  {
   "cell_type": "markdown",
   "metadata": {},
   "source": [
    "### Adjust parameters as appropriate to increase generalization performance using your chosen metric."
   ]
  },
  {
   "cell_type": "code",
   "execution_count": null,
   "metadata": {},
   "outputs": [],
   "source": [
    "# # Dimensionality Reduction Using Feature Selection\n",
    "\n",
    "# # Create a SelectKBest object with k=10.\n",
    "# selector = SelectKBest(f_classif, k=10)\n",
    "\n",
    "# # Fit the selector to the data.\n",
    "# selector.fit(X, y)\n",
    "\n",
    "# # Get the selected features.\n",
    "# selected_features = selector.get_support()\n",
    "\n",
    "# # Reduce the dataset to the selected features.\n",
    "# X_reduced = X[:, selected_features]\n",
    "\n",
    "# We will want to identify the elbow point because this is the point where the rrate of change of the curve starts to rapidly decrease \n",
    "\n",
    "# # Calculate the inertia for different values of k.\n",
    "# inertias = []\n",
    "# for k in range(2, 10):\n",
    "#     kmeans = KMeans(n_clusters=k)\n",
    "#     kmeans.fit(data)\n",
    "#     inertias.append(kmeans.inertia_)\n",
    "\n",
    "# # Plot the inertia vs k.\n",
    "# plt.plot(range(2, 10), inertias, 'bx-')\n",
    "# plt.xlabel('k')\n",
    "# plt.ylabel('Inertia')\n",
    "# plt.title('Elbow Method')\n",
    "# plt.show()"
   ]
  },
  {
   "cell_type": "markdown",
   "metadata": {},
   "source": []
  },
  {
   "cell_type": "markdown",
   "metadata": {},
   "source": [
    "##### QuantileTransformer transformed"
   ]
  },
  {
   "cell_type": "code",
   "execution_count": null,
   "metadata": {},
   "outputs": [],
   "source": [
    "# Train the model for the news_category task.\n",
    "knn.fit(X_train3, y_train3)"
   ]
  },
  {
   "cell_type": "code",
   "execution_count": null,
   "metadata": {},
   "outputs": [],
   "source": [
    "# Make predictions on the test set for the news_category task.\n",
    "knn_y_pred_q3 = knn.predict(X_test3)"
   ]
  },
  {
   "cell_type": "code",
   "execution_count": null,
   "metadata": {},
   "outputs": [],
   "source": [
    "# Calculate the accuracy, precision, recall, and F1 score of the model on the test data for the news_category task.\n",
    "knn_accuracy_q3 = accuracy_score(y_test3, knn_y_pred_q3)\n",
    "knn_precision_q3 = precision_score(y_test3, knn_y_pred_q3, average='macro')\n",
    "knn_recall_q3 = recall_score(y_test3, knn_y_pred_q3, average='macro')\n",
    "knn_f1_score_q3 = f1_score(y_test3, knn_y_pred_q3, average='macro')\n",
    "\n",
    "# Create an array to store the model evaluation metrics for the news_category task.\n",
    "knn_model_scores_q3 = np.array([knn_accuracy_q3, knn_precision_q3, knn_recall_q3, knn_f1_score_q3])\n",
    "print('KNN on news_category Task')\n",
    "print(knn_model_scores_q3)\n",
    "print('---------------------------------------------------------')\n",
    "print('KNN accuracy:', knn_accuracy_q3)\n",
    "print('KNN precision:', knn_precision_q3)\n",
    "print('KNN recall:', knn_recall_q3)\n",
    "print('KNN F1 score:', knn_f1_score_q3)"
   ]
  },
  {
   "cell_type": "markdown",
   "metadata": {},
   "source": [
    "### Adjust parameters as appropriate to increase generalization performance using your chosen metric."
   ]
  },
  {
   "cell_type": "code",
   "execution_count": null,
   "metadata": {},
   "outputs": [],
   "source": [
    "# # Dimensionality Reduction Using Feature Selection\n",
    "\n",
    "# # Create a SelectKBest object with k=10.\n",
    "# selector = SelectKBest(f_classif, k=10)\n",
    "\n",
    "# # Fit the selector to the data.\n",
    "# selector.fit(X, y)\n",
    "\n",
    "# # Get the selected features.\n",
    "# selected_features = selector.get_support()\n",
    "\n",
    "# # Reduce the dataset to the selected features.\n",
    "# X_reduced = X[:, selected_features]\n",
    "\n",
    "# We will want to identify the elbow point because this is the point where the rrate of change of the curve starts to rapidly decrease \n",
    "\n",
    "# # Calculate the inertia for different values of k.\n",
    "# inertias = []\n",
    "# for k in range(2, 10):\n",
    "#     kmeans = KMeans(n_clusters=k)\n",
    "#     kmeans.fit(data)\n",
    "#     inertias.append(kmeans.inertia_)\n",
    "\n",
    "# # Plot the inertia vs k.\n",
    "# plt.plot(range(2, 10), inertias, 'bx-')\n",
    "# plt.xlabel('k')\n",
    "# plt.ylabel('Inertia')\n",
    "# plt.title('Elbow Method')\n",
    "# plt.show()"
   ]
  },
  {
   "cell_type": "markdown",
   "metadata": {},
   "source": []
  },
  {
   "cell_type": "markdown",
   "metadata": {},
   "source": [
    "#### SVM"
   ]
  },
  {
   "cell_type": "markdown",
   "metadata": {},
   "source": [
    "##### share_quantile_ranges task"
   ]
  },
  {
   "cell_type": "code",
   "execution_count": null,
   "metadata": {},
   "outputs": [],
   "source": [
    "# Set the model parameters\n",
    "C = 1.0\n",
    "kernel = 'linear'\n",
    "\n",
    "# Create the support vector machine model\n",
    "support_vector_machine_model = SVC(C=C, kernel=kernel)"
   ]
  },
  {
   "cell_type": "markdown",
   "metadata": {},
   "source": [
    "##### StandardScalar transformed"
   ]
  },
  {
   "cell_type": "code",
   "execution_count": null,
   "metadata": {},
   "outputs": [],
   "source": [
    "# Train the support vector machine model on the training set using a linear kernel for the share_quantile_ranges task.\n",
    "support_vector_machine_model.fit(X_train1, y_train1)"
   ]
  },
  {
   "cell_type": "code",
   "execution_count": null,
   "metadata": {},
   "outputs": [],
   "source": [
    "# Make predictions on the test data for the share_quantile_ranges task.\n",
    "svm_y_pred1 = support_vector_machine_model.predict(X_test1)"
   ]
  },
  {
   "cell_type": "code",
   "execution_count": null,
   "metadata": {},
   "outputs": [],
   "source": [
    "# Calculate the accuracy, precision, recall, and F1 score of the model on the test data for the share_quantile_ranges task.\n",
    "svm_accuracy1 = accuracy_score(y_test1, svm_y_pred1)\n",
    "svm_precision1 = precision_score(y_test1, svm_y_pred1, average='macro')\n",
    "svm_recall1 = recall_score(y_test1, svm_y_pred1, average='macro')\n",
    "svm_f1_score1 = f1_score(y_test1, svm_y_pred1, average='macro')\n",
    "\n",
    "# Create an array to store the model evaluation metrics for the share_quantile_ranges task.\n",
    "svm_model_scores1 = np.array([svm_accuracy1, svm_precision1, svm_recall1, svm_f1_score1])\n",
    "print('SVM on share_quantile_range Task')\n",
    "print(svm_model_scores1)\n",
    "print('---------------------------------------------------------')\n",
    "print('Support vector machine accuracy:', svm_accuracy1)\n",
    "print('Support vector machine precision:', svm_precision1)\n",
    "print('Support vector machine recall:', svm_recall1)\n",
    "print('Support vector machine F1 score:', svm_f1_score1)"
   ]
  },
  {
   "cell_type": "markdown",
   "metadata": {},
   "source": [
    "### Adjust parameters as appropriate to increase generalization performance using your chosen metric."
   ]
  },
  {
   "cell_type": "code",
   "execution_count": null,
   "metadata": {},
   "outputs": [],
   "source": [
    "# # Dimensionality Reduction Using Feature Selection\n",
    "\n",
    "# # Create a SelectKBest object with k=10.\n",
    "# selector = SelectKBest(f_classif, k=10)\n",
    "\n",
    "# # Fit the selector to the data.\n",
    "# selector.fit(X, y)\n",
    "\n",
    "# # Get the selected features.\n",
    "# selected_features = selector.get_support()\n",
    "\n",
    "# # Reduce the dataset to the selected features.\n",
    "# X_reduced = X[:, selected_features]\n",
    "\n",
    "# We will want to identify the elbow point because this is the point where the rrate of change of the curve starts to rapidly decrease \n",
    "\n",
    "# # Calculate the inertia for different values of k.\n",
    "# inertias = []\n",
    "# for k in range(2, 10):\n",
    "#     kmeans = KMeans(n_clusters=k)\n",
    "#     kmeans.fit(data)\n",
    "#     inertias.append(kmeans.inertia_)\n",
    "\n",
    "# # Plot the inertia vs k.\n",
    "# plt.plot(range(2, 10), inertias, 'bx-')\n",
    "# plt.xlabel('k')\n",
    "# plt.ylabel('Inertia')\n",
    "# plt.title('Elbow Method')\n",
    "# plt.show()"
   ]
  },
  {
   "cell_type": "markdown",
   "metadata": {},
   "source": []
  },
  {
   "cell_type": "markdown",
   "metadata": {},
   "source": [
    "##### QuantileTransformer transformed"
   ]
  },
  {
   "cell_type": "code",
   "execution_count": null,
   "metadata": {},
   "outputs": [],
   "source": [
    "# Train the support vector machine model on the training set using a linear kernel for the share_quantile_ranges task.\n",
    "support_vector_machine_model.fit(X_train1, y_train1)"
   ]
  },
  {
   "cell_type": "code",
   "execution_count": null,
   "metadata": {},
   "outputs": [],
   "source": [
    "# Make predictions on the test data for the share_quantile_ranges task.\n",
    "svm_y_pred_q1 = support_vector_machine_model.predict(X_test1)"
   ]
  },
  {
   "cell_type": "code",
   "execution_count": null,
   "metadata": {},
   "outputs": [],
   "source": [
    "# Calculate the accuracy, precision, recall, and F1 score of the model on the test data for the share_quantile_ranges task.\n",
    "svm_accuracy_q1 = accuracy_score(y_test1, svm_y_pred_q1)\n",
    "svm_precision_q1 = precision_score(y_test1, svm_y_pred_q1, average='macro')\n",
    "svm_recall_q1 = recall_score(y_test1, svm_y_pred_q1, average='macro')\n",
    "svm_f1_score_q1 = f1_score(y_test1, svm_y_pred_q1, average='macro')\n",
    "\n",
    "# Create an array to store the model evaluation metrics for the share_quantile_ranges task.\n",
    "svm_model_scores_q1 = np.array([svm_accuracy_q1, svm_precision_q1, svm_recall_q1, svm_f1_score_q1])\n",
    "print('SVM on share_quantile_range Task')\n",
    "print(svm_model_scores_q1)\n",
    "print('---------------------------------------------------------')\n",
    "print('Support vector machine accuracy:', svm_accuracy_q1)\n",
    "print('Support vector machine precision:', svm_precision_q1)\n",
    "print('Support vector machine recall:', svm_recall_q1)\n",
    "print('Support vector machine F1 score:', svm_f1_score_q1)"
   ]
  },
  {
   "cell_type": "markdown",
   "metadata": {},
   "source": [
    "### Adjust parameters as appropriate to increase generalization performance using your chosen metric."
   ]
  },
  {
   "cell_type": "code",
   "execution_count": null,
   "metadata": {},
   "outputs": [],
   "source": [
    "# # Dimensionality Reduction Using Feature Selection\n",
    "\n",
    "# # Create a SelectKBest object with k=10.\n",
    "# selector = SelectKBest(f_classif, k=10)\n",
    "\n",
    "# # Fit the selector to the data.\n",
    "# selector.fit(X, y)\n",
    "\n",
    "# # Get the selected features.\n",
    "# selected_features = selector.get_support()\n",
    "\n",
    "# # Reduce the dataset to the selected features.\n",
    "# X_reduced = X[:, selected_features]\n",
    "\n",
    "# We will want to identify the elbow point because this is the point where the rrate of change of the curve starts to rapidly decrease \n",
    "\n",
    "# # Calculate the inertia for different values of k.\n",
    "# inertias = []\n",
    "# for k in range(2, 10):\n",
    "#     kmeans = KMeans(n_clusters=k)\n",
    "#     kmeans.fit(data)\n",
    "#     inertias.append(kmeans.inertia_)\n",
    "\n",
    "# # Plot the inertia vs k.\n",
    "# plt.plot(range(2, 10), inertias, 'bx-')\n",
    "# plt.xlabel('k')\n",
    "# plt.ylabel('Inertia')\n",
    "# plt.title('Elbow Method')\n",
    "# plt.show()"
   ]
  },
  {
   "cell_type": "markdown",
   "metadata": {},
   "source": []
  },
  {
   "cell_type": "markdown",
   "metadata": {},
   "source": [
    "##### day_of_week task"
   ]
  },
  {
   "cell_type": "markdown",
   "metadata": {},
   "source": [
    "##### StandardScalar"
   ]
  },
  {
   "cell_type": "code",
   "execution_count": null,
   "metadata": {},
   "outputs": [],
   "source": [
    "# Train the support vector machine model on the training set using a linear kernel for the day_of_week task.\n",
    "support_vector_machine_model.fit(X_train2, y_train2)"
   ]
  },
  {
   "cell_type": "code",
   "execution_count": null,
   "metadata": {},
   "outputs": [],
   "source": [
    "# Make predictions on the test data for the day_of_week task.\n",
    "svm_y_pred2 = support_vector_machine_model.predict(X_test2)"
   ]
  },
  {
   "cell_type": "code",
   "execution_count": null,
   "metadata": {},
   "outputs": [],
   "source": [
    "# Calculate the accuracy, precision, recall, and F1 score of the model on the test data for the day_of_week task.\n",
    "svm_accuracy2 = accuracy_score(y_test2, svm_y_pred2)\n",
    "svm_precision2 = precision_score(y_test2, svm_y_pred2, average='macro')\n",
    "svm_recall2 = recall_score(y_test2, svm_y_pred2, average='macro')\n",
    "svm_f1_score2 = f1_score(y_test2, svm_y_pred2, average='macro')\n",
    "\n",
    "# Create an array to store the model evaluation metrics for the day_of_week task\n",
    "svm_model_scores2 = np.array([svm_accuracy2, svm_precision2, svm_recall2, svm_f1_score2])\n",
    "print('SVM on day_of_week Task')\n",
    "print(svm_model_scores2)\n",
    "print('---------------------------------------------------------')\n",
    "print('Support vector machine accuracy:', svm_accuracy2)\n",
    "print('Support vector machine precision:', svm_precision2)\n",
    "print('Support vector machine recall:', svm_recall2)\n",
    "print('Support vector machine F1 score:', svm_f1_score2)"
   ]
  },
  {
   "cell_type": "markdown",
   "metadata": {},
   "source": [
    "### Adjust parameters as appropriate to increase generalization performance using your chosen metric."
   ]
  },
  {
   "cell_type": "code",
   "execution_count": null,
   "metadata": {},
   "outputs": [],
   "source": [
    "# # Dimensionality Reduction Using Feature Selection\n",
    "\n",
    "# # Create a SelectKBest object with k=10.\n",
    "# selector = SelectKBest(f_classif, k=10)\n",
    "\n",
    "# # Fit the selector to the data.\n",
    "# selector.fit(X, y)\n",
    "\n",
    "# # Get the selected features.\n",
    "# selected_features = selector.get_support()\n",
    "\n",
    "# # Reduce the dataset to the selected features.\n",
    "# X_reduced = X[:, selected_features]\n",
    "\n",
    "# We will want to identify the elbow point because this is the point where the rrate of change of the curve starts to rapidly decrease \n",
    "\n",
    "# # Calculate the inertia for different values of k.\n",
    "# inertias = []\n",
    "# for k in range(2, 10):\n",
    "#     kmeans = KMeans(n_clusters=k)\n",
    "#     kmeans.fit(data)\n",
    "#     inertias.append(kmeans.inertia_)\n",
    "\n",
    "# # Plot the inertia vs k.\n",
    "# plt.plot(range(2, 10), inertias, 'bx-')\n",
    "# plt.xlabel('k')\n",
    "# plt.ylabel('Inertia')\n",
    "# plt.title('Elbow Method')\n",
    "# plt.show()"
   ]
  },
  {
   "cell_type": "markdown",
   "metadata": {},
   "source": []
  },
  {
   "cell_type": "markdown",
   "metadata": {},
   "source": [
    "##### QuantileTransformer"
   ]
  },
  {
   "cell_type": "code",
   "execution_count": null,
   "metadata": {},
   "outputs": [],
   "source": [
    "# Train the support vector machine model on the training set using a linear kernel for the day_of_week task.\n",
    "support_vector_machine_model.fit(X_train2, y_train2)"
   ]
  },
  {
   "cell_type": "code",
   "execution_count": null,
   "metadata": {},
   "outputs": [],
   "source": [
    "# Make predictions on the test data for the day_of_week task.\n",
    "svm_y_pred_q2 = support_vector_machine_model.predict(X_test2)"
   ]
  },
  {
   "cell_type": "code",
   "execution_count": null,
   "metadata": {},
   "outputs": [],
   "source": [
    "# Calculate the accuracy, precision, recall, and F1 score of the model on the test data for the day_of_week task.\n",
    "svm_accuracy_q2 = accuracy_score(y_test2, svm_y_pred_q2)\n",
    "svm_precision_q2 = precision_score(y_test2, svm_y_pred_q2, average='macro')\n",
    "svm_recall_q2 = recall_score(y_test2, svm_y_pred_q2, average='macro')\n",
    "svm_f1_score_q2 = f1_score(y_test2, svm_y_pred_q2, average='macro')\n",
    "\n",
    "# Create an array to store the model evaluation metrics for the day_of_week task\n",
    "svm_model_scores_q2 = np.array([svm_accuracy_q2, svm_precision_q2, svm_recall_q2, svm_f1_score_q2])\n",
    "print('SVM on day_of_week Task')\n",
    "print(svm_model_scores_q2)\n",
    "print('---------------------------------------------------------')\n",
    "print('Support vector machine accuracy:', svm_accuracy_q2)\n",
    "print('Support vector machine precision:', svm_precision_q2)\n",
    "print('Support vector machine recall:', svm_recall_q2)\n",
    "print('Support vector machine F1 score:', svm_f1_score_q2)"
   ]
  },
  {
   "cell_type": "markdown",
   "metadata": {},
   "source": [
    "### Adjust parameters as appropriate to increase generalization performance using your chosen metric."
   ]
  },
  {
   "cell_type": "code",
   "execution_count": null,
   "metadata": {},
   "outputs": [],
   "source": [
    "# # Dimensionality Reduction Using Feature Selection\n",
    "\n",
    "# # Create a SelectKBest object with k=10.\n",
    "# selector = SelectKBest(f_classif, k=10)\n",
    "\n",
    "# # Fit the selector to the data.\n",
    "# selector.fit(X, y)\n",
    "\n",
    "# # Get the selected features.\n",
    "# selected_features = selector.get_support()\n",
    "\n",
    "# # Reduce the dataset to the selected features.\n",
    "# X_reduced = X[:, selected_features]\n",
    "\n",
    "# We will want to identify the elbow point because this is the point where the rrate of change of the curve starts to rapidly decrease \n",
    "\n",
    "# # Calculate the inertia for different values of k.\n",
    "# inertias = []\n",
    "# for k in range(2, 10):\n",
    "#     kmeans = KMeans(n_clusters=k)\n",
    "#     kmeans.fit(data)\n",
    "#     inertias.append(kmeans.inertia_)\n",
    "\n",
    "# # Plot the inertia vs k.\n",
    "# plt.plot(range(2, 10), inertias, 'bx-')\n",
    "# plt.xlabel('k')\n",
    "# plt.ylabel('Inertia')\n",
    "# plt.title('Elbow Method')\n",
    "# plt.show()"
   ]
  },
  {
   "cell_type": "markdown",
   "metadata": {},
   "source": []
  },
  {
   "cell_type": "markdown",
   "metadata": {},
   "source": [
    "##### news_category task\n",
    "This task appears to be incompatible with the SVM model as it takes much too long to train the model"
   ]
  },
  {
   "cell_type": "markdown",
   "metadata": {},
   "source": [
    "##### StandardScalar"
   ]
  },
  {
   "cell_type": "code",
   "execution_count": null,
   "metadata": {},
   "outputs": [],
   "source": [
    "# Train the support vector machine model on the training set using a linear kernel for the news_category task.\n",
    "# support_vector_machine_model.fit(X_train3, y_train3)"
   ]
  },
  {
   "cell_type": "code",
   "execution_count": null,
   "metadata": {},
   "outputs": [],
   "source": [
    "# Make predictions on the test data for the news_category task.\n",
    "# svm_y_pred3 = support_vector_machine_model.predict(X_test3)"
   ]
  },
  {
   "cell_type": "code",
   "execution_count": null,
   "metadata": {},
   "outputs": [],
   "source": [
    "# Calculate the accuracy, precision, recall, and F1 score of the model on the test data for the news_category task.\n",
    "# svm_accuracy3 = accuracy_score(y_test3, svm_y_pred3)\n",
    "# svm_precision3 = precision_score(y_test3, svm_y_pred3, average='macro')\n",
    "# svm_recall3 = recall_score(y_test3, svm_y_pred3, average='macro')\n",
    "# svm_f1_score3 = f1_score(y_test3, svm_y_pred3, average='macro')\n",
    "\n",
    "# # Create an array to store the model evaluation metrics for the news_category task\n",
    "# svm_model_scores3 = np.array([svm_accuracy3, svm_precision3, svm_recall3, svm_f1_score3])\n",
    "# print('SVM on news_category Task')\n",
    "# print(svm_model_scores3)\n",
    "# print('---------------------------------------------------------')\n",
    "# print('Support vector machine accuracy:', svm_accuracy3)\n",
    "# print('Support vector machine precision:', svm_precision3)\n",
    "# print('Support vector machine recall:', svm_recall3)\n",
    "# print('Support vector machine F1 score:', svm_f1_score3)"
   ]
  },
  {
   "cell_type": "markdown",
   "metadata": {},
   "source": [
    "### Adjust parameters as appropriate to increase generalization performance using your chosen metric."
   ]
  },
  {
   "cell_type": "code",
   "execution_count": null,
   "metadata": {},
   "outputs": [],
   "source": [
    "# # Dimensionality Reduction Using Feature Selection\n",
    "\n",
    "# # Create a SelectKBest object with k=10.\n",
    "# selector = SelectKBest(f_classif, k=10)\n",
    "\n",
    "# # Fit the selector to the data.\n",
    "# selector.fit(X, y)\n",
    "\n",
    "# # Get the selected features.\n",
    "# selected_features = selector.get_support()\n",
    "\n",
    "# # Reduce the dataset to the selected features.\n",
    "# X_reduced = X[:, selected_features]\n",
    "\n",
    "# We will want to identify the elbow point because this is the point where the rrate of change of the curve starts to rapidly decrease \n",
    "\n",
    "# # Calculate the inertia for different values of k.\n",
    "# inertias = []\n",
    "# for k in range(2, 10):\n",
    "#     kmeans = KMeans(n_clusters=k)\n",
    "#     kmeans.fit(data)\n",
    "#     inertias.append(kmeans.inertia_)\n",
    "\n",
    "# # Plot the inertia vs k.\n",
    "# plt.plot(range(2, 10), inertias, 'bx-')\n",
    "# plt.xlabel('k')\n",
    "# plt.ylabel('Inertia')\n",
    "# plt.title('Elbow Method')\n",
    "# plt.show()"
   ]
  },
  {
   "cell_type": "markdown",
   "metadata": {},
   "source": []
  },
  {
   "cell_type": "markdown",
   "metadata": {},
   "source": [
    "##### QuantileTransformer"
   ]
  },
  {
   "cell_type": "code",
   "execution_count": null,
   "metadata": {},
   "outputs": [],
   "source": [
    "# # Train the support vector machine model on the training set using a linear kernel for the news_category task.\n",
    "# support_vector_machine_model.fit(X_train3, y_train3)"
   ]
  },
  {
   "cell_type": "code",
   "execution_count": null,
   "metadata": {},
   "outputs": [],
   "source": [
    "# # Make predictions on the test data for the news_category task.\n",
    "# svm_y_pred_q3 = support_vector_machine_model.predict(X_test3)"
   ]
  },
  {
   "cell_type": "code",
   "execution_count": null,
   "metadata": {},
   "outputs": [],
   "source": [
    "# # Calculate the accuracy, precision, recall, and F1 score of the model on the test data for the news_category task.\n",
    "# svm_accuracy_q3 = accuracy_score(y_test3, svm_y_pred_q3)\n",
    "# svm_precision_q3 = precision_score(y_test3, svm_y_pred_q3, average='macro')\n",
    "# svm_recall_q3 = recall_score(y_test3, svm_y_pred_q3, average='macro')\n",
    "# svm_f1_score_q3 = f1_score(y_test3, svm_y_pred_q3, average='macro')\n",
    "\n",
    "# # Create an array to store the model evaluation metrics for the news_category task\n",
    "# svm_model_scores_q3 = np.array([svm_accuracy_q3, svm_precision_q3, svm_recall_q3, svm_f1_score_q3])\n",
    "# print('SVM on news_category Task')\n",
    "# print(svm_model_scores_q3)\n",
    "# print('---------------------------------------------------------')\n",
    "# print('Support vector machine accuracy:', svm_accuracy_q3)\n",
    "# print('Support vector machine precision:', svm_precision_q3)\n",
    "# print('Support vector machine recall:', svm_recall_q3)\n",
    "# print('Support vector machine F1 score:', svm_f1_score_q3)"
   ]
  },
  {
   "cell_type": "markdown",
   "metadata": {},
   "source": [
    "### Adjust parameters as appropriate to increase generalization performance using your chosen metric."
   ]
  },
  {
   "cell_type": "code",
   "execution_count": null,
   "metadata": {},
   "outputs": [],
   "source": [
    "# # Dimensionality Reduction Using Feature Selection\n",
    "\n",
    "# # Create a SelectKBest object with k=10.\n",
    "# selector = SelectKBest(f_classif, k=10)\n",
    "\n",
    "# # Fit the selector to the data.\n",
    "# selector.fit(X, y)\n",
    "\n",
    "# # Get the selected features.\n",
    "# selected_features = selector.get_support()\n",
    "\n",
    "# # Reduce the dataset to the selected features.\n",
    "# X_reduced = X[:, selected_features]\n",
    "\n",
    "# We will want to identify the elbow point because this is the point where the rrate of change of the curve starts to rapidly decrease \n",
    "\n",
    "# # Calculate the inertia for different values of k.\n",
    "# inertias = []\n",
    "# for k in range(2, 10):\n",
    "#     kmeans = KMeans(n_clusters=k)\n",
    "#     kmeans.fit(data)\n",
    "#     inertias.append(kmeans.inertia_)\n",
    "\n",
    "# # Plot the inertia vs k.\n",
    "# plt.plot(range(2, 10), inertias, 'bx-')\n",
    "# plt.xlabel('k')\n",
    "# plt.ylabel('Inertia')\n",
    "# plt.title('Elbow Method')\n",
    "# plt.show()"
   ]
  },
  {
   "cell_type": "markdown",
   "metadata": {},
   "source": []
  },
  {
   "cell_type": "markdown",
   "metadata": {},
   "source": [
    "# Modeling and Evaluation 4 (10 points total)"
   ]
  },
  {
   "cell_type": "markdown",
   "metadata": {},
   "source": [
    "## Analyze the results using your chosen method of evaluation."
   ]
  },
  {
   "cell_type": "markdown",
   "metadata": {},
   "source": [
    "### Use visualizations of the results to bolster the analysis."
   ]
  },
  {
   "cell_type": "code",
   "execution_count": null,
   "metadata": {},
   "outputs": [],
   "source": []
  },
  {
   "cell_type": "markdown",
   "metadata": {},
   "source": [
    "\n",
    "### Explain any visuals and analyze why they are interesting to someone that might use this model."
   ]
  },
  {
   "cell_type": "markdown",
   "metadata": {},
   "source": []
  },
  {
   "cell_type": "markdown",
   "metadata": {},
   "source": [
    "# Modeling and Evaluation 5 (10 points total)"
   ]
  },
  {
   "cell_type": "markdown",
   "metadata": {},
   "source": [
    "## Discuss the advantages of each model for each classification task, if any."
   ]
  },
  {
   "cell_type": "markdown",
   "metadata": {},
   "source": [
    "### If there are not advantages, explain why."
   ]
  },
  {
   "cell_type": "markdown",
   "metadata": {},
   "source": [
    "#### K-Nearest Neighbors (KNN)\n"
   ]
  },
  {
   "cell_type": "markdown",
   "metadata": {},
   "source": [
    "#### Random Forest\n"
   ]
  },
  {
   "cell_type": "markdown",
   "metadata": {},
   "source": [
    "#### Support Vector Machine (SVM)\n"
   ]
  },
  {
   "cell_type": "markdown",
   "metadata": {},
   "source": [
    "### Is any model better than another?"
   ]
  },
  {
   "cell_type": "markdown",
   "metadata": {},
   "source": []
  },
  {
   "cell_type": "markdown",
   "metadata": {},
   "source": [
    "### Is the difference significant with 95% confidence? Use proper statistical comparison methods."
   ]
  },
  {
   "cell_type": "markdown",
   "metadata": {},
   "source": [
    "#### share_quantile_ranges task\n",
    "StandardScalar"
   ]
  },
  {
   "cell_type": "code",
   "execution_count": null,
   "metadata": {},
   "outputs": [],
   "source": [
    "# StandardScalar transformed accuracy scores\n",
    "print(rf_model_scores1) # share_quantile_ranges task\n",
    "print(knn_model_scores1) # day_of_week task\n",
    "print(svm_model_scores1) # news_category task"
   ]
  },
  {
   "cell_type": "code",
   "execution_count": null,
   "metadata": {},
   "outputs": [],
   "source": [
    "# Load the model accuracy scores\n",
    "model1_scores = rf_model_scores1\n",
    "model2_scores = knn_model_scores1\n",
    "model3_scores = svm_model_scores1\n",
    "\n",
    "# Perform a paired t-test\n",
    "t_statistic, p_value1 = ttest_rel(model1_scores, model2_scores)\n",
    "\n",
    "print(\"Random Forest vs. KNN\")\n",
    "# Check if the difference is significant with 95% confidence\n",
    "if p_value1 < 0.05:\n",
    "  print(\"The difference between the two models is statistically significant.\")\n",
    "else:\n",
    "  print(\"The difference between the two models is not statistically significant.\")\n",
    "\n",
    "print('---------------------------------------------------------')\n",
    "\n",
    "# Perform a paired t-test\n",
    "t_statistic, p_value2 = ttest_rel(model1_scores, model3_scores)\n",
    "\n",
    "print(\"Random Forest vs. SVM\")\n",
    "# Check if the difference is significant with 95% confidence\n",
    "if p_value2 < 0.05:\n",
    "  print(\"The difference between the two models is statistically significant.\")\n",
    "else:\n",
    "  print(\"The difference between the two models is not statistically significant.\")\n",
    "\n",
    "print('---------------------------------------------------------')\n",
    "\n",
    "# Perform a paired t-test\n",
    "t_statistic, p_value3 = ttest_rel(model2_scores, model3_scores)\n",
    "\n",
    "print(\"KNN vs. SVM\")\n",
    "# Check if the difference is significant with 95% confidence\n",
    "if p_value2 < 0.05:\n",
    "  print(\"The difference between the two models is statistically significant.\")\n",
    "else:\n",
    "  print(\"The difference between the two models is not statistically significant.\")"
   ]
  },
  {
   "cell_type": "markdown",
   "metadata": {},
   "source": [
    "QuantileTransformer"
   ]
  },
  {
   "cell_type": "code",
   "execution_count": null,
   "metadata": {},
   "outputs": [],
   "source": [
    "# QuantileTransformer transformed accuracy scores\n",
    "print(rf_model_scores_q1) # share_quantile_ranges task\n",
    "print(knn_model_scores_q1) # day_of_week task\n",
    "print(svm_model_scores_q1) # news_category task"
   ]
  },
  {
   "cell_type": "code",
   "execution_count": null,
   "metadata": {},
   "outputs": [],
   "source": [
    "# Load the model accuracy scores\n",
    "model1_scores = rf_model_scores_q1\n",
    "model2_scores = knn_model_scores_q1\n",
    "model3_scores = svm_model_scores_q1\n",
    "\n",
    "# Perform a paired t-test\n",
    "t_statistic, p_value1 = ttest_rel(model1_scores, model2_scores)\n",
    "\n",
    "print(\"Random Forest vs. KNN\")\n",
    "# Check if the difference is significant with 95% confidence\n",
    "if p_value1 < 0.05:\n",
    "  print(\"The difference between the two models is statistically significant.\")\n",
    "else:\n",
    "  print(\"The difference between the two models is not statistically significant.\")\n",
    "\n",
    "print('---------------------------------------------------------')\n",
    "\n",
    "# Perform a paired t-test\n",
    "t_statistic, p_value2 = ttest_rel(model1_scores, model3_scores)\n",
    "\n",
    "print(\"Random Forest vs. SVM\")\n",
    "# Check if the difference is significant with 95% confidence\n",
    "if p_value2 < 0.05:\n",
    "  print(\"The difference between the two models is statistically significant.\")\n",
    "else:\n",
    "  print(\"The difference between the two models is not statistically significant.\")\n",
    "\n",
    "print('---------------------------------------------------------')\n",
    "\n",
    "# Perform a paired t-test\n",
    "t_statistic, p_value3 = ttest_rel(model2_scores, model3_scores)\n",
    "\n",
    "print(\"KNN vs. SVM\")\n",
    "# Check if the difference is significant with 95% confidence\n",
    "if p_value2 < 0.05:\n",
    "  print(\"The difference between the two models is statistically significant.\")\n",
    "else:\n",
    "  print(\"The difference between the two models is not statistically significant.\")"
   ]
  },
  {
   "cell_type": "markdown",
   "metadata": {},
   "source": [
    "#### day_of_week task\n",
    "StandardScalar"
   ]
  },
  {
   "cell_type": "code",
   "execution_count": null,
   "metadata": {},
   "outputs": [],
   "source": [
    "# StandardScalar transformed accuracy scores\n",
    "print(rf_model_scores2) # share_quantile_ranges task\n",
    "print(knn_model_scores2) # day_of_week task\n",
    "print(svm_model_scores2) # news_category task"
   ]
  },
  {
   "cell_type": "code",
   "execution_count": null,
   "metadata": {},
   "outputs": [],
   "source": [
    "# Load the model accuracy scores\n",
    "model1_scores = rf_model_scores2\n",
    "model2_scores = knn_model_scores2\n",
    "model3_scores = svm_model_scores2\n",
    "\n",
    "# Perform a paired t-test\n",
    "t_statistic, p_value1 = ttest_rel(model1_scores, model2_scores)\n",
    "\n",
    "print(\"Random Forest vs. KNN\")\n",
    "# Check if the difference is significant with 95% confidence\n",
    "if p_value1 < 0.05:\n",
    "  print(\"The difference between the two models is statistically significant.\")\n",
    "else:\n",
    "  print(\"The difference between the two models is not statistically significant.\")\n",
    "\n",
    "print('---------------------------------------------------------')\n",
    "\n",
    "# Perform a paired t-test\n",
    "t_statistic, p_value2 = ttest_rel(model1_scores, model3_scores)\n",
    "\n",
    "print(\"Random Forest vs. SVM\")\n",
    "# Check if the difference is significant with 95% confidence\n",
    "if p_value2 < 0.05:\n",
    "  print(\"The difference between the two models is statistically significant.\")\n",
    "else:\n",
    "  print(\"The difference between the two models is not statistically significant.\")\n",
    "\n",
    "print('---------------------------------------------------------')\n",
    "\n",
    "# Perform a paired t-test\n",
    "t_statistic, p_value3 = ttest_rel(model2_scores, model3_scores)\n",
    "\n",
    "print(\"KNN vs. SVM\")\n",
    "# Check if the difference is significant with 95% confidence\n",
    "if p_value2 < 0.05:\n",
    "  print(\"The difference between the two models is statistically significant.\")\n",
    "else:\n",
    "  print(\"The difference between the two models is not statistically significant.\")"
   ]
  },
  {
   "cell_type": "markdown",
   "metadata": {},
   "source": [
    "QuantileTransformer"
   ]
  },
  {
   "cell_type": "code",
   "execution_count": null,
   "metadata": {},
   "outputs": [],
   "source": [
    "# QuantileTransformer transformed accuracy scores\n",
    "print(rf_model_scores_q2) # share_quantile_ranges task\n",
    "print(knn_model_scores_q2) # day_of_week task\n",
    "print(svm_model_scores_q2) # news_category task"
   ]
  },
  {
   "cell_type": "code",
   "execution_count": null,
   "metadata": {},
   "outputs": [],
   "source": [
    "# Load the model accuracy scores\n",
    "model1_scores = rf_model_scores_q2\n",
    "model2_scores = knn_model_scores_q2\n",
    "model3_scores = svm_model_scores_q2\n",
    "\n",
    "# Perform a paired t-test\n",
    "t_statistic, p_value1 = ttest_rel(model1_scores, model2_scores)\n",
    "\n",
    "print(\"Random Forest vs. KNN\")\n",
    "# Check if the difference is significant with 95% confidence\n",
    "if p_value1 < 0.05:\n",
    "  print(\"The difference between the two models is statistically significant.\")\n",
    "else:\n",
    "  print(\"The difference between the two models is not statistically significant.\")\n",
    "\n",
    "print('---------------------------------------------------------')\n",
    "\n",
    "# Perform a paired t-test\n",
    "t_statistic, p_value2 = ttest_rel(model1_scores, model3_scores)\n",
    "\n",
    "print(\"Random Forest vs. SVM\")\n",
    "# Check if the difference is significant with 95% confidence\n",
    "if p_value2 < 0.05:\n",
    "  print(\"The difference between the two models is statistically significant.\")\n",
    "else:\n",
    "  print(\"The difference between the two models is not statistically significant.\")\n",
    "\n",
    "print('---------------------------------------------------------')\n",
    "\n",
    "# Perform a paired t-test\n",
    "t_statistic, p_value3 = ttest_rel(model2_scores, model3_scores)\n",
    "\n",
    "print(\"KNN vs. SVM\")\n",
    "# Check if the difference is significant with 95% confidence\n",
    "if p_value2 < 0.05:\n",
    "  print(\"The difference between the two models is statistically significant.\")\n",
    "else:\n",
    "  print(\"The difference between the two models is not statistically significant.\")"
   ]
  },
  {
   "cell_type": "markdown",
   "metadata": {},
   "source": [
    "#### news_category task"
   ]
  },
  {
   "cell_type": "markdown",
   "metadata": {},
   "source": [
    "StandardScalar"
   ]
  },
  {
   "cell_type": "code",
   "execution_count": null,
   "metadata": {},
   "outputs": [],
   "source": [
    "# StandardScalar transformed accuracy scores\n",
    "print(rf_model_scores3) # share_quantile_ranges task\n",
    "print(knn_model_scores3) # day_of_week task\n",
    "# print(svm_model_scores_q2) # news_category task"
   ]
  },
  {
   "cell_type": "code",
   "execution_count": null,
   "metadata": {},
   "outputs": [],
   "source": [
    "# Load the model accuracy scores\n",
    "model1_scores = rf_model_scores3\n",
    "model2_scores = knn_model_scores3\n",
    "# model3_scores = svm_model_scores3\n",
    "\n",
    "# Perform a paired t-test\n",
    "t_statistic, p_value1 = ttest_rel(model1_scores, model2_scores)\n",
    "\n",
    "print(\"Random Forest vs. KNN\")\n",
    "# Check if the difference is significant with 95% confidence\n",
    "if p_value1 < 0.05:\n",
    "  print(\"The difference between the two models is statistically significant.\")\n",
    "else:\n",
    "  print(\"The difference between the two models is not statistically significant.\")\n",
    "\n",
    "print('---------------------------------------------------------')\n",
    "\n",
    "# # Perform a paired t-test\n",
    "# t_statistic, p_value2 = ttest_rel(model1_scores, model3_scores)\n",
    "\n",
    "# print(\"Random Forest vs. SVM\")\n",
    "# # Check if the difference is significant with 95% confidence\n",
    "# if p_value2 < 0.05:\n",
    "#   print(\"The difference between the two models is statistically significant.\")\n",
    "# else:\n",
    "#   print(\"The difference between the two models is not statistically significant.\")\n",
    "\n",
    "# print('---------------------------------------------------------')\n",
    "\n",
    "# # Perform a paired t-test\n",
    "# t_statistic, p_value3 = ttest_rel(model2_scores, model3_scores)\n",
    "\n",
    "# print(\"KNN vs. SVM\")\n",
    "# # Check if the difference is significant with 95% confidence\n",
    "# if p_value2 < 0.05:\n",
    "#   print(\"The difference between the two models is statistically significant.\")\n",
    "# else:\n",
    "#   print(\"The difference between the two models is not statistically significant.\")"
   ]
  },
  {
   "cell_type": "markdown",
   "metadata": {},
   "source": [
    "QuantileTransformer"
   ]
  },
  {
   "cell_type": "code",
   "execution_count": null,
   "metadata": {},
   "outputs": [],
   "source": [
    "# QuantileTransformer transformed accuracy scores\n",
    "print(rf_model_scores_q3) # share_quantile_ranges task\n",
    "print(knn_model_scores_q3) # day_of_week task\n",
    "# print(svm_model_scores_q3) # news_category task"
   ]
  },
  {
   "cell_type": "code",
   "execution_count": null,
   "metadata": {},
   "outputs": [],
   "source": [
    "# Load the model accuracy scores\n",
    "model1_scores = rf_model_scores_q3\n",
    "model2_scores = knn_model_scores_q3\n",
    "# model3_scores = svm_model_scores_q3\n",
    "\n",
    "# Perform a paired t-test\n",
    "t_statistic, p_value1 = ttest_rel(model1_scores, model2_scores)\n",
    "\n",
    "print(\"Random Forest vs. KNN\")\n",
    "# Check if the difference is significant with 95% confidence\n",
    "if p_value1 < 0.05:\n",
    "  print(\"The difference between the two models is statistically significant.\")\n",
    "else:\n",
    "  print(\"The difference between the two models is not statistically significant.\")\n",
    "\n",
    "print('---------------------------------------------------------')\n",
    "\n",
    "# # Perform a paired t-test\n",
    "# t_statistic, p_value2 = ttest_rel(model1_scores, model3_scores)\n",
    "\n",
    "# print(\"Random Forest vs. SVM\")\n",
    "# # Check if the difference is significant with 95% confidence\n",
    "# if p_value2 < 0.05:\n",
    "#   print(\"The difference between the two models is statistically significant.\")\n",
    "# else:\n",
    "#   print(\"The difference between the two models is not statistically significant.\")\n",
    "\n",
    "# print('---------------------------------------------------------')\n",
    "\n",
    "# # Perform a paired t-test\n",
    "# t_statistic, p_value3 = ttest_rel(model2_scores, model3_scores)\n",
    "\n",
    "# print(\"KNN vs. SVM\")\n",
    "# # Check if the difference is significant with 95% confidence\n",
    "# if p_value2 < 0.05:\n",
    "#   print(\"The difference between the two models is statistically significant.\")\n",
    "# else:\n",
    "#   print(\"The difference between the two models is not statistically significant.\")"
   ]
  },
  {
   "cell_type": "markdown",
   "metadata": {},
   "source": [
    "##### Now for determining if there is a statistically significant difference between transformation types StandardScalar & QuantileTransformation"
   ]
  },
  {
   "cell_type": "markdown",
   "metadata": {},
   "source": [
    "Random Forest Models"
   ]
  },
  {
   "cell_type": "code",
   "execution_count": null,
   "metadata": {},
   "outputs": [],
   "source": [
    "# StandardScalar transformed accuracy scores\n",
    "print(rf_model_scores1) # share_quantile_ranges task\n",
    "print(rf_model_scores2) # day_of_week task\n",
    "print(rf_model_scores3) # news_category task\n",
    "\n",
    "# QuantileTransformer transformed accuracy scores\n",
    "print(rf_model_scores_q1) # share_quantile_ranges task\n",
    "print(rf_model_scores_q2) # day_of_week task\n",
    "print(rf_model_scores_q3) # news_category task"
   ]
  },
  {
   "cell_type": "code",
   "execution_count": null,
   "metadata": {},
   "outputs": [],
   "source": [
    "# Load the model accuracy scores for QuantileTransformer transformed\n",
    "model1_scores = rf_model_scores1\n",
    "model2_scores = rf_model_scores2\n",
    "model3_scores = rf_model_scores3\n",
    "\n",
    "# Load the model accuracy scores for QuantileTransformer transformed\n",
    "model4_scores = rf_model_scores_q1\n",
    "model5_scores = rf_model_scores_q2\n",
    "model6_scores = rf_model_scores_q3\n",
    "\n",
    "# Perform a paired t-test\n",
    "t_statistic, p_value1 = ttest_rel(model1_scores, model4_scores)\n",
    "print(\"Random Forest Models\")\n",
    "print(\"StandardScalar vs. QuantileTransformation on share_quantile_ranges task\")\n",
    "# Check if the difference is significant with 95% confidence\n",
    "if p_value1 < 0.05:\n",
    "  print(\"The difference between the two models is statistically significant.\")\n",
    "else:\n",
    "  print(\"The difference between the two models is not statistically significant.\")\n",
    "\n",
    "print('---------------------------------------------------------')\n",
    "\n",
    "# Perform a paired t-test\n",
    "t_statistic, p_value2 = ttest_rel(model2_scores, model5_scores)\n",
    "\n",
    "print(\"StandardScalar vs. QuantileTransformation on day_of_week task\")\n",
    "# Check if the difference is significant with 95% confidence\n",
    "if p_value2 < 0.05:\n",
    "  print(\"The difference between the two models is statistically significant.\")\n",
    "else:\n",
    "  print(\"The difference between the two models is not statistically significant.\")\n",
    "\n",
    "print('---------------------------------------------------------')\n",
    "\n",
    "# Perform a paired t-test\n",
    "t_statistic, p_value3 = ttest_rel(model3_scores, model6_scores)\n",
    "\n",
    "print(\"StandardScalar vs. QuantileTransformation on news_category task\")\n",
    "# Check if the difference is significant with 95% confidence\n",
    "if p_value2 < 0.05:\n",
    "  print(\"The difference between the two models is statistically significant.\")\n",
    "else:\n",
    "  print(\"The difference between the two models is not statistically significant.\")"
   ]
  },
  {
   "cell_type": "markdown",
   "metadata": {},
   "source": [
    "KNN models"
   ]
  },
  {
   "cell_type": "code",
   "execution_count": null,
   "metadata": {},
   "outputs": [],
   "source": [
    "# StandardScalar transformed accuracy scores\n",
    "print(knn_model_scores1) # share_quantile_ranges task\n",
    "print(knn_model_scores2) # day_of_week task\n",
    "print(knn_model_scores3) # news_category task\n",
    "\n",
    "# QuantileTransformer transformed accuracy scores\n",
    "print(knn_model_scores_q1) # share_quantile_ranges task\n",
    "print(knn_model_scores_q2) # day_of_week task\n",
    "print(knn_model_scores_q3) # news_category task"
   ]
  },
  {
   "cell_type": "code",
   "execution_count": null,
   "metadata": {},
   "outputs": [],
   "source": [
    "# Load the model accuracy scores for QuantileTransformer transformed\n",
    "model1_scores = rf_model_scores1\n",
    "model2_scores = rf_model_scores2\n",
    "model3_scores = rf_model_scores3\n",
    "\n",
    "# Load the model accuracy scores for QuantileTransformer transformed\n",
    "model4_scores = rf_model_scores_q1\n",
    "model5_scores = rf_model_scores_q2\n",
    "model6_scores = rf_model_scores_q3\n",
    "\n",
    "# Perform a paired t-test\n",
    "t_statistic, p_value1 = ttest_rel(model1_scores, model4_scores)\n",
    "print(\"Random Forest Models\")\n",
    "print(\"StandardScalar vs. QuantileTransformation on share_quantile_ranges task\")\n",
    "# Check if the difference is significant with 95% confidence\n",
    "if p_value1 < 0.05:\n",
    "  print(\"The difference between the two models is statistically significant.\")\n",
    "else:\n",
    "  print(\"The difference between the two models is not statistically significant.\")\n",
    "\n",
    "print('---------------------------------------------------------')\n",
    "\n",
    "# Perform a paired t-test\n",
    "t_statistic, p_value2 = ttest_rel(model2_scores, model5_scores)\n",
    "\n",
    "print(\"StandardScalar vs. QuantileTransformation on day_of_week task\")\n",
    "# Check if the difference is significant with 95% confidence\n",
    "if p_value2 < 0.05:\n",
    "  print(\"The difference between the two models is statistically significant.\")\n",
    "else:\n",
    "  print(\"The difference between the two models is not statistically significant.\")\n",
    "\n",
    "print('---------------------------------------------------------')\n",
    "\n",
    "# Perform a paired t-test\n",
    "t_statistic, p_value3 = ttest_rel(model3_scores, model6_scores)\n",
    "\n",
    "print(\"StandardScalar vs. QuantileTransformation on news_category task\")\n",
    "# Check if the difference is significant with 95% confidence\n",
    "if p_value2 < 0.05:\n",
    "  print(\"The difference between the two models is statistically significant.\")\n",
    "else:\n",
    "  print(\"The difference between the two models is not statistically significant.\")"
   ]
  },
  {
   "cell_type": "markdown",
   "metadata": {},
   "source": [
    "SVM models"
   ]
  },
  {
   "cell_type": "code",
   "execution_count": null,
   "metadata": {},
   "outputs": [],
   "source": [
    "# StandardScalar transformed accuracy scores\n",
    "print(svm_model_scores1) # share_quantile_ranges task\n",
    "print(svm_model_scores2) # day_of_week task\n",
    "# print(svm_model_scores1) # news_category task\n",
    "\n",
    "# QuantileTransformer transformed accuracy scores\n",
    "print(svm_model_scores_q1) # share_quantile_ranges task\n",
    "print(svm_model_scores_q2) # day_of_week task\n",
    "# print(svm_model_scores_q3) # news_category task"
   ]
  },
  {
   "cell_type": "code",
   "execution_count": null,
   "metadata": {},
   "outputs": [],
   "source": [
    "# Load the model accuracy scores for QuantileTransformer transformed\n",
    "model1_scores = svm_model_scores1\n",
    "model2_scores = svm_model_scores2\n",
    "# model3_scores = svm_model_scores3\n",
    "\n",
    "# Load the model accuracy scores for QuantileTransformer transformed\n",
    "model4_scores = svm_model_scores_q1\n",
    "model5_scores = svm_model_scores_q2\n",
    "# model6_scores = svm_model_scores_q3\n",
    "\n",
    "# Perform a paired t-test\n",
    "t_statistic, p_value1 = ttest_rel(model1_scores, model4_scores)\n",
    "print(\"Random Forest Models\")\n",
    "print(\"StandardScalar vs. QuantileTransformation on share_quantile_ranges task\")\n",
    "# Check if the difference is significant with 95% confidence\n",
    "if p_value1 < 0.05:\n",
    "  print(\"The difference between the two models is statistically significant.\")\n",
    "else:\n",
    "  print(\"The difference between the two models is not statistically significant.\")\n",
    "\n",
    "print('---------------------------------------------------------')\n",
    "\n",
    "# Perform a paired t-test\n",
    "t_statistic, p_value2 = ttest_rel(model2_scores, model5_scores)\n",
    "\n",
    "print(\"StandardScalar vs. QuantileTransformation on day_of_week task\")\n",
    "# Check if the difference is significant with 95% confidence\n",
    "if p_value2 < 0.05:\n",
    "  print(\"The difference between the two models is statistically significant.\")\n",
    "else:\n",
    "  print(\"The difference between the two models is not statistically significant.\")\n",
    "\n",
    "print('---------------------------------------------------------')\n",
    "\n",
    "# # Perform a paired t-test\n",
    "# t_statistic, p_value3 = ttest_rel(model3_scores, model6_scores)\n",
    "\n",
    "# print(\"StandardScalar vs. QuantileTransformation on news_category task\")\n",
    "# # Check if the difference is significant with 95% confidence\n",
    "# if p_value2 < 0.05:\n",
    "#   print(\"The difference between the two models is statistically significant.\")\n",
    "# else:\n",
    "#   print(\"The difference between the two models is not statistically significant.\")"
   ]
  },
  {
   "cell_type": "markdown",
   "metadata": {},
   "source": [
    "# Modeling and Evaluation 6 (10 points total)"
   ]
  },
  {
   "cell_type": "markdown",
   "metadata": {},
   "source": [
    "## Which attributes from your analysis are most important?"
   ]
  },
  {
   "cell_type": "markdown",
   "metadata": {},
   "source": [
    "### Use proper methods discussed in class to evaluate the importance of different attributes."
   ]
  },
  {
   "cell_type": "code",
   "execution_count": null,
   "metadata": {},
   "outputs": [],
   "source": []
  },
  {
   "cell_type": "markdown",
   "metadata": {},
   "source": []
  },
  {
   "cell_type": "markdown",
   "metadata": {},
   "source": [
    "\n",
    "### Discuss the results and hypothesize about why certain attributes are more important than others for a given classification task."
   ]
  },
  {
   "cell_type": "markdown",
   "metadata": {},
   "source": []
  },
  {
   "cell_type": "markdown",
   "metadata": {},
   "source": [
    "# Deployment (5 points total)"
   ]
  },
  {
   "cell_type": "markdown",
   "metadata": {},
   "source": [
    "## How useful is your model for interested parties (i.e., the companies or organizations that might want to use it for prediction)?"
   ]
  },
  {
   "cell_type": "markdown",
   "metadata": {},
   "source": [
    "### How would you measure the model's value if it was used by these parties?"
   ]
  },
  {
   "cell_type": "markdown",
   "metadata": {},
   "source": []
  },
  {
   "cell_type": "markdown",
   "metadata": {},
   "source": [
    "\n",
    "### How would your deploy your model for interested parties?"
   ]
  },
  {
   "cell_type": "markdown",
   "metadata": {},
   "source": []
  },
  {
   "cell_type": "markdown",
   "metadata": {},
   "source": [
    "\n",
    "### What other data should be collected?"
   ]
  },
  {
   "cell_type": "markdown",
   "metadata": {},
   "source": []
  },
  {
   "cell_type": "markdown",
   "metadata": {},
   "source": [
    "\n",
    "### How often would the model need to be updated, etc.?"
   ]
  },
  {
   "cell_type": "markdown",
   "metadata": {},
   "source": []
  },
  {
   "cell_type": "markdown",
   "metadata": {},
   "source": [
    "# Exceptional Work (10 points total)"
   ]
  },
  {
   "cell_type": "markdown",
   "metadata": {},
   "source": [
    "## You have free reign to provide additional modeling."
   ]
  },
  {
   "cell_type": "markdown",
   "metadata": {},
   "source": [
    "### One idea: grid search parameters in a parallelized fashion and visualize the performances across attributes. Which parameters are most significant for making a good model for each classification algorithm"
   ]
  },
  {
   "cell_type": "markdown",
   "metadata": {},
   "source": []
  }
 ],
 "metadata": {
  "kernelspec": {
   "display_name": "Python 3 (ipykernel)",
   "language": "python",
   "name": "python3"
  },
  "language_info": {
   "codemirror_mode": {
    "name": "ipython",
    "version": 3
   },
   "file_extension": ".py",
   "mimetype": "text/x-python",
   "name": "python",
   "nbconvert_exporter": "python",
   "pygments_lexer": "ipython3",
   "version": "3.9.7"
  },
  "orig_nbformat": 4
 },
 "nbformat": 4,
 "nbformat_minor": 2
}
