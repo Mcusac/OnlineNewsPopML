{
 "cells": [
  {
   "cell_type": "code",
   "execution_count": null,
   "id": "813cff82",
   "metadata": {},
   "outputs": [],
   "source": [
    "import numpy as np\n",
    "import pandas as pd\n",
    "from sklearn.model_selection import train_test_split\n",
    "from sklearn.preprocessing import StandardScaler\n",
    "from sklearn.linear_model import LogisticRegression\n",
    "from sklearn.svm import SVC"
   ]
  },
  {
   "cell_type": "code",
   "execution_count": null,
   "id": "5b4d1618",
   "metadata": {},
   "outputs": [],
   "source": [
    "# Define Classes and Functions\n",
    "\n",
    "# Logistic Regression\n",
    "class LogisticRegressionModel:\n",
    "    def __init__(self, C=1.0):\n",
    "        self.model = LogisticRegression(C=C)\n",
    "\n",
    "    def train(self, X_train, y_train):\n",
    "        self.model.fit(X_train, y_train)\n",
    "\n",
    "    def predict(self, X_test):\n",
    "        return self.model.predict(X_test)\n",
    "\n",
    "# Support Vector Machine\n",
    "class SupportVectorMachineModel:\n",
    "    def __init__(self, C=1.0):\n",
    "        self.model = SVC(C=C, kernel='linear')\n",
    "\n",
    "    def train(self, X_train, y_train):\n",
    "        self.model.fit(X_train, y_train)\n",
    "\n",
    "    def predict(self, X_test):\n",
    "        return self.model.predict(X_test)\n",
    "\n",
    "# Evaluation\n",
    "def evaluate_model(model, X_test, y_test):\n",
    "    y_pred = model.predict(X_test)\n",
    "\n",
    "    accuracy = np.mean(y_pred == y_test)\n",
    "    precision = np.mean(y_pred[y_test == 1] == 1)\n",
    "    recall = np.mean(y_pred == y_test)[y_test == 1]\n",
    "    # F1 score: A harmonic mean of precision and recall.\n",
    "    f1_score = 2 * (precision * recall) / (precision + recall)\n",
    "\n",
    "    return accuracy, precision, recall, f1_score"
   ]
  },
  {
   "cell_type": "code",
   "execution_count": null,
   "id": "a20bc638",
   "metadata": {},
   "outputs": [],
   "source": [
    "# Load the dataset\n",
    "df = pd.read_csv('dataset.csv')\n",
    "\n",
    "# Split the dataset into 80% training and 20% testing sets.\n",
    "X = df.drop('target', axis=1)\n",
    "y = df['target']\n",
    "\n",
    "X_train, X_test, y_train, y_test = train_test_split(X, y, test_size=0.2)\n",
    "\n",
    "# Scale the features in the training and testing sets.\n",
    "scaler = StandardScaler()\n",
    "X_train = scaler.fit_transform(X_train)\n",
    "X_test = scaler.transform(X_test)"
   ]
  },
  {
   "cell_type": "markdown",
   "id": "415c7dc8",
   "metadata": {},
   "source": [
    "### Logistic regression model"
   ]
  },
  {
   "cell_type": "code",
   "execution_count": null,
   "id": "67140bbe",
   "metadata": {},
   "outputs": [],
   "source": [
    "# Create the logistic regression model\n",
    "logistic_regression_model = LogisticRegressionModel()\n",
    "\n",
    "# Train the logistic regression model on the training set.\n",
    "logistic_regression_model.train(X_train, y_train)logistic_regression_model.train(X_train, y_train)\n",
    "\n",
    "# Evaluate the model on the testing set to assess its performance.\n",
    "logistic_regression_accuracy, logistic_regression_precision, logistic_regression_recall, logistic_regression_f1_score = evaluate_model(logistic_regression_model, X_test, y_test)\n",
    "\n",
    "# Adjust the parameters of the model, such as the regularization parameter, to improve its performance."
   ]
  },
  {
   "cell_type": "markdown",
   "id": "c1f812dd",
   "metadata": {},
   "source": [
    "### Support vector machine model"
   ]
  },
  {
   "cell_type": "code",
   "execution_count": null,
   "id": "8b41b5f8",
   "metadata": {},
   "outputs": [],
   "source": [
    "# Create the support vector machine model\n",
    "support_vector_machine_model = SupportVectorMachineModel()\n",
    "\n",
    "# Train the support vector machine model on the training set using a linear kernel.\n",
    "support_vector_machine_model.train(X_train, y_train)\n",
    "\n",
    "# Evaluate the model on the testing set to assess its performance.\n",
    "support_vector_machine_accuracy, support_vector_machine_precision, support_vector_machine_recall, support_vector_machine_f1_score = evaluate_model(support_vector_machine_model, X_test, y_test)\n",
    "\n",
    "# Adjust the parameters of the model, such as the regularization parameter, to improve its performance.\n"
   ]
  },
  {
   "cell_type": "markdown",
   "id": "9b512496",
   "metadata": {},
   "source": [
    "### Adjusting parameters"
   ]
  },
  {
   "cell_type": "markdown",
   "id": "2084ecbb",
   "metadata": {},
   "source": [
    "To adjust the parameters of the logistic regression and support vector machine models, I would use a grid search approach. This involves training the models with a range of different parameter values and evaluating their performance on the testing set. \n",
    "The parameter values that produce the best performance on the testing set would then be selected as the final parameters for the model."
   ]
  },
  {
   "cell_type": "markdown",
   "id": "d843f833",
   "metadata": {},
   "source": [
    "### Stochastic gradient descent"
   ]
  },
  {
   "cell_type": "code",
   "execution_count": null,
   "id": "47452dcd",
   "metadata": {},
   "outputs": [],
   "source": [
    "# Initialize the model parameters to random values.\n",
    "\n",
    "# Iterate over the training data in batches.\n",
    "\n",
    "# For each batch, compute the gradients of the loss function with respect to the model parameters.\n",
    "\n",
    "# Update the model parameters using the gradients and a learning rate.\n",
    "\n",
    "# Repeat steps 2-4 until the model converges.\n"
   ]
  },
  {
   "cell_type": "markdown",
   "id": "37da5c70",
   "metadata": {},
   "source": [
    "### Evaluating model performance"
   ]
  },
  {
   "cell_type": "code",
   "execution_count": null,
   "id": "e4e76dcb",
   "metadata": {},
   "outputs": [],
   "source": [
    "# Accuracy: The proportion of predictions that are correct.\n",
    "# Precision: The proportion of positive predictions that are correct.\n",
    "# Recall: The proportion of positive examples that are correctly identified.\n",
    "# ROC\n",
    "# Print the evaluation results\n",
    "print('Logistic regression:')\n",
    "print('Accuracy:', logistic_regression_accuracy)\n",
    "print('Precision:', logistic_regression_precision)\n",
    "print('Recall:', logistic_regression_recall)\n",
    "print('F1 score:', logistic_regression_f1_score)\n",
    "print('ROC:', logistic_regression_roc)\n",
    "\n",
    "print('Support vector machine:')\n",
    "print('Accuracy:', support_vector_machine_accuracy)\n",
    "print('Precision:', support_vector_machine_precision)\n",
    "print('Recall:', support_vector_machine_recall)\n",
    "print('F1 score:', support_vector_machine_f1_score)\n",
    "print('ROC:', support_vector_machine_roc)"
   ]
  },
  {
   "cell_type": "markdown",
   "id": "bf7aa1a8",
   "metadata": {},
   "source": [
    "From ChatGPT:\n",
    "\n",
    "Which model to use?\n",
    "\n",
    "The best model to use for a particular classification task will depend on the specific characteristics of the data. Logistic regression is a good choice for tasks where the data is linearly separable and the dataset size is not too large. Support vector machines are a good choice for tasks where the data is not linearly separable, the dataset size is large, or there are outliers in the data.\n",
    "\n",
    "It is also important to note that support vector machines can be more computationally expensive to train than logistic regression models.\n",
    "\n",
    "Conclusion\n",
    "\n",
    "To create a logistic regression model and a support vector machine model for the classification task involved with my dataset, I would follow the steps outlined above. I would then adjust the parameters of the models to improve their performance and evaluate their performance on the testing set. The model with the best performance on the testing set would then be selected as the final model."
   ]
  }
 ],
 "metadata": {
  "kernelspec": {
   "display_name": "Python 3 (ipykernel)",
   "language": "python",
   "name": "python3"
  },
  "language_info": {
   "codemirror_mode": {
    "name": "ipython",
    "version": 3
   },
   "file_extension": ".py",
   "mimetype": "text/x-python",
   "name": "python",
   "nbconvert_exporter": "python",
   "pygments_lexer": "ipython3",
   "version": "3.7.1"
  }
 },
 "nbformat": 4,
 "nbformat_minor": 5
}
